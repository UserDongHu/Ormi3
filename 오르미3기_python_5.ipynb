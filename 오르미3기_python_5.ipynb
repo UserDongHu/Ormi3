{
  "nbformat": 4,
  "nbformat_minor": 0,
  "metadata": {
    "colab": {
      "provenance": [],
      "toc_visible": true,
      "authorship_tag": "ABX9TyMVX1bvPA4ySbu0doSoS34i",
      "include_colab_link": true
    },
    "kernelspec": {
      "name": "python3",
      "display_name": "Python 3"
    },
    "language_info": {
      "name": "python"
    }
  },
  "cells": [
    {
      "cell_type": "markdown",
      "metadata": {
        "id": "view-in-github",
        "colab_type": "text"
      },
      "source": [
        "<a href=\"https://colab.research.google.com/github/UserDongHu/Ormi3/blob/main/%EC%98%A4%EB%A5%B4%EB%AF%B83%EA%B8%B0_python_5.ipynb\" target=\"_parent\"><img src=\"https://colab.research.google.com/assets/colab-badge.svg\" alt=\"Open In Colab\"/></a>"
      ]
    },
    {
      "cell_type": "markdown",
      "source": [
        "# 클래스 변수와 인스턴스 변수"
      ],
      "metadata": {
        "id": "lO1Dg7gggheC"
      }
    },
    {
      "cell_type": "code",
      "execution_count": null,
      "metadata": {
        "colab": {
          "base_uri": "https://localhost:8080/"
        },
        "id": "ElmaUtQEgOsO",
        "outputId": "5b06e3e9-65f3-403e-f1fd-1ba980d03ae3"
      },
      "outputs": [
        {
          "output_type": "stream",
          "name": "stdout",
          "text": [
            "300\n",
            "300\n",
            "500\n"
          ]
        }
      ],
      "source": [
        "class Car:\n",
        "    # 클래스 변수의 위치\n",
        "    max_speed = 300\n",
        "    max_people = 5\n",
        "    car_gear = ['P', 'D', 'R', 'N']\n",
        "\n",
        "modelx = Car()\n",
        "modely = Car()\n",
        "\n",
        "modely.max_speed = 500\n",
        "\n",
        "print(Car.max_speed) # 300\n",
        "print(modelx.max_speed) # 300\n",
        "print(modely.max_speed) # 500(인스턴스 변수를 출력한 것)"
      ]
    },
    {
      "cell_type": "code",
      "source": [
        "class Car:\n",
        "    # 클래스 변수의 위치\n",
        "    max_speed = 300\n",
        "    max_people = 5\n",
        "    car_gear = ['P', 'D', 'R', 'N']\n",
        "\n",
        "modelx = Car()\n",
        "modely = Car()\n",
        "\n",
        "modely.max_speed = 500\n",
        "\n",
        "print(id(Car.max_speed)) # id가 같음\n",
        "print(id(modelx.max_speed))\n",
        "print(id(modely.max_speed)) # id가 다름"
      ],
      "metadata": {
        "colab": {
          "base_uri": "https://localhost:8080/"
        },
        "id": "ljFSeC1Wgqe-",
        "outputId": "aad883e1-cbb1-4412-f134-41fb561f7d65"
      },
      "execution_count": null,
      "outputs": [
        {
          "output_type": "stream",
          "name": "stdout",
          "text": [
            "135675434106928\n",
            "135675434106928\n",
            "135675434113520\n"
          ]
        }
      ]
    },
    {
      "cell_type": "code",
      "source": [
        "class Car:\n",
        "    kinds = []\n",
        "    speed = 300\n",
        "\n",
        "    def add_kinds(self, name):\n",
        "        self.kinds.append(name)\n",
        "\n",
        "    def change_speed(self, speed):\n",
        "        self.speed = speed\n",
        "\n",
        "modelx = Car()\n",
        "modely = Car()\n",
        "\n",
        "modelx.add_kinds('x')\n",
        "modely.add_kinds('y')\n",
        "\n",
        "Car.speed = 100\n",
        "\n",
        "# modelx.change_speed(500)\n",
        "# modely.change_speed(250)\n",
        "\n",
        "print(f'modelx.kinds: {modelx.kinds}')\n",
        "print(f'modely.kinds: {modely.kinds}')\n",
        "print(f'modelx.speed: {modelx.speed}')\n",
        "print(f'modely.speed: {modely.speed}')"
      ],
      "metadata": {
        "colab": {
          "base_uri": "https://localhost:8080/"
        },
        "id": "i2F8M3Y8hZ8u",
        "outputId": "87d24479-179b-406c-c0cf-7fe1bf7211a1"
      },
      "execution_count": null,
      "outputs": [
        {
          "output_type": "stream",
          "name": "stdout",
          "text": [
            "modelx.kinds: ['x', 'y']\n",
            "modely.kinds: ['x', 'y']\n",
            "modelx.speed: 100\n",
            "modely.speed: 100\n"
          ]
        }
      ]
    },
    {
      "cell_type": "code",
      "source": [
        "# 이런 문제는 실무에서 거의 발생하지 않음\n",
        "class Car:\n",
        "    kinds = []\n",
        "    speed = 300\n",
        "\n",
        "    def add_kinds(self, name):\n",
        "        self.kinds.append(name)\n",
        "\n",
        "    def change_speed(self, speed):\n",
        "        self.speed = speed\n",
        "\n",
        "modelx = Car()\n",
        "modely = Car()\n",
        "\n",
        "# Car.speed = 100\n",
        "\n",
        "modelx.change_speed(500)\n",
        "modely.change_speed(250)\n",
        "\n",
        "print(f'modelx.speed: {modelx.speed}')\n",
        "print(f'modely.speed: {modely.speed}')"
      ],
      "metadata": {
        "colab": {
          "base_uri": "https://localhost:8080/"
        },
        "id": "mYQO7VcWjsdK",
        "outputId": "dfa98406-093b-4e86-f329-acea84f50ffd"
      },
      "execution_count": null,
      "outputs": [
        {
          "output_type": "stream",
          "name": "stdout",
          "text": [
            "modelx.speed: 500\n",
            "modely.speed: 250\n"
          ]
        }
      ]
    },
    {
      "cell_type": "code",
      "source": [
        "kinds = [] # 전역변수 speed 300\n",
        "\n",
        "def add_kinds(value):\n",
        "    kinds.append(value) # 지역에 해당 변수가 없으므로 전역변수 kinds에 append\n",
        "\n",
        "add_kinds(100)\n",
        "kinds"
      ],
      "metadata": {
        "colab": {
          "base_uri": "https://localhost:8080/"
        },
        "id": "D5sZmTtCkXUL",
        "outputId": "bf497f2c-c2b1-4ee8-d19f-6cc3d9470d26"
      },
      "execution_count": null,
      "outputs": [
        {
          "output_type": "execute_result",
          "data": {
            "text/plain": [
              "[100]"
            ]
          },
          "metadata": {},
          "execution_count": 12
        }
      ]
    },
    {
      "cell_type": "code",
      "source": [
        "x = 100\n",
        "def test():\n",
        "    print(x)\n",
        "test()"
      ],
      "metadata": {
        "colab": {
          "base_uri": "https://localhost:8080/"
        },
        "id": "FGGP7xNWk_Ti",
        "outputId": "d991d384-b717-4b2a-9247-a3d7e736a274"
      },
      "execution_count": null,
      "outputs": [
        {
          "output_type": "stream",
          "name": "stdout",
          "text": [
            "100\n"
          ]
        }
      ]
    },
    {
      "cell_type": "code",
      "source": [
        "x = 100\n",
        "def test():\n",
        "    x = 200 # 값을 읽어올 수 있지만 변경은 안됨\n",
        "    # x 는 전역변수를 건드리지 않고 지역변수 200을 선언했을 뿐\n",
        "test()\n",
        "print(x)"
      ],
      "metadata": {
        "colab": {
          "base_uri": "https://localhost:8080/"
        },
        "id": "AxihjpCYlEDm",
        "outputId": "3d498752-7c3a-454d-cbf5-67daa8cf9b45"
      },
      "execution_count": null,
      "outputs": [
        {
          "output_type": "stream",
          "name": "stdout",
          "text": [
            "100\n"
          ]
        }
      ]
    },
    {
      "cell_type": "code",
      "source": [
        "x = 100\n",
        "def test():\n",
        "    global x\n",
        "    x = 200 # 전역변수 x를 수정할 수 있게 됨\n",
        "test()\n",
        "print(x)"
      ],
      "metadata": {
        "colab": {
          "base_uri": "https://localhost:8080/"
        },
        "id": "-O7q-Fq9lULU",
        "outputId": "ca67c1d6-1645-47aa-94d9-c9a1755f21a5"
      },
      "execution_count": null,
      "outputs": [
        {
          "output_type": "stream",
          "name": "stdout",
          "text": [
            "200\n"
          ]
        }
      ]
    },
    {
      "cell_type": "code",
      "source": [
        "# 매우 중요\n",
        "l = [10, 20, 30]\n",
        "def test(ll):\n",
        "    ll.append(40)\n",
        "\n",
        "test(l)\n",
        "print(l)"
      ],
      "metadata": {
        "colab": {
          "base_uri": "https://localhost:8080/"
        },
        "id": "wm-GSGuzrb6R",
        "outputId": "a209d65e-77e6-4407-dcbf-8f34aca0f042"
      },
      "execution_count": null,
      "outputs": [
        {
          "output_type": "stream",
          "name": "stdout",
          "text": [
            "[10, 20, 30, 40]\n"
          ]
        }
      ]
    },
    {
      "cell_type": "code",
      "source": [
        "# 매우 중요\n",
        "# 화살표 그릴 수 있어야 합니다.\n",
        "i = 100\n",
        "def test(ii):\n",
        "    ii = 300\n",
        "\n",
        "test(i)\n",
        "print(i)"
      ],
      "metadata": {
        "colab": {
          "base_uri": "https://localhost:8080/"
        },
        "id": "Mps_BaNKrACn",
        "outputId": "bae5911c-c2bd-46f8-fca7-b002e343656b"
      },
      "execution_count": null,
      "outputs": [
        {
          "output_type": "stream",
          "name": "stdout",
          "text": [
            "100\n"
          ]
        }
      ]
    },
    {
      "cell_type": "code",
      "source": [
        "class Point:\n",
        "\n",
        "    def __init__(self, x, y):\n",
        "        self.x = x\n",
        "        self.y = y\n",
        "\n",
        "    def __add__(self, other):\n",
        "        if isinstance(other, Point):\n",
        "            return Point((self.x + other.x), (self.y + other.y))\n",
        "        elif isinstance(other, int) or isinstance(other, float):\n",
        "            return Point((self.x + other), (self.y + other))\n",
        "\n",
        "    def distance(self, other):\n",
        "        dx = self.x - other.x\n",
        "        dy = self.y - other.y\n",
        "        return (dx**2 + dy**2)**0.5\n",
        "\n",
        "dot1 = Point(10, 20)\n",
        "dot2 = Point(20, 30)\n",
        "\n",
        "dot3 = dot1 + 10 # dot1의 __add__호출\n",
        "print(dot1.x, dot1.y) # 출력: 10 20\n",
        "print(dot3.x, dot3.y) # 출력: 20 30\n",
        "\n",
        "dot4 = dot1 + dot2\n",
        "print(dot4.x, dot4.y) # 출력: 30 50\n",
        "print(dot4.distance(dot1)) # 출력: 36.05551275463989"
      ],
      "metadata": {
        "colab": {
          "base_uri": "https://localhost:8080/"
        },
        "id": "-TZX3Esjv02K",
        "outputId": "3c305880-e0f8-4eef-8f15-891aafee66b4"
      },
      "execution_count": null,
      "outputs": [
        {
          "output_type": "stream",
          "name": "stdout",
          "text": [
            "10 20\n",
            "20 30\n",
            "30 50\n",
            "36.05551275463989\n"
          ]
        }
      ]
    },
    {
      "cell_type": "code",
      "source": [
        "class Counter:\n",
        "\n",
        "    def __init__(self):\n",
        "        self.num = 0\n",
        "\n",
        "    def __len__(self):\n",
        "        return 100\n",
        "\n",
        "    def __call__(self):\n",
        "        return 'Hello'\n",
        "\n",
        "    def __getitem__(self, key):\n",
        "        return key*10\n",
        "\n",
        "    def __str__(self):\n",
        "        return 'hello'\n",
        "\n",
        "    def __repr__(self):\n",
        "        return 'world'\n",
        "\n",
        "c = Counter()\n",
        "print(len(c))\n",
        "print(c())\n",
        "print(c[10])\n",
        "print(c) # print(str(c)) # __str__\n",
        "c # __repr__"
      ],
      "metadata": {
        "colab": {
          "base_uri": "https://localhost:8080/"
        },
        "id": "yYM2YkoGv8-d",
        "outputId": "b2d7f628-4d7a-4487-8216-5bc581eca915"
      },
      "execution_count": null,
      "outputs": [
        {
          "output_type": "stream",
          "name": "stdout",
          "text": [
            "100\n",
            "Hello\n",
            "100\n",
            "hello\n"
          ]
        },
        {
          "output_type": "execute_result",
          "data": {
            "text/plain": [
              "world"
            ]
          },
          "metadata": {},
          "execution_count": 39
        }
      ]
    },
    {
      "cell_type": "markdown",
      "source": [
        "# 상속"
      ],
      "metadata": {
        "id": "ZVsWGP6CzIXS"
      }
    },
    {
      "cell_type": "code",
      "source": [
        "class A:\n",
        "    def hello(self):\n",
        "        return 'hello'\n",
        "\n",
        "class B(A):\n",
        "    def __init__(self, a):\n",
        "        print(a)\n",
        "\n",
        "    def world(self):\n",
        "        return 'world'\n",
        "\n",
        "b = B(10)\n",
        "print(b.hello())\n",
        "print(b.world())"
      ],
      "metadata": {
        "colab": {
          "base_uri": "https://localhost:8080/"
        },
        "id": "WNBR0r8_zJlJ",
        "outputId": "c8551d1c-521e-4daf-c482-64d0bdb7dd36"
      },
      "execution_count": null,
      "outputs": [
        {
          "output_type": "stream",
          "name": "stdout",
          "text": [
            "10\n",
            "hello\n",
            "world\n"
          ]
        }
      ]
    },
    {
      "cell_type": "code",
      "source": [
        " # 오버라이딩\n",
        "class A:\n",
        "    def hello(self):\n",
        "        return 'hello'\n",
        "\n",
        "class B(A):\n",
        "    def __init__(self, a):\n",
        "        print(a)\n",
        "\n",
        "    def world(self):\n",
        "        return 'world'\n",
        "\n",
        "    def hello(self):\n",
        "        return 'hello world'\n",
        "\n",
        "b = B(10)\n",
        "print(b.hello()) # B의 hello가 A의 hello를 덮음"
      ],
      "metadata": {
        "colab": {
          "base_uri": "https://localhost:8080/"
        },
        "id": "pS2Q_q5X0-k-",
        "outputId": "b146f050-fd2a-459e-ddb2-bea0c1338b5b"
      },
      "execution_count": null,
      "outputs": [
        {
          "output_type": "stream",
          "name": "stdout",
          "text": [
            "10\n",
            "hello world\n"
          ]
        }
      ]
    },
    {
      "cell_type": "code",
      "source": [
        "class A(object):\n",
        "    def one(self):\n",
        "        return 'one'\n",
        "\n",
        "class B(A):\n",
        "    def two(self):\n",
        "        return 'two'\n",
        "\n",
        "class C(B):\n",
        "    def three(self):\n",
        "        return 'three'\n",
        "\n",
        "c = C()\n",
        "print(c.one())\n",
        "print(c.two())\n",
        "print(c.three())"
      ],
      "metadata": {
        "colab": {
          "base_uri": "https://localhost:8080/"
        },
        "id": "ZkCnT7ZI4J8r",
        "outputId": "9f9a1a6a-7d2f-4aa2-8de0-2339b9d3d04f"
      },
      "execution_count": null,
      "outputs": [
        {
          "output_type": "stream",
          "name": "stdout",
          "text": [
            "one\n",
            "two\n",
            "three\n"
          ]
        }
      ]
    },
    {
      "cell_type": "code",
      "source": [
        "class A(object):\n",
        "    test = 0\n",
        "    def one(self):\n",
        "        return 'one'\n",
        "\n",
        "class B(A):\n",
        "    def two(self):\n",
        "        return 'two'\n",
        "\n",
        "class C(B):\n",
        "    def three(self):\n",
        "        return 'three'\n",
        "\n",
        "c = C()\n",
        "A.test = 300\n",
        "print(c.test) # 상속을 받을 때 내 메모리 영역의 값(보유하고 있는 값)은 아닙니다! 참조 값입니다."
      ],
      "metadata": {
        "colab": {
          "base_uri": "https://localhost:8080/"
        },
        "id": "-3_t5XR44yhL",
        "outputId": "ff247aa6-e892-4d8c-ae50-0de448eab5f7"
      },
      "execution_count": null,
      "outputs": [
        {
          "output_type": "stream",
          "name": "stdout",
          "text": [
            "300\n"
          ]
        }
      ]
    },
    {
      "cell_type": "markdown",
      "source": [
        "# 다중 상속"
      ],
      "metadata": {
        "id": "7lED84LS6Gk7"
      }
    },
    {
      "cell_type": "code",
      "source": [
        "class A:\n",
        "    def hello(self):\n",
        "        print('hello A')\n",
        "\n",
        "class B:\n",
        "    def hello(self):\n",
        "        print('hello B')\n",
        "\n",
        "class C(A, B):\n",
        "    pass\n",
        "\n",
        "c = C()\n",
        "c.hello() # 주의! python의 코드 특성상 hello B라고 오해할만함. 2.x와 3.x가 상속 순서가 다름"
      ],
      "metadata": {
        "colab": {
          "base_uri": "https://localhost:8080/"
        },
        "id": "iUs1lwgK5U6j",
        "outputId": "86509049-18b3-41d9-981e-1e486f28d26a"
      },
      "execution_count": null,
      "outputs": [
        {
          "output_type": "stream",
          "name": "stdout",
          "text": [
            "hello\n"
          ]
        }
      ]
    },
    {
      "cell_type": "code",
      "source": [
        "# 주의 2.x버전과 3.x버전의 아래 다이아몬드 상속 순서가 다름\n",
        "class A:\n",
        "    def hello(self):\n",
        "        print('hello A')\n",
        "\n",
        "class B(A):\n",
        "    def hello(self):\n",
        "        print('hello B')\n",
        "\n",
        "class C(A):\n",
        "    def hello(self):\n",
        "        print('hello C')\n",
        "\n",
        "class D(B, C):\n",
        "    pass\n",
        "\n",
        "d = D()\n",
        "d.hello()\n",
        "D.mro() # 뭘 먼저 상속받았는지 확인 가능"
      ],
      "metadata": {
        "colab": {
          "base_uri": "https://localhost:8080/"
        },
        "id": "GjyEHGLG7Wgo",
        "outputId": "dd96ebb5-0b40-40dc-db02-285870941f67"
      },
      "execution_count": null,
      "outputs": [
        {
          "output_type": "stream",
          "name": "stdout",
          "text": [
            "hello B\n"
          ]
        },
        {
          "output_type": "execute_result",
          "data": {
            "text/plain": [
              "[__main__.D, __main__.B, __main__.C, __main__.A, object]"
            ]
          },
          "metadata": {},
          "execution_count": 63
        }
      ]
    },
    {
      "cell_type": "code",
      "source": [
        "# 다중 상속을 했을 때 상속에서 MRO error가 발생하는 경우\n",
        "class A:\n",
        "    def hello(self):\n",
        "        print('hello A')\n",
        "\n",
        "class B(A):\n",
        "    def hello(self):\n",
        "        print('hello B')\n",
        "\n",
        "class C(B):\n",
        "    def hello(self):\n",
        "        print('hello C')\n",
        "\n",
        "class D(B, C): # Error / D(C, B)는 에러 아님\n",
        "    pass\n",
        "\n",
        "d = D()\n",
        "d.hello"
      ],
      "metadata": {
        "colab": {
          "base_uri": "https://localhost:8080/",
          "height": 269
        },
        "id": "9jx1-4w18isZ",
        "outputId": "f819dc25-8f32-4564-ce7e-2ea339a204f2"
      },
      "execution_count": null,
      "outputs": [
        {
          "output_type": "error",
          "ename": "TypeError",
          "evalue": "ignored",
          "traceback": [
            "\u001b[0;31m---------------------------------------------------------------------------\u001b[0m",
            "\u001b[0;31mTypeError\u001b[0m                                 Traceback (most recent call last)",
            "\u001b[0;32m<ipython-input-65-593d994cb076>\u001b[0m in \u001b[0;36m<cell line: 14>\u001b[0;34m()\u001b[0m\n\u001b[1;32m     12\u001b[0m         \u001b[0mprint\u001b[0m\u001b[0;34m(\u001b[0m\u001b[0;34m'hello C'\u001b[0m\u001b[0;34m)\u001b[0m\u001b[0;34m\u001b[0m\u001b[0;34m\u001b[0m\u001b[0m\n\u001b[1;32m     13\u001b[0m \u001b[0;34m\u001b[0m\u001b[0m\n\u001b[0;32m---> 14\u001b[0;31m \u001b[0;32mclass\u001b[0m \u001b[0mD\u001b[0m\u001b[0;34m(\u001b[0m\u001b[0mB\u001b[0m\u001b[0;34m,\u001b[0m \u001b[0mC\u001b[0m\u001b[0;34m)\u001b[0m\u001b[0;34m:\u001b[0m \u001b[0;31m# Error / D(C, B)는 에러 아님\u001b[0m\u001b[0;34m\u001b[0m\u001b[0;34m\u001b[0m\u001b[0m\n\u001b[0m\u001b[1;32m     15\u001b[0m     \u001b[0;32mpass\u001b[0m\u001b[0;34m\u001b[0m\u001b[0;34m\u001b[0m\u001b[0m\n\u001b[1;32m     16\u001b[0m \u001b[0;34m\u001b[0m\u001b[0m\n",
            "\u001b[0;31mTypeError\u001b[0m: Cannot create a consistent method resolution\norder (MRO) for bases B, C"
          ]
        }
      ]
    },
    {
      "cell_type": "markdown",
      "source": [
        "# 연습문제"
      ],
      "metadata": {
        "id": "3RPFaQa59ecz"
      }
    },
    {
      "cell_type": "code",
      "source": [
        "# 게임에서 캐릭터를 구현할 예정입니다. 아래 클래스를 적절하게 조합하여 hero 인스턴스와 villain 인스턴스 만들어주세요.\n",
        "# 1. class Body\n",
        "# 2. class Weapon\n",
        "# 3. class WeaponEnhance\n",
        "# 4. class Skill\n",
        "# 5. class Equipment\n",
        "# 6. class Role(히어로인지 빌런인지 몹인지)"
      ],
      "metadata": {
        "id": "hh9BdP0M9dWd"
      },
      "execution_count": null,
      "outputs": []
    },
    {
      "cell_type": "code",
      "source": [
        "class Weapon:\n",
        "    WeaponLevel = 1\n",
        "    def setDamage(self, damage):\n",
        "        self.damage = damage\n",
        "\n",
        "class WeaponEnhance(Weapon):\n",
        "    def setEnhance(self, num, success):\n",
        "        if success == True:\n",
        "            self.damage *= num\n",
        "            self.WeaponLevel += 1\n",
        "        else:\n",
        "            self.damage = 0\n",
        "\n",
        "class Equipment(WeaponEnhance):\n",
        "    armorLevel = 1\n",
        "    def getEquipmentLevel(self):\n",
        "        return self.WeaponLevel + self.armorLevel\n",
        "\n",
        "class Role:\n",
        "    def setRole(self, role):\n",
        "        self.role = role\n",
        "\n",
        "class Skill:\n",
        "    def jarvis(self):\n",
        "        return '자비스! 도와줘!'\n",
        "\n",
        "    def beam(self):\n",
        "        return '나가라 빔!'\n",
        "\n",
        "class Body(Role, Skill, Equipment):\n",
        "    def __init__(self, role, hp, mp, power, damage):\n",
        "        self.setRole(role)\n",
        "        self.hp = hp\n",
        "        self.mp = mp\n",
        "        self.power = power\n",
        "        self.setDamage(damage)\n",
        "\n",
        "ironman = Body('hero', 100, 100, 100, 100)\n",
        "thanos = Body('villain', 100, 100, 80, 100)\n",
        "ironman.setEnhance(5, True)\n",
        "ironman.getEquipmentLevel()"
      ],
      "metadata": {
        "colab": {
          "base_uri": "https://localhost:8080/"
        },
        "id": "b_6Q4dCZ-lxS",
        "outputId": "9b94bdc6-d055-4bb3-b408-08cf16fe406e"
      },
      "execution_count": null,
      "outputs": [
        {
          "output_type": "execute_result",
          "data": {
            "text/plain": [
              "3"
            ]
          },
          "metadata": {},
          "execution_count": 86
        }
      ]
    },
    {
      "cell_type": "code",
      "source": [
        "# 문제 1\n",
        "# 동물 클래스 Animal을 만들어주세요. Dog와 Cat 클래스를 각각 정의하십시오.\n",
        "# Animal 클래스는 name 속성을 가집니다. 이 클래스는 make_sound 메서드를 갖고 있습니다.\n",
        "# Dog와 Cat 클래스는 Animal 클래스를 상속받는 클래스입니다.\n",
        "# Dog 클래스의 make_sound 메서드는 \"멍멍!\"을, Cat 클래스의 make_sound 메서드는 \"야옹!\"을 출력하도록 재정의하세요."
      ],
      "metadata": {
        "id": "xJ50L-3nMdBG"
      },
      "execution_count": null,
      "outputs": []
    },
    {
      "cell_type": "code",
      "source": [
        "# 문제 1\n",
        "class Animal:\n",
        "\n",
        "    def __init__(self, name, species, gender, age):\n",
        "        self.name = name\n",
        "        self.species = species\n",
        "        self.gender = gender\n",
        "        self.age = age\n",
        "\n",
        "    def make_sound(self):\n",
        "        print('동물 소리')\n",
        "\n",
        "class Dog(Animal):\n",
        "\n",
        "    def __init__(self, name, gender, age):\n",
        "        super().__init__(name, '개', gender, age)\n",
        "\n",
        "    def make_sound(self):\n",
        "        print('멍멍!')\n",
        "\n",
        "class Cat(Animal):\n",
        "\n",
        "    def __init__(self, name, gender, age):\n",
        "        super().__init__(name, '고양이', gender, age)\n",
        "\n",
        "    def make_sound(self):\n",
        "        print('야옹!')\n",
        "\n",
        "삐뽀 = Dog('삐뽀', 'male', 10)\n",
        "print(삐뽀.name)\n",
        "print(삐뽀.species)\n",
        "삐뽀.make_sound()\n",
        "\n",
        "유미 = Cat('유미', 'female', 2)\n",
        "print(유미.name)\n",
        "print(유미.species)\n",
        "유미.make_sound()"
      ],
      "metadata": {
        "colab": {
          "base_uri": "https://localhost:8080/"
        },
        "id": "In4e5VwZNAYn",
        "outputId": "26a290c5-87f4-4bac-b4d7-5b970919de37"
      },
      "execution_count": null,
      "outputs": [
        {
          "output_type": "stream",
          "name": "stdout",
          "text": [
            "삐뽀\n",
            "개\n",
            "멍멍!\n",
            "유미\n",
            "고양이\n",
            "야옹!\n"
          ]
        }
      ]
    },
    {
      "cell_type": "code",
      "source": [
        "# 문제 2\n",
        "# Person이라는 기본 클래스를 만들어주세요.\n",
        "# Person 클래스는 이름과 나이라는 두 개의 속성과 소개하기라는 메서드를 가지며,\n",
        "# 이 메서드는 \"Hello World!, 제 이름은 [이름]이고 제 나이는 [나이]살 입니다.\"라는 메시지를 출력합니다.\n",
        "\n",
        "# Person 클래스를 상속받는 Student 클래스를 정의하십시오.\n",
        "# Student 클래스는 추가적으로 학년 속성을 가집니다.\n",
        "# Student 클래스에서 소개하기 메서드를 오버라이드하여 \"Hello World!, 제 이름은 [이름]이고 제 나이는 [나이]살 입니다. 그리고 저는 [학년]학년입니다. \"라는 메시지를 출력하도록 만드세요."
      ],
      "metadata": {
        "id": "l-gwxYpLMtye"
      },
      "execution_count": null,
      "outputs": []
    },
    {
      "cell_type": "code",
      "source": [
        "# 문제 2\n",
        "class Person:\n",
        "\n",
        "    def __init__(self, name, age):\n",
        "        self.name = name\n",
        "        self.age = age\n",
        "\n",
        "    def 소개하기(self):\n",
        "        print(f\"Hello World!, 제 이름은 {self.name}이고 제 나이는 {self.age}살 입니다\")\n",
        "\n",
        "class Student(Person):\n",
        "\n",
        "    def __init__(self, name, age, grade):\n",
        "        super().__init__(name, age)\n",
        "        self.grade = grade\n",
        "\n",
        "    def 소개하기(self):\n",
        "        print(f\"Hello World!, 제 이름은 {self.name}이고 제 나이는 {self.age}살 입니다. 그리고 저는 {self.grade}학년 입니다.\")\n",
        "\n",
        "Peter = Student('Peter', 18, 2)\n",
        "Peter.소개하기()"
      ],
      "metadata": {
        "colab": {
          "base_uri": "https://localhost:8080/"
        },
        "id": "WRGZ7B22SxZw",
        "outputId": "4dd41026-1fed-48c7-eb19-1c98cb3d126c"
      },
      "execution_count": null,
      "outputs": [
        {
          "output_type": "stream",
          "name": "stdout",
          "text": [
            "Hello World!, 제 이름은 Peter이고 제 나이는 18살 입니다. 그리고 저는 2학년 입니다.\n"
          ]
        }
      ]
    },
    {
      "cell_type": "markdown",
      "source": [
        "# 클래스 메서드와 정적 메서드"
      ],
      "metadata": {
        "id": "IaaCvDhnw2Lj"
      }
    },
    {
      "cell_type": "code",
      "source": [
        "# 클래스 메서드\n",
        "class MyClass:\n",
        "    count = 0\n",
        "\n",
        "    @classmethod\n",
        "    def increment(cls):\n",
        "        cls.count += 1\n",
        "\n",
        "a = MyClass()\n",
        "b = MyClass()\n",
        "\n",
        "MyClass.increment()\n",
        "print(MyClass.count) # 출력 : 1\n",
        "\n",
        "a.count, b.count"
      ],
      "metadata": {
        "colab": {
          "base_uri": "https://localhost:8080/"
        },
        "id": "dcB0WUl1w371",
        "outputId": "26d6ae3d-9fed-42ef-b4c3-e3d40df07a36"
      },
      "execution_count": 4,
      "outputs": [
        {
          "output_type": "stream",
          "name": "stdout",
          "text": [
            "1\n"
          ]
        },
        {
          "output_type": "execute_result",
          "data": {
            "text/plain": [
              "(1, 1)"
            ]
          },
          "metadata": {},
          "execution_count": 4
        }
      ]
    },
    {
      "cell_type": "code",
      "source": [
        "class MyClass:\n",
        "    count = 0\n",
        "\n",
        "    def increment(self):\n",
        "        self.count += 1\n",
        "\n",
        "a = MyClass()\n",
        "b = MyClass()\n",
        "\n",
        "# MyClass.increment() # error\n",
        "a.increment()\n",
        "\n",
        "print(a.count, b.count)\n",
        "\n",
        "a.increment()\n",
        "\n",
        "print(a.count, b.count)"
      ],
      "metadata": {
        "colab": {
          "base_uri": "https://localhost:8080/"
        },
        "id": "fVjvhK8_zArE",
        "outputId": "81539b8c-2c63-4516-8ee7-61aeba095a6b"
      },
      "execution_count": 5,
      "outputs": [
        {
          "output_type": "stream",
          "name": "stdout",
          "text": [
            "1 0\n",
            "2 0\n"
          ]
        }
      ]
    },
    {
      "cell_type": "code",
      "source": [
        "# 정적 메서드\n",
        "class MyClass:\n",
        "\n",
        "    @staticmethod\n",
        "    def my_method(x, y):\n",
        "        return x + y\n",
        "\n",
        "print(MyClass.my_method(5, 3))  # 출력: 8"
      ],
      "metadata": {
        "id": "3MLpshWnzRxS"
      },
      "execution_count": null,
      "outputs": []
    },
    {
      "cell_type": "code",
      "source": [
        "class 학사정보시스템:\n",
        "    학점총점 = 120\n",
        "\n",
        "    def __init__(self):\n",
        "        self.학기점수 = []\n",
        "\n",
        "    def 학점추가(self, 이번학기점수):\n",
        "        self.학기점수.append(이번학기점수)\n",
        "\n",
        "    def 학점평균(self):\n",
        "        return sum(self.학기점수)/len(self.학기점수)\n",
        "\n",
        "    def 졸업장출력(self):\n",
        "        return f'총학점 {self.학점총점}학점, {self.학점평균()}으로 졸업하셨습니다.'\n",
        "\n",
        "피카츄 = 학사정보시스템()\n",
        "꼬부기 = 학사정보시스템()\n",
        "\n",
        "피카츄.학점추가(3.2)\n",
        "피카츄.학점추가(3.5)\n",
        "피카츄.학점추가(3.0)\n",
        "피카츄.학점추가(2.6)\n",
        "피카츄.학점추가(2.8)\n",
        "피카츄.학점추가(3.5)\n",
        "피카츄.학점추가(2.8)\n",
        "피카츄.학점추가(2.8)\n",
        "\n",
        "피카츄.학점평균()\n",
        "피카츄.졸업장출력()"
      ],
      "metadata": {
        "colab": {
          "base_uri": "https://localhost:8080/",
          "height": 36
        },
        "id": "My85Qxo90M75",
        "outputId": "3c21525c-d5f6-41ec-9be4-20dea87779f3"
      },
      "execution_count": 7,
      "outputs": [
        {
          "output_type": "execute_result",
          "data": {
            "text/plain": [
              "'총학점 120학점, 3.125으로 졸업하셨습니다.'"
            ],
            "application/vnd.google.colaboratory.intrinsic+json": {
              "type": "string"
            }
          },
          "metadata": {},
          "execution_count": 7
        }
      ]
    },
    {
      "cell_type": "code",
      "source": [
        "# 중간에 총 학점이 120학점에서 60학점으로 바뀌어서 조기졸업을 할 수 있게 되었습니다.\n",
        "class 학사정보시스템:\n",
        "    학점총점 = 120\n",
        "\n",
        "    def __init__(self):\n",
        "        self.학기점수 = []\n",
        "\n",
        "    def 학점추가(self, 이번학기점수):\n",
        "        self.학기점수.append(이번학기점수)\n",
        "\n",
        "    def 학점평균(self):\n",
        "        return sum(self.학기점수)/len(self.학기점수)\n",
        "\n",
        "    def 졸업장출력(self):\n",
        "        return f'총학점 {self.학점총점}학점, {self.학점평균()}으로 졸업하셨습니다.'\n",
        "\n",
        "피카츄 = 학사정보시스템()\n",
        "꼬부기 = 학사정보시스템()\n",
        "\n",
        "피카츄.학점추가(3.2)\n",
        "피카츄.학점추가(3.5)\n",
        "# 총학점 변경\n",
        "피카츄.학점총점 = 60\n",
        "피카츄.학점추가(2.8)\n",
        "피카츄.학점추가(2.8)\n",
        "\n",
        "피카츄.학점평균()\n",
        "피카츄.졸업장출력()"
      ],
      "metadata": {
        "colab": {
          "base_uri": "https://localhost:8080/",
          "height": 36
        },
        "id": "g2vxj9Rr2kKF",
        "outputId": "429455a3-d477-48ee-abdc-250aaa7cceae"
      },
      "execution_count": 11,
      "outputs": [
        {
          "output_type": "execute_result",
          "data": {
            "text/plain": [
              "'총학점 60학점, 3.075으로 졸업하셨습니다.'"
            ],
            "application/vnd.google.colaboratory.intrinsic+json": {
              "type": "string"
            }
          },
          "metadata": {},
          "execution_count": 11
        }
      ]
    },
    {
      "cell_type": "code",
      "source": [
        "# 스토리 : 중간에 총학점이 120학점에서 60학점으로 바뀌어서 조기졸업을 할 수 있게 되었습니다!\n",
        "class 학사정보시스템:\n",
        "    학점총점 = 120\n",
        "\n",
        "    def __init__(self):\n",
        "        self.학기점수 = []\n",
        "\n",
        "    def 학점추가(self, 이번학기점수):\n",
        "        self.학기점수.append(이번학기점수)\n",
        "\n",
        "    def 학점평균(self):\n",
        "        return sum(self.학기점수)/len(self.학기점수)\n",
        "\n",
        "    def 졸업장출력(self):\n",
        "        return f'총학점 {self.학점총점}학점, {self.학점평균()}으로 졸업하셨습니다.'\n",
        "\n",
        "피카츄 = 학사정보시스템()\n",
        "꼬부기 = 학사정보시스템()\n",
        "\n",
        "피카츄.학점추가(3.2)\n",
        "피카츄.학점추가(3.5)\n",
        "학사정보시스템.학점총점 = 60 # 이 코드가 변경이 된 것입니다. 안정성을 더 확보하고싶다면 클래스 메서드로 수정\n",
        "피카츄.학점추가(3.0)\n",
        "피카츄.학점추가(2.8)\n",
        "\n",
        "피카츄.학점평균()\n",
        "print(피카츄.졸업장출력())\n",
        "\n",
        "꼬부기.학점추가(3.0)\n",
        "print(꼬부기.졸업장출력()) # 둘 다 변한 것을 확인할 수 있습니다."
      ],
      "metadata": {
        "id": "Ptwo8zSj3Zks"
      },
      "execution_count": null,
      "outputs": []
    },
    {
      "cell_type": "code",
      "source": [
        "# 클래스 메서드로 변경하려면\n",
        "class 학사정보시스템:\n",
        "    학점총점 = 120\n",
        "\n",
        "    def __init__(self):\n",
        "        self.학기점수 = []\n",
        "\n",
        "    def 학점추가(self, 이번학기점수):\n",
        "        self.학기점수.append(이번학기점수)\n",
        "\n",
        "    def 학점평균(self):\n",
        "        return sum(self.학기점수)/len(self.학기점수)\n",
        "\n",
        "    def 졸업장출력(self):\n",
        "        return f'총학점 {self.학점총점}학점, {self.학점평균()}으로 졸업하셨습니다.'\n",
        "\n",
        "    @classmethod\n",
        "    def 학점총점변경(cls, 총점):\n",
        "        if isinstance(총점, int):\n",
        "            cls.학점총점 = 총점\n",
        "            return '변경됨'\n",
        "        return '변경안됨'\n",
        "\n",
        "피카츄 = 학사정보시스템()\n",
        "꼬부기 = 학사정보시스템()\n",
        "\n",
        "피카츄.학점추가(3.2)\n",
        "피카츄.학점추가(3.5)\n",
        "학사정보시스템.학점총점변경(60)\n",
        "학사정보시스템.학점총점변경(120.5) # 무시\n",
        "피카츄.학점추가(3.0)\n",
        "피카츄.학점추가(2.8)\n",
        "\n",
        "피카츄.학점평균()\n",
        "print(피카츄.졸업장출력())\n",
        "\n",
        "꼬부기.학점추가(3.0)\n",
        "print(꼬부기.졸업장출력()) # 둘 다 변한 것을 확인할 수 있습니다."
      ],
      "metadata": {
        "colab": {
          "base_uri": "https://localhost:8080/"
        },
        "id": "k0piDqu55M1_",
        "outputId": "8f53bcff-f542-43f5-8d39-723d99e49d33"
      },
      "execution_count": 12,
      "outputs": [
        {
          "output_type": "stream",
          "name": "stdout",
          "text": [
            "총학점 60학점, 3.125으로 졸업하셨습니다.\n",
            "총학점 60학점, 3.0으로 졸업하셨습니다.\n"
          ]
        }
      ]
    },
    {
      "cell_type": "code",
      "source": [
        "class 학사정보시스템:\n",
        "    학점총점 = 120\n",
        "\n",
        "    def __init__(self):\n",
        "        self.학기점수 = []\n",
        "\n",
        "    def 학점추가(self, 이번학기점수):\n",
        "        self.학기점수.append(이번학기점수)\n",
        "\n",
        "    def 학점평균(self):\n",
        "        return sum(self.학기점수)/len(self.학기점수)\n",
        "\n",
        "    def 졸업장출력(self):\n",
        "        return f'총학점 {self.학점총점}학점, {self.학점평균()}으로 졸업하셨습니다.'\n",
        "\n",
        "    @staticmethod\n",
        "    def 학사경고(이번학기점수):\n",
        "        '''\n",
        "        내부에서 클래스 변수, 인스턴스 변수 수정하는 것이\n",
        "        가능하지 않습니다.\n",
        "        '''\n",
        "        if 이번학기점수 - 1.5 > 0:\n",
        "            return '학사경고 아님!'\n",
        "        return '학사경고임!'\n",
        "\n",
        "    @classmethod\n",
        "    def 학점총점변경(cls, 총점):\n",
        "        if isinstance(총점, int):\n",
        "            cls.학점총점 = 총점\n",
        "            return '변경됨'\n",
        "        return '변경안됨'\n",
        "\n",
        "학사정보시스템.학사경고(1.6)\n",
        "학사정보시스템.학사경고(1.3)"
      ],
      "metadata": {
        "colab": {
          "base_uri": "https://localhost:8080/",
          "height": 36
        },
        "id": "vnkIk_Gz6YCR",
        "outputId": "309adfe6-102a-4a6f-b1d6-0bf8dddbb6aa"
      },
      "execution_count": 15,
      "outputs": [
        {
          "output_type": "execute_result",
          "data": {
            "text/plain": [
              "'학사경고임!'"
            ],
            "application/vnd.google.colaboratory.intrinsic+json": {
              "type": "string"
            }
          },
          "metadata": {},
          "execution_count": 15
        }
      ]
    },
    {
      "cell_type": "markdown",
      "source": [
        "# 속성 접근자와 덕타이핑"
      ],
      "metadata": {
        "id": "dGSBFmD79iDj"
      }
    },
    {
      "cell_type": "code",
      "source": [
        "# 속성 접근자\n",
        "class Person:\n",
        "    def __init__(self, first_name, last_name):\n",
        "        self._first_name = first_name\n",
        "        self._last_name = last_name\n",
        "\n",
        "    @property # 메소드를 인스턴스 변수처럼 사용\n",
        "    def full_name(self):\n",
        "        return f'{self._first_name}{self._last_name}'\n",
        "\n",
        "    def namemul(self):\n",
        "        return self.full_name * 2\n",
        "licat = Person('li', 'cat')\n",
        "print(licat._first_name)\n",
        "print(licat._last_name)\n",
        "print(licat.full_name)\n",
        "# print(licat.full_name()) 괄호 넣으면 Error\n",
        "print(licat.namemul()) # 클래스 내부에서도 self.full_name을 인스턴스 변수처럼 취급"
      ],
      "metadata": {
        "colab": {
          "base_uri": "https://localhost:8080/"
        },
        "id": "C1iknV3k9f3_",
        "outputId": "fd86a170-a37f-486f-9d15-55c465cabb9b"
      },
      "execution_count": 17,
      "outputs": [
        {
          "output_type": "stream",
          "name": "stdout",
          "text": [
            "li\n",
            "cat\n",
            "licat\n",
            "licatlicat\n"
          ]
        }
      ]
    },
    {
      "cell_type": "code",
      "source": [
        "# 덕타이핑\n",
        "class Duck:\n",
        "    def introduce(self):\n",
        "        print(\"꽥꽥!\")\n",
        "\n",
        "class Person:\n",
        "    def introduce(self):\n",
        "        print(\"안녕하세요!\")\n",
        "\n",
        "def introduce(obj):\n",
        "    print('인사시작')\n",
        "    obj.introduce()\n",
        "    print('인사끝')\n",
        "\n",
        "duck = Duck()\n",
        "person = Person()\n",
        "\n",
        "introduce(duck)\n",
        "introduce(person)"
      ],
      "metadata": {
        "colab": {
          "base_uri": "https://localhost:8080/"
        },
        "id": "9HAII_J6-9se",
        "outputId": "7e305934-fe37-4482-f2b4-82dfc150e46c"
      },
      "execution_count": 18,
      "outputs": [
        {
          "output_type": "stream",
          "name": "stdout",
          "text": [
            "인사시작\n",
            "꽥꽥!\n",
            "인사끝\n",
            "인사시작\n",
            "안녕하세요!\n",
            "인사끝\n"
          ]
        }
      ]
    },
    {
      "cell_type": "code",
      "source": [
        "class Hero:\n",
        "    def move(self):\n",
        "        print(\"h 움직임\")\n",
        "\n",
        "class Villain:\n",
        "    def move(self):\n",
        "        print(\"v 움직임\")\n",
        "\n",
        "class Mob:\n",
        "    def move(self):\n",
        "        print(\"m 움직임\")\n",
        "\n",
        "def move(obj):\n",
        "    obj.move()\n",
        "\n",
        "a = Hero()\n",
        "b = Villain()\n",
        "c = Mob()\n",
        "\n",
        "등장인물 = [a, b, c]\n",
        "\n",
        "for person in 등장인물:\n",
        "    move(person)\n",
        "    # person.move() # 이렇게 사용해도 됨"
      ],
      "metadata": {
        "colab": {
          "base_uri": "https://localhost:8080/"
        },
        "id": "kRcSBZKRBuKQ",
        "outputId": "4facbbab-5f30-4346-8314-6d54372c55f4"
      },
      "execution_count": 20,
      "outputs": [
        {
          "output_type": "stream",
          "name": "stdout",
          "text": [
            "h 움직임\n",
            "h 움직임\n",
            "v 움직임\n",
            "v 움직임\n",
            "m 움직임\n",
            "m 움직임\n"
          ]
        }
      ]
    },
    {
      "cell_type": "markdown",
      "source": [
        "# 추상 클래스와 인터페이스"
      ],
      "metadata": {
        "id": "258KOF6GDiZI"
      }
    },
    {
      "cell_type": "code",
      "source": [
        "from abc import ABC, abstractmethod\n",
        "class Person(ABC): # ABC를 상속받고\n",
        "\n",
        "    @abstractmethod # abstractmethod라고 선언을 하면\n",
        "    def move(self):\n",
        "        pass\n",
        "\n",
        "class Hero(Person): # 상속받은 자식에서 반드시 오버라이딩이 일어나야 한다.\n",
        "\n",
        "    def move(self):\n",
        "        print('날아다님')\n",
        "\n",
        "ironman = Hero()\n",
        "ironman.move()"
      ],
      "metadata": {
        "colab": {
          "base_uri": "https://localhost:8080/"
        },
        "id": "ip1X0yiEDkzj",
        "outputId": "0bdee400-51ec-433b-cfcb-28a095689d54"
      },
      "execution_count": 24,
      "outputs": [
        {
          "output_type": "stream",
          "name": "stdout",
          "text": [
            "날아다님\n"
          ]
        }
      ]
    },
    {
      "cell_type": "markdown",
      "source": [
        "Python에는 인터페이스라는 내장 키워드나 구조가 없음. 추상 클래스를 이용해서 인터페이스처럼 동작하는 클래스를 만들 수 있음"
      ],
      "metadata": {
        "id": "ZZdpRpN9FtPf"
      }
    },
    {
      "cell_type": "markdown",
      "source": [
        "# 비공개 속성"
      ],
      "metadata": {
        "id": "4LPcrWPXHcyM"
      }
    },
    {
      "cell_type": "code",
      "source": [
        "# 비공개 속성이 조작 불가능한게 아님\n",
        "class MyClass:\n",
        "    __a = 10 # 언더바 두개 네임 맹글링\n",
        "    _a = 100\n",
        "    b = 20\n",
        "\n",
        "    def __init__(self, c, d):\n",
        "        self.__c = c\n",
        "        self.d = d\n",
        "\n",
        "# MyClass.__a # Error\n",
        "test = MyClass(30, 40)\n",
        "# test.__a # 오 접근이 가능하지 않네 => 오해입니다.\n",
        "print(test._MyClass__a) # 이렇게 접근 가능\n",
        "print(test._MyClass__c)"
      ],
      "metadata": {
        "colab": {
          "base_uri": "https://localhost:8080/"
        },
        "id": "fUBeZAsJHezZ",
        "outputId": "b3815636-077f-4368-e001-be2c33d17952"
      },
      "execution_count": 29,
      "outputs": [
        {
          "output_type": "stream",
          "name": "stdout",
          "text": [
            "10\n",
            "30\n"
          ]
        }
      ]
    },
    {
      "cell_type": "code",
      "source": [
        "class MyClass:\n",
        "    __a = 10\n",
        "    _a = 100 # 얘는 상관 없음\n",
        "    b = 20\n",
        "\n",
        "    def __init__(self, c, d):\n",
        "        self.__c = c\n",
        "        self.d = d\n",
        "\n",
        "test = MyClass(30, 40)\n",
        "test._MyClass__a = 9000\n",
        "test._MyClass__C = 900\n",
        "print(test._MyClass__a) # 이렇게 접근 가능\n",
        "print(test._MyClass__c)"
      ],
      "metadata": {
        "colab": {
          "base_uri": "https://localhost:8080/"
        },
        "id": "XLXsHQHnLFcN",
        "outputId": "064798f6-1ef7-4ddc-a24e-9fee16f3d5c4"
      },
      "execution_count": 30,
      "outputs": [
        {
          "output_type": "stream",
          "name": "stdout",
          "text": [
            "9000\n",
            "30\n"
          ]
        }
      ]
    },
    {
      "cell_type": "markdown",
      "source": [
        "# 모듈\n",
        "* hoo.py 파일 작성 후 아래와 같이 입력\n",
        "\n",
        "```python\n",
        "name = 'KimDonghu'\n",
        "age = 20\n",
        "\n",
        "def hello():\n",
        "    return 'hello world'\n",
        "```"
      ],
      "metadata": {
        "id": "jXn8BHolLj9S"
      }
    },
    {
      "cell_type": "code",
      "source": [
        "import hoo\n",
        "\n",
        "hoo.name # 변수를 호출할 수도 있고\n",
        "hoo.hello() # 함수를 호출할 수도 있음"
      ],
      "metadata": {
        "colab": {
          "base_uri": "https://localhost:8080/",
          "height": 36
        },
        "id": "5DAEq81iLlFJ",
        "outputId": "19e8fd74-b83c-4d91-82d2-c4986eb78503"
      },
      "execution_count": 33,
      "outputs": [
        {
          "output_type": "execute_result",
          "data": {
            "text/plain": [
              "'hello world'"
            ],
            "application/vnd.google.colaboratory.intrinsic+json": {
              "type": "string"
            }
          },
          "metadata": {},
          "execution_count": 33
        }
      ]
    },
    {
      "cell_type": "code",
      "source": [
        "from hoo import name, age # 이것도 많이 사용함\n",
        "\n",
        "print(name)\n",
        "print(age)"
      ],
      "metadata": {
        "colab": {
          "base_uri": "https://localhost:8080/"
        },
        "id": "jl3M0PfQNDNT",
        "outputId": "dad23199-bfac-41ed-f804-54525a65feef"
      },
      "execution_count": 39,
      "outputs": [
        {
          "output_type": "stream",
          "name": "stdout",
          "text": [
            "KimDonghu\n",
            "20\n"
          ]
        }
      ]
    },
    {
      "cell_type": "code",
      "source": [
        "from hoo import name as n\n",
        "\n",
        "print(n)"
      ],
      "metadata": {
        "colab": {
          "base_uri": "https://localhost:8080/"
        },
        "id": "p8jEbc8JN96X",
        "outputId": "99458e9b-604f-4927-93d0-efeab2941fce"
      },
      "execution_count": 41,
      "outputs": [
        {
          "output_type": "stream",
          "name": "stdout",
          "text": [
            "KimDonghu\n"
          ]
        }
      ]
    },
    {
      "cell_type": "code",
      "source": [
        "import hoo as h\n",
        "\n",
        "print(h.name)"
      ],
      "metadata": {
        "colab": {
          "base_uri": "https://localhost:8080/"
        },
        "id": "doZdL-dZOBj5",
        "outputId": "7de46166-795b-42ce-a6bd-5c7c58d4c682"
      },
      "execution_count": 44,
      "outputs": [
        {
          "output_type": "stream",
          "name": "stdout",
          "text": [
            "KimDonghu\n"
          ]
        }
      ]
    },
    {
      "cell_type": "code",
      "source": [
        "import pandas as pd # 데이터 분석 모듈\n",
        "import numpy as np # 수학 관련 모듈"
      ],
      "metadata": {
        "id": "3z3jUE6JOOyK"
      },
      "execution_count": 45,
      "outputs": []
    },
    {
      "cell_type": "markdown",
      "source": [
        "content 안에 a폴더 안에 b폴더 안에 c폴더 안에 licat.py 파일 만들기"
      ],
      "metadata": {
        "id": "7meXUlDBO-Jx"
      }
    },
    {
      "cell_type": "code",
      "source": [
        "import a\n",
        "\n",
        "print(a)\n",
        "print(a.b.c) # 이렇게 접근할 수는 없음"
      ],
      "metadata": {
        "id": "rkajUmhWParw"
      },
      "execution_count": null,
      "outputs": []
    },
    {
      "cell_type": "code",
      "source": [
        "import a.b.c.licat as cat\n",
        "\n",
        "print(cat)\n",
        "print(cat.name)"
      ],
      "metadata": {
        "colab": {
          "base_uri": "https://localhost:8080/"
        },
        "id": "iAqe9j-zPrmF",
        "outputId": "6b93d253-95e5-4b34-a4f3-a37b9cb1ddd0"
      },
      "execution_count": 51,
      "outputs": [
        {
          "output_type": "stream",
          "name": "stdout",
          "text": [
            "<module 'a.b.c.licat' from '/content/a/b/c/licat.py'>\n",
            "licat\n"
          ]
        }
      ]
    },
    {
      "cell_type": "code",
      "source": [
        "import a.b.c.licat\n",
        "\n",
        "# print(licat)\n",
        "print(a.b.c.licat.name)\n",
        "print(a.b.c.licat.age)\n"
      ],
      "metadata": {
        "colab": {
          "base_uri": "https://localhost:8080/"
        },
        "id": "RUStKpn5P7tV",
        "outputId": "dc938e29-8ec2-452f-f629-ad686f9aadf3"
      },
      "execution_count": 55,
      "outputs": [
        {
          "output_type": "stream",
          "name": "stdout",
          "text": [
            "licat\n",
            "3\n"
          ]
        }
      ]
    },
    {
      "cell_type": "code",
      "source": [
        "# 일반적으로 이렇게 사용\n",
        "# from은 폴더 import는 모듈\n",
        "from a.b.c import licat\n",
        "\n",
        "print(licat)\n",
        "print(licat.name)"
      ],
      "metadata": {
        "colab": {
          "base_uri": "https://localhost:8080/"
        },
        "id": "m68PcUeUQd2c",
        "outputId": "97f4dbf6-a29d-4313-a8e4-71d8ef7916df"
      },
      "execution_count": 58,
      "outputs": [
        {
          "output_type": "stream",
          "name": "stdout",
          "text": [
            "<module 'a.b.c.licat' from '/content/a/b/c/licat.py'>\n",
            "licat\n"
          ]
        }
      ]
    },
    {
      "cell_type": "markdown",
      "source": [
        "# 연습문제"
      ],
      "metadata": {
        "id": "9PcTWC_tU4hq"
      }
    },
    {
      "cell_type": "code",
      "source": [
        "# 아래와 같은 기능을 하는 모듈 또는 패키지를 만들어주세요"
      ],
      "metadata": {
        "id": "752B3LHyU55b"
      },
      "execution_count": null,
      "outputs": []
    },
    {
      "cell_type": "code",
      "source": [
        "# add(a, b), sub(a, b), mul(a, b), div(a, b)"
      ],
      "metadata": {
        "id": "PBiZl2smU9dk"
      },
      "execution_count": 59,
      "outputs": []
    },
    {
      "cell_type": "code",
      "source": [
        "# 구분해서 저장하는것이 중요. 유지보수 좀 더 편리하게 할 수 있음.\n",
        "# operation > arthmetic_operation.py\n",
        "def add(a, b):\n",
        "    return a + b\n",
        "\n",
        "def sub(a, b):\n",
        "    return a - b\n",
        "\n",
        "def mul(a, b):\n",
        "    return a * b\n",
        "\n",
        "def div(a, b):\n",
        "    return a / b"
      ],
      "metadata": {
        "id": "2nHj29YDV9lc"
      },
      "execution_count": 62,
      "outputs": []
    },
    {
      "cell_type": "code",
      "source": [
        "# operation > logical_operation.py\n",
        "def _and(a, b):\n",
        "    return a and b\n",
        "\n",
        "def _or(a, b):\n",
        "    return a or b"
      ],
      "metadata": {
        "id": "iVLCo553ppyi"
      },
      "execution_count": 63,
      "outputs": []
    },
    {
      "cell_type": "code",
      "source": [
        "from operation import arthmetic_operation as ao, logical_operation as lo"
      ],
      "metadata": {
        "id": "__G22UpRqxgR"
      },
      "execution_count": 64,
      "outputs": []
    },
    {
      "cell_type": "code",
      "source": [
        "ao.add(3, 4)"
      ],
      "metadata": {
        "colab": {
          "base_uri": "https://localhost:8080/"
        },
        "id": "bHwL4wM8q53a",
        "outputId": "15cdf6a8-271d-458b-93e1-d94494569b8a"
      },
      "execution_count": 66,
      "outputs": [
        {
          "output_type": "execute_result",
          "data": {
            "text/plain": [
              "7"
            ]
          },
          "metadata": {},
          "execution_count": 66
        }
      ]
    },
    {
      "cell_type": "code",
      "source": [
        "lo._and(True, False)"
      ],
      "metadata": {
        "colab": {
          "base_uri": "https://localhost:8080/"
        },
        "id": "E8vjZiqqq9b8",
        "outputId": "f5ef43d8-ccee-4d73-eda8-aebb4c5bd0b9"
      },
      "execution_count": 68,
      "outputs": [
        {
          "output_type": "execute_result",
          "data": {
            "text/plain": [
              "False"
            ]
          },
          "metadata": {},
          "execution_count": 68
        }
      ]
    },
    {
      "cell_type": "code",
      "source": [
        "# 450,000개 이상의 Python 패키지\n",
        "# PyPI(Python Package Index)\n",
        "# https://pypi.org/search/?q=pandas&o="
      ],
      "metadata": {
        "id": "EC0IIfUzsDBU"
      },
      "execution_count": null,
      "outputs": []
    },
    {
      "cell_type": "code",
      "source": [
        "# import는 sys.modules에 없으면 sys.path를 순회하면서 찾음"
      ],
      "metadata": {
        "id": "hyFj9tX9teRa"
      },
      "execution_count": 69,
      "outputs": []
    },
    {
      "cell_type": "code",
      "source": [
        "# sys.path에 추가\n",
        "import sys\n",
        "sys.path.append('/content/a/b/c')"
      ],
      "metadata": {
        "id": "e3Ma--DBuSZw"
      },
      "execution_count": 71,
      "outputs": []
    },
    {
      "cell_type": "code",
      "source": [
        "# sys.path에 /content/a/b/c 에서 찾음\n",
        "import licat\n",
        "\n",
        "licat.name"
      ],
      "metadata": {
        "colab": {
          "base_uri": "https://localhost:8080/",
          "height": 36
        },
        "id": "NEr5OYs8vANL",
        "outputId": "bf9d40d8-a1ee-43b7-b458-e3cd9fc4441f"
      },
      "execution_count": 73,
      "outputs": [
        {
          "output_type": "execute_result",
          "data": {
            "text/plain": [
              "'licat'"
            ],
            "application/vnd.google.colaboratory.intrinsic+json": {
              "type": "string"
            }
          },
          "metadata": {},
          "execution_count": 73
        }
      ]
    },
    {
      "cell_type": "markdown",
      "source": [
        "# 부록 - 많이 사용하는 모듈"
      ],
      "metadata": {
        "id": "jHFownzTvty3"
      }
    },
    {
      "cell_type": "code",
      "source": [
        "import glob\n",
        "glob.glob('/content/*')\n",
        "glob.glob('/content/*py')\n",
        "glob.glob('./*/*py')\n",
        "glob.glob('./???.py') # 3자리\n",
        "glob.glob('./ho?.py')\n",
        "glob.glob('*.py')"
      ],
      "metadata": {
        "colab": {
          "base_uri": "https://localhost:8080/"
        },
        "id": "h-EhcmHQ1DJk",
        "outputId": "92d5004e-0192-4d1a-b712-a90d0a099544"
      },
      "execution_count": 92,
      "outputs": [
        {
          "output_type": "execute_result",
          "data": {
            "text/plain": [
              "['hoo.py']"
            ]
          },
          "metadata": {},
          "execution_count": 92
        }
      ]
    },
    {
      "cell_type": "code",
      "source": [
        "import os\n",
        "\n",
        "os.getcwd() # glob라는 모듈이 폴더 찾고, 파일 찾고 하는 것에는 더 좋습니다"
      ],
      "metadata": {
        "colab": {
          "base_uri": "https://localhost:8080/",
          "height": 36
        },
        "id": "Npp8pLVVvwQ9",
        "outputId": "3f51494f-cdac-445c-c6e3-1bc6e4b51376"
      },
      "execution_count": 76,
      "outputs": [
        {
          "output_type": "execute_result",
          "data": {
            "text/plain": [
              "'/content'"
            ],
            "application/vnd.google.colaboratory.intrinsic+json": {
              "type": "string"
            }
          },
          "metadata": {},
          "execution_count": 76
        }
      ]
    },
    {
      "cell_type": "code",
      "source": [
        "# os.makedir()\n",
        "# os.remove()\n",
        "# os.rename"
      ],
      "metadata": {
        "id": "7QV39JVUwi8c"
      },
      "execution_count": 79,
      "outputs": []
    },
    {
      "cell_type": "code",
      "source": [
        "for currend_directory, dirs, files in os.walk('/content'):\n",
        "    for f in files:\n",
        "        print(os.path.join(currend_directory, f))"
      ],
      "metadata": {
        "colab": {
          "base_uri": "https://localhost:8080/"
        },
        "id": "rL8PCfK8vToa",
        "outputId": "b3f7bf2c-3616-479a-a554-c7c8b824997a"
      },
      "execution_count": 93,
      "outputs": [
        {
          "output_type": "stream",
          "name": "stdout",
          "text": [
            "/content/hoo.py\n",
            "/content/.config/.last_update_check.json\n",
            "/content/.config/default_configs.db\n",
            "/content/.config/.last_opt_in_prompt.yaml\n",
            "/content/.config/active_config\n",
            "/content/.config/config_sentinel\n",
            "/content/.config/gce\n",
            "/content/.config/.last_survey_prompt.yaml\n",
            "/content/.config/logs/2023.09.15/13.22.10.131489.log\n",
            "/content/.config/logs/2023.09.15/13.22.09.324179.log\n",
            "/content/.config/logs/2023.09.15/13.21.32.854551.log\n",
            "/content/.config/logs/2023.09.15/13.21.41.882195.log\n",
            "/content/.config/logs/2023.09.15/13.20.39.626976.log\n",
            "/content/.config/logs/2023.09.15/13.21.06.946322.log\n",
            "/content/.config/configurations/config_default\n",
            "/content/operation/logical_operation.py\n",
            "/content/operation/arthmetic_operation.py\n",
            "/content/operation/__pycache__/arthmetic_operation.cpython-310.pyc\n",
            "/content/operation/__pycache__/logical_operation.cpython-310.pyc\n",
            "/content/__pycache__/calc.cpython-310.pyc\n",
            "/content/__pycache__/hoo.cpython-310.pyc\n",
            "/content/a/b/c/licat.py\n",
            "/content/a/b/c/__pycache__/licat.cpython-310.pyc\n",
            "/content/sample_data/anscombe.json\n",
            "/content/sample_data/README.md\n",
            "/content/sample_data/mnist_train_small.csv\n",
            "/content/sample_data/mnist_test.csv\n",
            "/content/sample_data/california_housing_test.csv\n",
            "/content/sample_data/california_housing_train.csv\n"
          ]
        }
      ]
    },
    {
      "cell_type": "code",
      "source": [
        "import sys\n",
        "\n",
        "a = [1, 2, 3]\n",
        "b = a\n",
        "c = a\n",
        "# sys.getsizeof()\n",
        "# sys.path\n",
        "sys.getrefcount(a)"
      ],
      "metadata": {
        "colab": {
          "base_uri": "https://localhost:8080/"
        },
        "id": "QEqsHtNDw1_-",
        "outputId": "5f4bbbcc-91ef-4909-df74-59ab6829c74d"
      },
      "execution_count": 81,
      "outputs": [
        {
          "output_type": "execute_result",
          "data": {
            "text/plain": [
              "4"
            ]
          },
          "metadata": {},
          "execution_count": 81
        }
      ]
    },
    {
      "cell_type": "code",
      "source": [
        "a = [1, 2, 3, 4]\n",
        "sys.getrefcount(a)"
      ],
      "metadata": {
        "colab": {
          "base_uri": "https://localhost:8080/"
        },
        "id": "_RlpFbkyxkdJ",
        "outputId": "8d173422-78e8-4699-b2fe-335082a045b6"
      },
      "execution_count": 85,
      "outputs": [
        {
          "output_type": "execute_result",
          "data": {
            "text/plain": [
              "2"
            ]
          },
          "metadata": {},
          "execution_count": 85
        }
      ]
    },
    {
      "cell_type": "code",
      "source": [
        "import datetime\n",
        "\n",
        "s = datetime.datetime(2023, 9, 19, 14, 10)\n",
        "print(s)"
      ],
      "metadata": {
        "colab": {
          "base_uri": "https://localhost:8080/"
        },
        "id": "z9G8yLtYvMt4",
        "outputId": "c1de91c2-baa2-42df-b3f3-f3348d2cc79c"
      },
      "execution_count": 96,
      "outputs": [
        {
          "output_type": "stream",
          "name": "stdout",
          "text": [
            "2023-09-19 14:10:00\n"
          ]
        }
      ]
    },
    {
      "cell_type": "code",
      "source": [
        "print(s.year)\n",
        "print(s.month)"
      ],
      "metadata": {
        "colab": {
          "base_uri": "https://localhost:8080/"
        },
        "id": "16D-ZbmH2fr9",
        "outputId": "bdf28102-6b02-48a4-f931-367451c94b09"
      },
      "execution_count": 99,
      "outputs": [
        {
          "output_type": "stream",
          "name": "stdout",
          "text": [
            "2023\n",
            "9\n"
          ]
        }
      ]
    },
    {
      "cell_type": "code",
      "source": [
        "s.weekday() # 월요일 0, 화요일 1, 수요일 2 ... 일요일 6"
      ],
      "metadata": {
        "colab": {
          "base_uri": "https://localhost:8080/"
        },
        "id": "PkkHlY3Q23Ge",
        "outputId": "37b06251-0999-4ec5-b6e5-8d9149521691"
      },
      "execution_count": 101,
      "outputs": [
        {
          "output_type": "execute_result",
          "data": {
            "text/plain": [
              "1"
            ]
          },
          "metadata": {},
          "execution_count": 101
        }
      ]
    },
    {
      "cell_type": "code",
      "source": [
        "today = datetime.date.today()\n",
        "today"
      ],
      "metadata": {
        "colab": {
          "base_uri": "https://localhost:8080/"
        },
        "id": "ri1gmDCK3sbB",
        "outputId": "b4a2a1d8-7e51-40ea-f3c5-83bfdc67b83d"
      },
      "execution_count": 103,
      "outputs": [
        {
          "output_type": "execute_result",
          "data": {
            "text/plain": [
              "datetime.date(2023, 9, 19)"
            ]
          },
          "metadata": {},
          "execution_count": 103
        }
      ]
    },
    {
      "cell_type": "code",
      "source": [
        "graduation_date = datetime.datetime(2023, 12, 29, 18, 00)\n",
        "today = datetime.date.today()\n",
        "days = datetime.timedelta(days=100)\n",
        "today + days"
      ],
      "metadata": {
        "colab": {
          "base_uri": "https://localhost:8080/"
        },
        "id": "4Mub2UWe3vtu",
        "outputId": "36c0c2c7-54d7-48d1-80ef-14b8de686d2e"
      },
      "execution_count": 106,
      "outputs": [
        {
          "output_type": "execute_result",
          "data": {
            "text/plain": [
              "datetime.date(2023, 12, 28)"
            ]
          },
          "metadata": {},
          "execution_count": 106
        }
      ]
    },
    {
      "cell_type": "code",
      "source": [
        "type(today), type(graduation_date)"
      ],
      "metadata": {
        "colab": {
          "base_uri": "https://localhost:8080/"
        },
        "id": "J-uyFcel5M6M",
        "outputId": "2c7f4fda-6801-4499-8a2f-a72f1995765f"
      },
      "execution_count": 107,
      "outputs": [
        {
          "output_type": "execute_result",
          "data": {
            "text/plain": [
              "(datetime.date, datetime.datetime)"
            ]
          },
          "metadata": {},
          "execution_count": 107
        }
      ]
    },
    {
      "cell_type": "code",
      "source": [
        "today = datetime.datetime.combine(datetime.date.today(), datetime.datetime.min.time())\n",
        "type(today)"
      ],
      "metadata": {
        "colab": {
          "base_uri": "https://localhost:8080/"
        },
        "id": "6PKy_h5Z5NRD",
        "outputId": "9a2c3c9c-eafd-41a6-9e1f-22c0038e6967"
      },
      "execution_count": 108,
      "outputs": [
        {
          "output_type": "execute_result",
          "data": {
            "text/plain": [
              "datetime.datetime"
            ]
          },
          "metadata": {},
          "execution_count": 108
        }
      ]
    },
    {
      "cell_type": "code",
      "source": [
        "graduation_date - today"
      ],
      "metadata": {
        "colab": {
          "base_uri": "https://localhost:8080/"
        },
        "id": "TdeGd2yg5POg",
        "outputId": "2aefd6d8-2242-4b78-99c4-34b91d3d80b5"
      },
      "execution_count": 110,
      "outputs": [
        {
          "output_type": "execute_result",
          "data": {
            "text/plain": [
              "datetime.timedelta(days=101, seconds=64800)"
            ]
          },
          "metadata": {},
          "execution_count": 110
        }
      ]
    },
    {
      "cell_type": "code",
      "source": [
        "import json\n",
        "d = {\n",
        "    'one': 1,\n",
        "    'two': 2,\n",
        "    'three': 3,\n",
        "}\n",
        "\n",
        "s = json.dumps(d) # 문자열로 바꿈\n",
        "print(s)\n",
        "print(type(s))"
      ],
      "metadata": {
        "colab": {
          "base_uri": "https://localhost:8080/"
        },
        "id": "RXuze9Xb5TWK",
        "outputId": "18827083-d62e-4497-d36f-e2378a7b5f43"
      },
      "execution_count": 113,
      "outputs": [
        {
          "output_type": "stream",
          "name": "stdout",
          "text": [
            "{\"one\": 1, \"two\": 2, \"three\": 3}\n",
            "<class 'str'>\n"
          ]
        }
      ]
    },
    {
      "cell_type": "code",
      "source": [
        "dd = json.loads(s) # 다시 dict로 바꿈\n",
        "print(dd)\n",
        "print(type(dd))"
      ],
      "metadata": {
        "colab": {
          "base_uri": "https://localhost:8080/"
        },
        "id": "_cgrDy4453uM",
        "outputId": "0ff83f10-cc0c-4d9b-d953-657e81b74e01"
      },
      "execution_count": 117,
      "outputs": [
        {
          "output_type": "stream",
          "name": "stdout",
          "text": [
            "{'one': 1, 'two': 2, 'three': 3}\n",
            "<class 'dict'>\n"
          ]
        }
      ]
    },
    {
      "cell_type": "code",
      "source": [
        "class Human:\n",
        "    def __init__(self, x, y):\n",
        "        self.x = x\n",
        "        self.y = y\n",
        "\n",
        "jun = Human(10, 20)\n",
        "json.dumps(jun) # Error\n",
        "\n",
        "# TypeError: Object of type Human is not JSON serializable(직렬화가 가능하지 않다!)\n",
        "# 일반 인스턴스는 직렬화가 가능하지 않습니다!\n",
        "# 직렬화: \"데이터 구조나 오브젝트 상태를 동일하거나 다른 컴퓨터 환경에 저장\n",
        "# (이를테면 파일이나 메모리 버퍼에서, 또는 네트워크 연결 링크 간 전송)하고,\n",
        "# 나중에 재구성할 수 있는 포맷으로 변환하는 과정\""
      ],
      "metadata": {
        "id": "AwEJKzvJ6G9E"
      },
      "execution_count": null,
      "outputs": []
    },
    {
      "cell_type": "code",
      "source": [
        "import collections\n",
        "\n",
        "d = collections.deque([1, 2, 3, 4])\n",
        "d.rotate(2) # 회전초밥 문제\n",
        "d"
      ],
      "metadata": {
        "colab": {
          "base_uri": "https://localhost:8080/"
        },
        "id": "5G6m3D006y_V",
        "outputId": "13b13954-afdd-48c3-bc89-89323ee62542"
      },
      "execution_count": 123,
      "outputs": [
        {
          "output_type": "execute_result",
          "data": {
            "text/plain": [
              "deque([3, 4, 1, 2])"
            ]
          },
          "metadata": {},
          "execution_count": 123
        }
      ]
    },
    {
      "cell_type": "code",
      "source": [
        "c = collections.Counter('hello world')\n",
        "c"
      ],
      "metadata": {
        "colab": {
          "base_uri": "https://localhost:8080/"
        },
        "id": "-yVu__ss76ln",
        "outputId": "fb95835b-2397-4258-a289-b7f111dcb454"
      },
      "execution_count": 125,
      "outputs": [
        {
          "output_type": "execute_result",
          "data": {
            "text/plain": [
              "Counter({'h': 1, 'e': 1, 'l': 3, 'o': 2, ' ': 1, 'w': 1, 'r': 1, 'd': 1})"
            ]
          },
          "metadata": {},
          "execution_count": 125
        }
      ]
    },
    {
      "cell_type": "code",
      "source": [
        "c.most_common()"
      ],
      "metadata": {
        "colab": {
          "base_uri": "https://localhost:8080/"
        },
        "id": "56G9Le8X8QPv",
        "outputId": "74cbf537-d8b2-4269-84ae-2008e64ebceb"
      },
      "execution_count": 126,
      "outputs": [
        {
          "output_type": "execute_result",
          "data": {
            "text/plain": [
              "[('l', 3),\n",
              " ('o', 2),\n",
              " ('h', 1),\n",
              " ('e', 1),\n",
              " (' ', 1),\n",
              " ('w', 1),\n",
              " ('r', 1),\n",
              " ('d', 1)]"
            ]
          },
          "metadata": {},
          "execution_count": 126
        }
      ]
    },
    {
      "cell_type": "markdown",
      "source": [
        "# 예외 처리와 오류 관리"
      ],
      "metadata": {
        "id": "d1x5B73oB7Jg"
      }
    },
    {
      "cell_type": "code",
      "source": [
        "# Syntax Error\n",
        "# for i in range(10)\n",
        "#     print(i)\n",
        "if False:\n",
        "    raise SyntaxError\n",
        "if True:\n",
        "    raise SyntaxError('hello world')"
      ],
      "metadata": {
        "colab": {
          "base_uri": "https://localhost:8080/",
          "height": 251
        },
        "id": "e6N9K1WOB9FL",
        "outputId": "81a7b3a4-d99d-4a5d-b526-a3b4715f8b72"
      },
      "execution_count": 132,
      "outputs": [
        {
          "output_type": "error",
          "ename": "SyntaxError",
          "evalue": "ignored",
          "traceback": [
            "Traceback \u001b[0;36m(most recent call last)\u001b[0m:\n",
            "  File \u001b[1;32m\"/usr/local/lib/python3.10/dist-packages/IPython/core/interactiveshell.py\"\u001b[0m, line \u001b[1;32m3553\u001b[0m, in \u001b[1;35mrun_code\u001b[0m\n    exec(code_obj, self.user_global_ns, self.user_ns)\n",
            "\u001b[0;36m  File \u001b[0;32m\"<ipython-input-132-8af621492e1b>\"\u001b[0;36m, line \u001b[0;32m7\u001b[0;36m, in \u001b[0;35m<cell line: 6>\u001b[0;36m\u001b[0m\n\u001b[0;31m    raise SyntaxError('hello world')\u001b[0m\n",
            "\u001b[0;36m  File \u001b[0;32m\"<string>\"\u001b[0;36m, line \u001b[0;32munknown\u001b[0m\n\u001b[0;31mSyntaxError\u001b[0m\u001b[0;31m:\u001b[0m hello world\n"
          ]
        }
      ]
    },
    {
      "cell_type": "code",
      "source": [
        "# NameError\n",
        "print(x)"
      ],
      "metadata": {
        "colab": {
          "base_uri": "https://localhost:8080/",
          "height": 198
        },
        "id": "J7NWHxapChzw",
        "outputId": "ee001085-428b-4043-b4d3-41c54168344c"
      },
      "execution_count": 134,
      "outputs": [
        {
          "output_type": "error",
          "ename": "NameError",
          "evalue": "ignored",
          "traceback": [
            "\u001b[0;31m---------------------------------------------------------------------------\u001b[0m",
            "\u001b[0;31mNameError\u001b[0m                                 Traceback (most recent call last)",
            "\u001b[0;32m<ipython-input-134-310d3297db4e>\u001b[0m in \u001b[0;36m<cell line: 2>\u001b[0;34m()\u001b[0m\n\u001b[1;32m      1\u001b[0m \u001b[0;31m# NameError\u001b[0m\u001b[0;34m\u001b[0m\u001b[0;34m\u001b[0m\u001b[0m\n\u001b[0;32m----> 2\u001b[0;31m \u001b[0mprint\u001b[0m\u001b[0;34m(\u001b[0m\u001b[0mx\u001b[0m\u001b[0;34m)\u001b[0m\u001b[0;34m\u001b[0m\u001b[0;34m\u001b[0m\u001b[0m\n\u001b[0m",
            "\u001b[0;31mNameError\u001b[0m: name 'x' is not defined"
          ]
        }
      ]
    },
    {
      "cell_type": "code",
      "source": [
        "# Type Error\n",
        "x = 10\n",
        "y = '20'\n",
        "print(x + y)"
      ],
      "metadata": {
        "colab": {
          "base_uri": "https://localhost:8080/",
          "height": 216
        },
        "id": "SCAr1NRXClBO",
        "outputId": "889d2dbd-adb0-4d91-b586-9c08adab4658"
      },
      "execution_count": 136,
      "outputs": [
        {
          "output_type": "error",
          "ename": "TypeError",
          "evalue": "ignored",
          "traceback": [
            "\u001b[0;31m---------------------------------------------------------------------------\u001b[0m",
            "\u001b[0;31mTypeError\u001b[0m                                 Traceback (most recent call last)",
            "\u001b[0;32m<ipython-input-136-62c7d5a446c2>\u001b[0m in \u001b[0;36m<cell line: 4>\u001b[0;34m()\u001b[0m\n\u001b[1;32m      2\u001b[0m \u001b[0mx\u001b[0m \u001b[0;34m=\u001b[0m \u001b[0;36m10\u001b[0m\u001b[0;34m\u001b[0m\u001b[0;34m\u001b[0m\u001b[0m\n\u001b[1;32m      3\u001b[0m \u001b[0my\u001b[0m \u001b[0;34m=\u001b[0m \u001b[0;34m'20'\u001b[0m\u001b[0;34m\u001b[0m\u001b[0;34m\u001b[0m\u001b[0m\n\u001b[0;32m----> 4\u001b[0;31m \u001b[0mprint\u001b[0m\u001b[0;34m(\u001b[0m\u001b[0mx\u001b[0m \u001b[0;34m+\u001b[0m \u001b[0my\u001b[0m\u001b[0;34m)\u001b[0m\u001b[0;34m\u001b[0m\u001b[0;34m\u001b[0m\u001b[0m\n\u001b[0m",
            "\u001b[0;31mTypeError\u001b[0m: unsupported operand type(s) for +: 'int' and 'str'"
          ]
        }
      ]
    },
    {
      "cell_type": "code",
      "source": [
        "# Index Error\n",
        "my_list = [1, 2, 3]\n",
        "print(my_list[3]) # 슬라이싱은 에러를 내지 않습니다. 기억해주세요. 많이 사용"
      ],
      "metadata": {
        "colab": {
          "base_uri": "https://localhost:8080/",
          "height": 216
        },
        "id": "bqQVI9G1Cq8B",
        "outputId": "32431ee3-9c09-4b39-bb0d-fd9998ccf254"
      },
      "execution_count": 138,
      "outputs": [
        {
          "output_type": "error",
          "ename": "IndexError",
          "evalue": "ignored",
          "traceback": [
            "\u001b[0;31m---------------------------------------------------------------------------\u001b[0m",
            "\u001b[0;31mIndexError\u001b[0m                                Traceback (most recent call last)",
            "\u001b[0;32m<ipython-input-138-f79f21f7e49e>\u001b[0m in \u001b[0;36m<cell line: 3>\u001b[0;34m()\u001b[0m\n\u001b[1;32m      1\u001b[0m \u001b[0;31m# Index Error\u001b[0m\u001b[0;34m\u001b[0m\u001b[0;34m\u001b[0m\u001b[0m\n\u001b[1;32m      2\u001b[0m \u001b[0mmy_list\u001b[0m \u001b[0;34m=\u001b[0m \u001b[0;34m[\u001b[0m\u001b[0;36m1\u001b[0m\u001b[0;34m,\u001b[0m \u001b[0;36m2\u001b[0m\u001b[0;34m,\u001b[0m \u001b[0;36m3\u001b[0m\u001b[0;34m]\u001b[0m\u001b[0;34m\u001b[0m\u001b[0;34m\u001b[0m\u001b[0m\n\u001b[0;32m----> 3\u001b[0;31m \u001b[0mprint\u001b[0m\u001b[0;34m(\u001b[0m\u001b[0mmy_list\u001b[0m\u001b[0;34m[\u001b[0m\u001b[0;36m3\u001b[0m\u001b[0;34m]\u001b[0m\u001b[0;34m)\u001b[0m\u001b[0;34m\u001b[0m\u001b[0;34m\u001b[0m\u001b[0m\n\u001b[0m",
            "\u001b[0;31mIndexError\u001b[0m: list index out of range"
          ]
        }
      ]
    },
    {
      "cell_type": "code",
      "source": [
        "# Python에서는 len 수정 불가\n",
        "my_list = [1, 2, 3]\n",
        "my_list.__len__ = 100"
      ],
      "metadata": {
        "colab": {
          "base_uri": "https://localhost:8080/",
          "height": 216
        },
        "id": "6Sll1JYIC0Gy",
        "outputId": "622841fc-e657-4bf7-c42b-8aa18ed12d91"
      },
      "execution_count": 140,
      "outputs": [
        {
          "output_type": "error",
          "ename": "AttributeError",
          "evalue": "ignored",
          "traceback": [
            "\u001b[0;31m---------------------------------------------------------------------------\u001b[0m",
            "\u001b[0;31mAttributeError\u001b[0m                            Traceback (most recent call last)",
            "\u001b[0;32m<ipython-input-140-9a789d47aedf>\u001b[0m in \u001b[0;36m<cell line: 3>\u001b[0;34m()\u001b[0m\n\u001b[1;32m      1\u001b[0m \u001b[0;31m# Python에서는 len 수정 불가\u001b[0m\u001b[0;34m\u001b[0m\u001b[0;34m\u001b[0m\u001b[0m\n\u001b[1;32m      2\u001b[0m \u001b[0mmy_list\u001b[0m \u001b[0;34m=\u001b[0m \u001b[0;34m[\u001b[0m\u001b[0;36m1\u001b[0m\u001b[0;34m,\u001b[0m \u001b[0;36m2\u001b[0m\u001b[0;34m,\u001b[0m \u001b[0;36m3\u001b[0m\u001b[0;34m]\u001b[0m\u001b[0;34m\u001b[0m\u001b[0;34m\u001b[0m\u001b[0m\n\u001b[0;32m----> 3\u001b[0;31m \u001b[0mmy_list\u001b[0m\u001b[0;34m.\u001b[0m\u001b[0m__len__\u001b[0m \u001b[0;34m=\u001b[0m \u001b[0;36m100\u001b[0m\u001b[0;34m\u001b[0m\u001b[0;34m\u001b[0m\u001b[0m\n\u001b[0m",
            "\u001b[0;31mAttributeError\u001b[0m: 'list' object attribute '__len__' is read-only"
          ]
        }
      ]
    },
    {
      "cell_type": "code",
      "source": [
        "# Key Error\n",
        "my_dict = {'a': 1, 'b': 2}\n",
        "print(my_dict['c'])"
      ],
      "metadata": {
        "colab": {
          "base_uri": "https://localhost:8080/",
          "height": 216
        },
        "id": "MWvXGMD1D9xf",
        "outputId": "92b0c6e0-94b6-42d5-b9f8-72633ada508a"
      },
      "execution_count": 142,
      "outputs": [
        {
          "output_type": "error",
          "ename": "KeyError",
          "evalue": "ignored",
          "traceback": [
            "\u001b[0;31m---------------------------------------------------------------------------\u001b[0m",
            "\u001b[0;31mKeyError\u001b[0m                                  Traceback (most recent call last)",
            "\u001b[0;32m<ipython-input-142-8f9ea626777a>\u001b[0m in \u001b[0;36m<cell line: 3>\u001b[0;34m()\u001b[0m\n\u001b[1;32m      1\u001b[0m \u001b[0;31m# Key Error\u001b[0m\u001b[0;34m\u001b[0m\u001b[0;34m\u001b[0m\u001b[0m\n\u001b[1;32m      2\u001b[0m \u001b[0mmy_dict\u001b[0m \u001b[0;34m=\u001b[0m \u001b[0;34m{\u001b[0m\u001b[0;34m'a'\u001b[0m\u001b[0;34m:\u001b[0m \u001b[0;36m1\u001b[0m\u001b[0;34m,\u001b[0m \u001b[0;34m'b'\u001b[0m\u001b[0;34m:\u001b[0m \u001b[0;36m2\u001b[0m\u001b[0;34m}\u001b[0m\u001b[0;34m\u001b[0m\u001b[0;34m\u001b[0m\u001b[0m\n\u001b[0;32m----> 3\u001b[0;31m \u001b[0mprint\u001b[0m\u001b[0;34m(\u001b[0m\u001b[0mmy_dict\u001b[0m\u001b[0;34m[\u001b[0m\u001b[0;34m'c'\u001b[0m\u001b[0;34m]\u001b[0m\u001b[0;34m)\u001b[0m\u001b[0;34m\u001b[0m\u001b[0;34m\u001b[0m\u001b[0m\n\u001b[0m",
            "\u001b[0;31mKeyError\u001b[0m: 'c'"
          ]
        }
      ]
    },
    {
      "cell_type": "code",
      "source": [
        "# Value Error\n",
        "int('a')"
      ],
      "metadata": {
        "colab": {
          "base_uri": "https://localhost:8080/",
          "height": 198
        },
        "id": "PtJVBVhxEIXZ",
        "outputId": "96310fb0-a7ad-4429-e4d6-42be13e8dec4"
      },
      "execution_count": 144,
      "outputs": [
        {
          "output_type": "error",
          "ename": "ValueError",
          "evalue": "ignored",
          "traceback": [
            "\u001b[0;31m---------------------------------------------------------------------------\u001b[0m",
            "\u001b[0;31mValueError\u001b[0m                                Traceback (most recent call last)",
            "\u001b[0;32m<ipython-input-144-b8f9f0574b88>\u001b[0m in \u001b[0;36m<cell line: 2>\u001b[0;34m()\u001b[0m\n\u001b[1;32m      1\u001b[0m \u001b[0;31m# Value Error\u001b[0m\u001b[0;34m\u001b[0m\u001b[0;34m\u001b[0m\u001b[0m\n\u001b[0;32m----> 2\u001b[0;31m \u001b[0mint\u001b[0m\u001b[0;34m(\u001b[0m\u001b[0;34m'a'\u001b[0m\u001b[0;34m)\u001b[0m\u001b[0;34m\u001b[0m\u001b[0;34m\u001b[0m\u001b[0m\n\u001b[0m",
            "\u001b[0;31mValueError\u001b[0m: invalid literal for int() with base 10: 'a'"
          ]
        }
      ]
    },
    {
      "cell_type": "code",
      "source": [
        "# ZeroDivisionError\n",
        "x = 10\n",
        "y = 0\n",
        "print(x / y)"
      ],
      "metadata": {
        "colab": {
          "base_uri": "https://localhost:8080/",
          "height": 216
        },
        "id": "JNJuXTxIELmB",
        "outputId": "598ed6ae-cd75-45f1-b610-c99878d954ed"
      },
      "execution_count": 146,
      "outputs": [
        {
          "output_type": "error",
          "ename": "ZeroDivisionError",
          "evalue": "ignored",
          "traceback": [
            "\u001b[0;31m---------------------------------------------------------------------------\u001b[0m",
            "\u001b[0;31mZeroDivisionError\u001b[0m                         Traceback (most recent call last)",
            "\u001b[0;32m<ipython-input-146-00a7a98c1fb1>\u001b[0m in \u001b[0;36m<cell line: 4>\u001b[0;34m()\u001b[0m\n\u001b[1;32m      2\u001b[0m \u001b[0mx\u001b[0m \u001b[0;34m=\u001b[0m \u001b[0;36m10\u001b[0m\u001b[0;34m\u001b[0m\u001b[0;34m\u001b[0m\u001b[0m\n\u001b[1;32m      3\u001b[0m \u001b[0my\u001b[0m \u001b[0;34m=\u001b[0m \u001b[0;36m0\u001b[0m\u001b[0;34m\u001b[0m\u001b[0;34m\u001b[0m\u001b[0m\n\u001b[0;32m----> 4\u001b[0;31m \u001b[0mprint\u001b[0m\u001b[0;34m(\u001b[0m\u001b[0mx\u001b[0m \u001b[0;34m/\u001b[0m \u001b[0my\u001b[0m\u001b[0;34m)\u001b[0m\u001b[0;34m\u001b[0m\u001b[0;34m\u001b[0m\u001b[0m\n\u001b[0m",
            "\u001b[0;31mZeroDivisionError\u001b[0m: division by zero"
          ]
        }
      ]
    },
    {
      "cell_type": "code",
      "source": [
        "# ZeroDivisionError 이럴때 사용\n",
        "def f():\n",
        "    return True\n",
        "\n",
        "def ff():\n",
        "    return 1/0\n",
        "\n",
        "print(f() or ff())"
      ],
      "metadata": {
        "colab": {
          "base_uri": "https://localhost:8080/"
        },
        "id": "RakkN9IsER1U",
        "outputId": "fb9a6128-2626-43d3-c197-d5b55e9526d9"
      },
      "execution_count": 148,
      "outputs": [
        {
          "output_type": "stream",
          "name": "stdout",
          "text": [
            "True\n"
          ]
        }
      ]
    },
    {
      "cell_type": "code",
      "source": [
        "# Attribute Error\n",
        "my_list = [1, 2, 3]\n",
        "print(my_list.appeend(4))"
      ],
      "metadata": {
        "colab": {
          "base_uri": "https://localhost:8080/",
          "height": 216
        },
        "id": "p2sErlRDEhwM",
        "outputId": "8bb94599-9bb0-4b1f-f9c5-a3424aa1bee9"
      },
      "execution_count": 151,
      "outputs": [
        {
          "output_type": "error",
          "ename": "AttributeError",
          "evalue": "ignored",
          "traceback": [
            "\u001b[0;31m---------------------------------------------------------------------------\u001b[0m",
            "\u001b[0;31mAttributeError\u001b[0m                            Traceback (most recent call last)",
            "\u001b[0;32m<ipython-input-151-dceecff01ea8>\u001b[0m in \u001b[0;36m<cell line: 3>\u001b[0;34m()\u001b[0m\n\u001b[1;32m      1\u001b[0m \u001b[0;31m# Attribute Error\u001b[0m\u001b[0;34m\u001b[0m\u001b[0;34m\u001b[0m\u001b[0m\n\u001b[1;32m      2\u001b[0m \u001b[0mmy_list\u001b[0m \u001b[0;34m=\u001b[0m \u001b[0;34m[\u001b[0m\u001b[0;36m1\u001b[0m\u001b[0;34m,\u001b[0m \u001b[0;36m2\u001b[0m\u001b[0;34m,\u001b[0m \u001b[0;36m3\u001b[0m\u001b[0;34m]\u001b[0m\u001b[0;34m\u001b[0m\u001b[0;34m\u001b[0m\u001b[0m\n\u001b[0;32m----> 3\u001b[0;31m \u001b[0mprint\u001b[0m\u001b[0;34m(\u001b[0m\u001b[0mmy_list\u001b[0m\u001b[0;34m.\u001b[0m\u001b[0mappeend\u001b[0m\u001b[0;34m(\u001b[0m\u001b[0;36m4\u001b[0m\u001b[0;34m)\u001b[0m\u001b[0;34m)\u001b[0m\u001b[0;34m\u001b[0m\u001b[0;34m\u001b[0m\u001b[0m\n\u001b[0m",
            "\u001b[0;31mAttributeError\u001b[0m: 'list' object has no attribute 'appeend'"
          ]
        }
      ]
    },
    {
      "cell_type": "code",
      "source": [
        "# Type Error\n",
        "def add(x, y):\n",
        "    return x + y\n",
        "\n",
        "add(1, 2, 3)"
      ],
      "metadata": {
        "colab": {
          "base_uri": "https://localhost:8080/",
          "height": 216
        },
        "id": "GXHIE8rsEpnY",
        "outputId": "0748ba8a-04f6-4588-b90c-ea97eefd6425"
      },
      "execution_count": 153,
      "outputs": [
        {
          "output_type": "error",
          "ename": "TypeError",
          "evalue": "ignored",
          "traceback": [
            "\u001b[0;31m---------------------------------------------------------------------------\u001b[0m",
            "\u001b[0;31mTypeError\u001b[0m                                 Traceback (most recent call last)",
            "\u001b[0;32m<ipython-input-153-cbb8c8b9d43a>\u001b[0m in \u001b[0;36m<cell line: 5>\u001b[0;34m()\u001b[0m\n\u001b[1;32m      3\u001b[0m     \u001b[0;32mreturn\u001b[0m \u001b[0mx\u001b[0m \u001b[0;34m+\u001b[0m \u001b[0my\u001b[0m\u001b[0;34m\u001b[0m\u001b[0;34m\u001b[0m\u001b[0m\n\u001b[1;32m      4\u001b[0m \u001b[0;34m\u001b[0m\u001b[0m\n\u001b[0;32m----> 5\u001b[0;31m \u001b[0madd\u001b[0m\u001b[0;34m(\u001b[0m\u001b[0;36m1\u001b[0m\u001b[0;34m,\u001b[0m \u001b[0;36m2\u001b[0m\u001b[0;34m,\u001b[0m \u001b[0;36m3\u001b[0m\u001b[0;34m)\u001b[0m\u001b[0;34m\u001b[0m\u001b[0;34m\u001b[0m\u001b[0m\n\u001b[0m",
            "\u001b[0;31mTypeError\u001b[0m: add() takes 2 positional arguments but 3 were given"
          ]
        }
      ]
    },
    {
      "cell_type": "code",
      "source": [
        "def add(x, y, *args):\n",
        "    print(x, y, args)\n",
        "    return x + y\n",
        "\n",
        "add(1, 2, 3, 4, 5, 6, 7, 8, 9, 10)"
      ],
      "metadata": {
        "colab": {
          "base_uri": "https://localhost:8080/"
        },
        "id": "8BgqaPT_FCYO",
        "outputId": "97342b82-a097-43b4-991f-63ee86475181"
      },
      "execution_count": 155,
      "outputs": [
        {
          "output_type": "stream",
          "name": "stdout",
          "text": [
            "1 2 (3, 4, 5, 6, 7, 8, 9, 10)\n"
          ]
        },
        {
          "output_type": "execute_result",
          "data": {
            "text/plain": [
              "3"
            ]
          },
          "metadata": {},
          "execution_count": 155
        }
      ]
    },
    {
      "cell_type": "code",
      "source": [
        "# File I/O Error\n",
        "f = open('non-existent.txt', 'r')\n",
        "f.read()"
      ],
      "metadata": {
        "colab": {
          "base_uri": "https://localhost:8080/",
          "height": 216
        },
        "id": "drhlzqKeFIXW",
        "outputId": "fde538d5-a88a-4790-a072-bf659448e952"
      },
      "execution_count": 156,
      "outputs": [
        {
          "output_type": "error",
          "ename": "FileNotFoundError",
          "evalue": "ignored",
          "traceback": [
            "\u001b[0;31m---------------------------------------------------------------------------\u001b[0m",
            "\u001b[0;31mFileNotFoundError\u001b[0m                         Traceback (most recent call last)",
            "\u001b[0;32m<ipython-input-156-398bb0f309eb>\u001b[0m in \u001b[0;36m<cell line: 2>\u001b[0;34m()\u001b[0m\n\u001b[1;32m      1\u001b[0m \u001b[0;31m# File I/O Error\u001b[0m\u001b[0;34m\u001b[0m\u001b[0;34m\u001b[0m\u001b[0m\n\u001b[0;32m----> 2\u001b[0;31m \u001b[0mf\u001b[0m \u001b[0;34m=\u001b[0m \u001b[0mopen\u001b[0m\u001b[0;34m(\u001b[0m\u001b[0;34m'non-existent.txt'\u001b[0m\u001b[0;34m,\u001b[0m \u001b[0;34m'r'\u001b[0m\u001b[0;34m)\u001b[0m\u001b[0;34m\u001b[0m\u001b[0;34m\u001b[0m\u001b[0m\n\u001b[0m\u001b[1;32m      3\u001b[0m \u001b[0mf\u001b[0m\u001b[0;34m.\u001b[0m\u001b[0mread\u001b[0m\u001b[0;34m(\u001b[0m\u001b[0;34m)\u001b[0m\u001b[0;34m\u001b[0m\u001b[0;34m\u001b[0m\u001b[0m\n",
            "\u001b[0;31mFileNotFoundError\u001b[0m: [Errno 2] No such file or directory: 'non-existent.txt'"
          ]
        }
      ]
    },
    {
      "cell_type": "code",
      "source": [
        "# 예외처리\n",
        "try:\n",
        "    pass # 예외가 발생할 가능성이 있는 코드\n",
        "except:\n",
        "    pass # 예외 처리 코드"
      ],
      "metadata": {
        "id": "Q3j7rWGVFMJP"
      },
      "execution_count": 157,
      "outputs": []
    },
    {
      "cell_type": "code",
      "source": [
        "try:\n",
        "    할인율 = 0\n",
        "    치킨값 = 30000 / 할인율\n",
        "    print('치킨주문 되었습니다.')\n",
        "except:\n",
        "    print('결제가 안되었습니다!')"
      ],
      "metadata": {
        "colab": {
          "base_uri": "https://localhost:8080/"
        },
        "id": "hhIdWj4wGClQ",
        "outputId": "955efc84-2f0a-4d8d-f7f5-c19c5b183003"
      },
      "execution_count": 160,
      "outputs": [
        {
          "output_type": "stream",
          "name": "stdout",
          "text": [
            "결제가 안되었습니다!\n"
          ]
        }
      ]
    },
    {
      "cell_type": "code",
      "source": [
        "try:\n",
        "    할인율 = 0\n",
        "    # 치킨값 = 30000 / 할인율\n",
        "    print('치킨주문 되었습니다.')\n",
        "except:\n",
        "    print('결제가 안되었습니다!')\n",
        "else: # 에러 없이 실행되면 else를 실행합니다. while, for + else 조합과 비슷합니다.\n",
        "    print('else')"
      ],
      "metadata": {
        "colab": {
          "base_uri": "https://localhost:8080/"
        },
        "id": "agmO4kElHEEb",
        "outputId": "48ca9b23-686c-42fd-b777-e85c8db772e9"
      },
      "execution_count": 165,
      "outputs": [
        {
          "output_type": "stream",
          "name": "stdout",
          "text": [
            "치킨주문 되었습니다.\n",
            "else\n"
          ]
        }
      ]
    },
    {
      "cell_type": "code",
      "source": [
        "try:\n",
        "    할인율 = 0\n",
        "    치킨값 = 30000 / 할인율\n",
        "    print('치킨주문 되었습니다.')\n",
        "except:\n",
        "    print('결제가 안되었습니다!')\n",
        "finally: # 무조건 실행\n",
        "    print('메인화면으로 이동')"
      ],
      "metadata": {
        "colab": {
          "base_uri": "https://localhost:8080/"
        },
        "id": "yUS2y-n1HyOd",
        "outputId": "d916b59f-3374-462f-f04f-0a5b8a915379"
      },
      "execution_count": 168,
      "outputs": [
        {
          "output_type": "stream",
          "name": "stdout",
          "text": [
            "결제가 안되었습니다!\n",
            "메인화면으로 이동\n"
          ]
        }
      ]
    },
    {
      "cell_type": "code",
      "source": [
        "# 간단하게 error을 만들고 테스트하긴 좋음\n",
        "test = 'hello'\n",
        "assert test == 'hello', '에러 메시지 1'\n",
        "assert test == 'world', '에러 메시지 2'\n",
        "assert test + 3 == 5, '에러 메시지 3'"
      ],
      "metadata": {
        "colab": {
          "base_uri": "https://localhost:8080/",
          "height": 234
        },
        "id": "3pzmStn5IRxn",
        "outputId": "c015e2ef-e68c-433f-dc78-9a82474824de"
      },
      "execution_count": 173,
      "outputs": [
        {
          "output_type": "error",
          "ename": "AssertionError",
          "evalue": "ignored",
          "traceback": [
            "\u001b[0;31m---------------------------------------------------------------------------\u001b[0m",
            "\u001b[0;31mAssertionError\u001b[0m                            Traceback (most recent call last)",
            "\u001b[0;32m<ipython-input-173-1d33fb301bf2>\u001b[0m in \u001b[0;36m<cell line: 4>\u001b[0;34m()\u001b[0m\n\u001b[1;32m      2\u001b[0m \u001b[0mtest\u001b[0m \u001b[0;34m=\u001b[0m \u001b[0;34m'hello'\u001b[0m\u001b[0;34m\u001b[0m\u001b[0;34m\u001b[0m\u001b[0m\n\u001b[1;32m      3\u001b[0m \u001b[0;32massert\u001b[0m \u001b[0mtest\u001b[0m \u001b[0;34m==\u001b[0m \u001b[0;34m'hello'\u001b[0m\u001b[0;34m,\u001b[0m \u001b[0;34m'에러 메시지 1'\u001b[0m\u001b[0;34m\u001b[0m\u001b[0;34m\u001b[0m\u001b[0m\n\u001b[0;32m----> 4\u001b[0;31m \u001b[0;32massert\u001b[0m \u001b[0mtest\u001b[0m \u001b[0;34m==\u001b[0m \u001b[0;34m'world'\u001b[0m\u001b[0;34m,\u001b[0m \u001b[0;34m'에러 메시지 2'\u001b[0m\u001b[0;34m\u001b[0m\u001b[0;34m\u001b[0m\u001b[0m\n\u001b[0m\u001b[1;32m      5\u001b[0m \u001b[0;32massert\u001b[0m \u001b[0mtest\u001b[0m \u001b[0;34m+\u001b[0m \u001b[0;36m3\u001b[0m \u001b[0;34m==\u001b[0m \u001b[0;36m5\u001b[0m\u001b[0;34m,\u001b[0m \u001b[0;34m'에러 메시지 3'\u001b[0m\u001b[0;34m\u001b[0m\u001b[0;34m\u001b[0m\u001b[0m\n",
            "\u001b[0;31mAssertionError\u001b[0m: 에러 메시지 2"
          ]
        }
      ]
    },
    {
      "cell_type": "code",
      "source": [
        "x = 10\n",
        "# raise\n",
        "# raise ValueError\n",
        "raise ValueError('코드를 잘~~ 만들어주세요')\n",
        "y = 20"
      ],
      "metadata": {
        "colab": {
          "base_uri": "https://localhost:8080/",
          "height": 234
        },
        "id": "oT1sGknRIwIA",
        "outputId": "594a9d97-db53-4fa3-ee0e-56ec6321a66b"
      },
      "execution_count": 177,
      "outputs": [
        {
          "output_type": "error",
          "ename": "ValueError",
          "evalue": "ignored",
          "traceback": [
            "\u001b[0;31m---------------------------------------------------------------------------\u001b[0m",
            "\u001b[0;31mValueError\u001b[0m                                Traceback (most recent call last)",
            "\u001b[0;32m<ipython-input-177-e62b107a428d>\u001b[0m in \u001b[0;36m<cell line: 4>\u001b[0;34m()\u001b[0m\n\u001b[1;32m      2\u001b[0m \u001b[0;31m# raise\u001b[0m\u001b[0;34m\u001b[0m\u001b[0;34m\u001b[0m\u001b[0m\n\u001b[1;32m      3\u001b[0m \u001b[0;31m# raise ValueError\u001b[0m\u001b[0;34m\u001b[0m\u001b[0;34m\u001b[0m\u001b[0m\n\u001b[0;32m----> 4\u001b[0;31m \u001b[0;32mraise\u001b[0m \u001b[0mValueError\u001b[0m\u001b[0;34m(\u001b[0m\u001b[0;34m'코드를 잘~~ 만들어주세요'\u001b[0m\u001b[0;34m)\u001b[0m\u001b[0;34m\u001b[0m\u001b[0;34m\u001b[0m\u001b[0m\n\u001b[0m\u001b[1;32m      5\u001b[0m \u001b[0my\u001b[0m \u001b[0;34m=\u001b[0m \u001b[0;36m20\u001b[0m\u001b[0;34m\u001b[0m\u001b[0;34m\u001b[0m\u001b[0m\n",
            "\u001b[0;31mValueError\u001b[0m: 코드를 잘~~ 만들어주세요"
          ]
        }
      ]
    },
    {
      "cell_type": "code",
      "source": [
        "# 에러 만들기\n",
        "class Leehojun(Exception): #Exception을 상속받으면 됩니다.\n",
        "    def __init__(self):\n",
        "        super().__init__('입력된 값이 leehojun이 아닙니다.')\n",
        "\n",
        "raise Leehojun"
      ],
      "metadata": {
        "colab": {
          "base_uri": "https://localhost:8080/",
          "height": 216
        },
        "id": "54eb2g0jJiqF",
        "outputId": "8c702959-d4d8-4bec-828e-fb0379db8c4b"
      },
      "execution_count": 179,
      "outputs": [
        {
          "output_type": "error",
          "ename": "Leehojun",
          "evalue": "ignored",
          "traceback": [
            "\u001b[0;31m---------------------------------------------------------------------------\u001b[0m",
            "\u001b[0;31mLeehojun\u001b[0m                                  Traceback (most recent call last)",
            "\u001b[0;32m<ipython-input-179-b069416157eb>\u001b[0m in \u001b[0;36m<cell line: 6>\u001b[0;34m()\u001b[0m\n\u001b[1;32m      4\u001b[0m         \u001b[0msuper\u001b[0m\u001b[0;34m(\u001b[0m\u001b[0;34m)\u001b[0m\u001b[0;34m.\u001b[0m\u001b[0m__init__\u001b[0m\u001b[0;34m(\u001b[0m\u001b[0;34m'입력된 값이 leehojun이 아닙니다.'\u001b[0m\u001b[0;34m)\u001b[0m\u001b[0;34m\u001b[0m\u001b[0;34m\u001b[0m\u001b[0m\n\u001b[1;32m      5\u001b[0m \u001b[0;34m\u001b[0m\u001b[0m\n\u001b[0;32m----> 6\u001b[0;31m \u001b[0;32mraise\u001b[0m \u001b[0mLeehojun\u001b[0m\u001b[0;34m\u001b[0m\u001b[0;34m\u001b[0m\u001b[0m\n\u001b[0m",
            "\u001b[0;31mLeehojun\u001b[0m: 입력된 값이 leehojun이 아닙니다."
          ]
        }
      ]
    },
    {
      "cell_type": "code",
      "source": [
        "import logging\n",
        "\n",
        "logging.basicConfig(level=logging.debug) # 어느 레벨부터 로깅할지, 기본으로 warning 부터 합니다.\n",
        "\n",
        "logging.debug(\"This is a debug message\") # 고쳐야 할 코드, 기록 필요\n",
        "logging.info(\"This is an info message\") # 정보성 메시지\n",
        "logging.warning(\"This is a warning message\") # 경고 메시지\n",
        "logging.error(\"This is an error message\") # 애러 메시지(프로그램은 동작)\n",
        "logging.critical(\"This is a critical message\") # 프로그램 중지(애러처리 안된경우)"
      ],
      "metadata": {
        "colab": {
          "base_uri": "https://localhost:8080/"
        },
        "id": "1suqLm3lKNB2",
        "outputId": "150eb5bd-45b4-4675-b5ed-0db2dee3438a"
      },
      "execution_count": 184,
      "outputs": [
        {
          "output_type": "stream",
          "name": "stderr",
          "text": [
            "WARNING:root:This is a warning message\n",
            "ERROR:root:This is an error message\n",
            "CRITICAL:root:This is a critical message\n"
          ]
        }
      ]
    },
    {
      "cell_type": "code",
      "source": [
        "import logging.handlers\n",
        "\n",
        "def logger():\n",
        "    log_obj = logging.getLogger(\"log_name\") # log name으로 log 객체 생성\n",
        "    log_obj.setLevel(logging.DEBUG) # 어디부터 기록할지 설정\n",
        "\n",
        "    # fileHandeler = logging.FileHandler(filename=\"./test.txt\") # 파일로 기록\n",
        "    streamHandler = logging.StreamHandler() # 콘솔에 출력\n",
        "\n",
        "    fileHandeler.setLevel(logging.INFO) # 파일 기록 레벨 설정\n",
        "    # streamHandler.setLevel(logging.DEBUG) # 콘솔 기록 레벨 설정\n",
        "\n",
        "    formatter = logging.Formatter(\"%(name)s, %(asctime)s, %(levelname)s, %(message)s\") #포멧 생성\n",
        "\n",
        "    fileHandeler.setFormatter(formatter) # 파일 메시지 포멧 설정\n",
        "    # streamHandler.setFormatter(formatter) # 콘솔 메시지 포멧 설정\n",
        "\n",
        "    log_obj.addHandler(fileHandeler) # log_obj handler에 파일 출력 방식 추가\n",
        "    # log_obj.addHandler(streamHandler) # log_obj handler에 파일 콘솔 방식 추가\n",
        "\n",
        "    return log_obj\n",
        "\n",
        "log = logger()\n",
        "\n",
        "# 아래 코드를 기록하고 싶은 곳에 함께 설정\n",
        "log.debug('debug')\n",
        "log.info('info')\n",
        "log.warning('warning')\n",
        "log.error('error')\n",
        "log.critical('critical')\n",
        "\n",
        "print('---')\n",
        "\n",
        "# 아래와 같이 사용합니다.\n",
        "def f():\n",
        "    try:\n",
        "        x = 1 / 0\n",
        "    except Exception as e:\n",
        "        print(e)\n",
        "        log.error(f'{e} error')\n",
        "\n",
        "f()"
      ],
      "metadata": {
        "colab": {
          "base_uri": "https://localhost:8080/",
          "height": 377
        },
        "id": "26kxSXf3LE6p",
        "outputId": "05a02ba1-9a10-4c30-e87d-89ce3eb40dc4"
      },
      "execution_count": 185,
      "outputs": [
        {
          "output_type": "error",
          "ename": "NameError",
          "evalue": "ignored",
          "traceback": [
            "\u001b[0;31m---------------------------------------------------------------------------\u001b[0m",
            "\u001b[0;31mNameError\u001b[0m                                 Traceback (most recent call last)",
            "\u001b[0;32m<ipython-input-185-c93f7f4833cf>\u001b[0m in \u001b[0;36m<cell line: 23>\u001b[0;34m()\u001b[0m\n\u001b[1;32m     21\u001b[0m     \u001b[0;32mreturn\u001b[0m \u001b[0mlog_obj\u001b[0m\u001b[0;34m\u001b[0m\u001b[0;34m\u001b[0m\u001b[0m\n\u001b[1;32m     22\u001b[0m \u001b[0;34m\u001b[0m\u001b[0m\n\u001b[0;32m---> 23\u001b[0;31m \u001b[0mlog\u001b[0m \u001b[0;34m=\u001b[0m \u001b[0mlogger\u001b[0m\u001b[0;34m(\u001b[0m\u001b[0;34m)\u001b[0m\u001b[0;34m\u001b[0m\u001b[0;34m\u001b[0m\u001b[0m\n\u001b[0m\u001b[1;32m     24\u001b[0m \u001b[0;34m\u001b[0m\u001b[0m\n\u001b[1;32m     25\u001b[0m \u001b[0;31m# 아래 코드를 기록하고 싶은 곳에 함께 설정\u001b[0m\u001b[0;34m\u001b[0m\u001b[0;34m\u001b[0m\u001b[0m\n",
            "\u001b[0;32m<ipython-input-185-c93f7f4833cf>\u001b[0m in \u001b[0;36mlogger\u001b[0;34m()\u001b[0m\n\u001b[1;32m      8\u001b[0m     \u001b[0mstreamHandler\u001b[0m \u001b[0;34m=\u001b[0m \u001b[0mlogging\u001b[0m\u001b[0;34m.\u001b[0m\u001b[0mStreamHandler\u001b[0m\u001b[0;34m(\u001b[0m\u001b[0;34m)\u001b[0m \u001b[0;31m# 콘솔에 출력\u001b[0m\u001b[0;34m\u001b[0m\u001b[0;34m\u001b[0m\u001b[0m\n\u001b[1;32m      9\u001b[0m \u001b[0;34m\u001b[0m\u001b[0m\n\u001b[0;32m---> 10\u001b[0;31m     \u001b[0mfileHandeler\u001b[0m\u001b[0;34m.\u001b[0m\u001b[0msetLevel\u001b[0m\u001b[0;34m(\u001b[0m\u001b[0mlogging\u001b[0m\u001b[0;34m.\u001b[0m\u001b[0mINFO\u001b[0m\u001b[0;34m)\u001b[0m \u001b[0;31m# 파일 기록 레벨 설정\u001b[0m\u001b[0;34m\u001b[0m\u001b[0;34m\u001b[0m\u001b[0m\n\u001b[0m\u001b[1;32m     11\u001b[0m     \u001b[0;31m# streamHandler.setLevel(logging.DEBUG) # 콘솔 기록 레벨 설정\u001b[0m\u001b[0;34m\u001b[0m\u001b[0;34m\u001b[0m\u001b[0m\n\u001b[1;32m     12\u001b[0m \u001b[0;34m\u001b[0m\u001b[0m\n",
            "\u001b[0;31mNameError\u001b[0m: name 'fileHandeler' is not defined"
          ]
        }
      ]
    },
    {
      "cell_type": "markdown",
      "source": [
        "# 연습문제"
      ],
      "metadata": {
        "id": "QqHg2_gzMQ-a"
      }
    },
    {
      "cell_type": "code",
      "source": [
        "# 문제 1\n",
        "# div(a, b)라고 입력했을 때 b에 0이 입력되면 예외처리를 하여 정상작동이 되게 만들어주세요\n",
        "def div(a, b):\n",
        "    return a / b\n",
        "try:\n",
        "    div(1, 0)\n",
        "except:\n",
        "    print('0으로 나눌 수 없습니다.')"
      ],
      "metadata": {
        "colab": {
          "base_uri": "https://localhost:8080/"
        },
        "id": "BVmoPua_MH-q",
        "outputId": "e20c1f82-e116-471e-e733-b39db09d4c66"
      },
      "execution_count": 186,
      "outputs": [
        {
          "output_type": "stream",
          "name": "stdout",
          "text": [
            "0으로 나눌 수 없습니다.\n"
          ]
        }
      ]
    }
  ]
}