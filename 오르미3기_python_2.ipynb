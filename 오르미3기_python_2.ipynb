{
  "nbformat": 4,
  "nbformat_minor": 0,
  "metadata": {
    "colab": {
      "provenance": [],
      "toc_visible": true,
      "authorship_tag": "ABX9TyM0JH8TN+SC2brWC+eX+KeX",
      "include_colab_link": true
    },
    "kernelspec": {
      "name": "python3",
      "display_name": "Python 3"
    },
    "language_info": {
      "name": "python"
    }
  },
  "cells": [
    {
      "cell_type": "markdown",
      "metadata": {
        "id": "view-in-github",
        "colab_type": "text"
      },
      "source": [
        "<a href=\"https://colab.research.google.com/github/UserDongHu/Ormi3/blob/main/%EC%98%A4%EB%A5%B4%EB%AF%B83%EA%B8%B0_python_2.ipynb\" target=\"_parent\"><img src=\"https://colab.research.google.com/assets/colab-badge.svg\" alt=\"Open In Colab\"/></a>"
      ]
    },
    {
      "cell_type": "markdown",
      "source": [
        "# 연산과 구문"
      ],
      "metadata": {
        "id": "43jLaWbmv1kz"
      }
    },
    {
      "cell_type": "markdown",
      "source": [
        "# 산술연산자"
      ],
      "metadata": {
        "id": "O8EE0_1Iv8Sx"
      }
    },
    {
      "cell_type": "code",
      "execution_count": null,
      "metadata": {
        "colab": {
          "base_uri": "https://localhost:8080/",
          "height": 198
        },
        "id": "sdZSAac7vqtD",
        "outputId": "20d4f017-3b89-4765-9b49-742487d68a4e"
      },
      "outputs": [
        {
          "output_type": "error",
          "ename": "TypeError",
          "evalue": "ignored",
          "traceback": [
            "\u001b[0;31m---------------------------------------------------------------------------\u001b[0m",
            "\u001b[0;31mTypeError\u001b[0m                                 Traceback (most recent call last)",
            "\u001b[0;32m<ipython-input-1-46055a007475>\u001b[0m in \u001b[0;36m<cell line: 1>\u001b[0;34m()\u001b[0m\n\u001b[0;32m----> 1\u001b[0;31m \u001b[0;34m{\u001b[0m\u001b[0;34m'one'\u001b[0m\u001b[0;34m:\u001b[0m\u001b[0;36m1\u001b[0m\u001b[0;34m}\u001b[0m \u001b[0;34m+\u001b[0m \u001b[0;34m{\u001b[0m\u001b[0;34m'two'\u001b[0m\u001b[0;34m:\u001b[0m\u001b[0;36m2\u001b[0m\u001b[0;34m}\u001b[0m \u001b[0;31m# Error\u001b[0m\u001b[0;34m\u001b[0m\u001b[0;34m\u001b[0m\u001b[0m\n\u001b[0m\u001b[1;32m      2\u001b[0m \u001b[0;34m{\u001b[0m\u001b[0;36m5\u001b[0m\u001b[0;34m}\u001b[0m \u001b[0;34m+\u001b[0m \u001b[0;34m{\u001b[0m\u001b[0;36m6\u001b[0m\u001b[0;34m}\u001b[0m \u001b[0;31m# Error\u001b[0m\u001b[0;34m\u001b[0m\u001b[0;34m\u001b[0m\u001b[0m\n",
            "\u001b[0;31mTypeError\u001b[0m: unsupported operand type(s) for +: 'dict' and 'dict'"
          ]
        }
      ],
      "source": [
        "{'one':1} + {'two':2} # Error\n",
        "{5} + {6} # Error"
      ]
    },
    {
      "cell_type": "code",
      "source": [
        "-2 * 2\n",
        "-2 **2 # 주의"
      ],
      "metadata": {
        "colab": {
          "base_uri": "https://localhost:8080/"
        },
        "id": "E9PPBwLvwZTB",
        "outputId": "ebc6c345-1815-4109-fe8a-2eebcfc5e59d"
      },
      "execution_count": null,
      "outputs": [
        {
          "output_type": "execute_result",
          "data": {
            "text/plain": [
              "-4"
            ]
          },
          "metadata": {},
          "execution_count": 4
        }
      ]
    },
    {
      "cell_type": "code",
      "source": [
        "result = [1, 2, 3] * 2\n",
        "print(result)"
      ],
      "metadata": {
        "colab": {
          "base_uri": "https://localhost:8080/"
        },
        "id": "QVmayBNHxHAq",
        "outputId": "9c062f81-657d-4c08-cc07-f681a57f8f89"
      },
      "execution_count": null,
      "outputs": [
        {
          "output_type": "stream",
          "name": "stdout",
          "text": [
            "[1, 2, 3, 1, 2, 3]\n"
          ]
        }
      ]
    },
    {
      "cell_type": "code",
      "source": [
        "a = 10\n",
        "b = 2\n",
        "print(a / b) # 결과 5.0\n",
        "print(a // b) # 결과 5"
      ],
      "metadata": {
        "colab": {
          "base_uri": "https://localhost:8080/"
        },
        "id": "_IWNYWAfxLjs",
        "outputId": "aa13e1dc-77c6-42b4-f2a2-6e1594cf5bc2"
      },
      "execution_count": null,
      "outputs": [
        {
          "output_type": "stream",
          "name": "stdout",
          "text": [
            "5.0\n",
            "5\n"
          ]
        }
      ]
    },
    {
      "cell_type": "code",
      "source": [
        "# python에서 //는 몫이 아닙니다!\n",
        "# 내림입니다!\n",
        "a = -5\n",
        "b = 2\n",
        "print(a // b)"
      ],
      "metadata": {
        "colab": {
          "base_uri": "https://localhost:8080/"
        },
        "id": "YqO4W2_lx1lP",
        "outputId": "c18993f7-8b9b-4ed7-bd57-abe43218366e"
      },
      "execution_count": null,
      "outputs": [
        {
          "output_type": "stream",
          "name": "stdout",
          "text": [
            "-3\n"
          ]
        }
      ]
    },
    {
      "cell_type": "code",
      "source": [
        "10 / 0 # ZeroDivisionError"
      ],
      "metadata": {
        "colab": {
          "base_uri": "https://localhost:8080/",
          "height": 180
        },
        "id": "RfmkNCFOyW6S",
        "outputId": "97f3b2af-c3e1-4fdc-b413-3e4ff3430663"
      },
      "execution_count": null,
      "outputs": [
        {
          "output_type": "error",
          "ename": "ZeroDivisionError",
          "evalue": "ignored",
          "traceback": [
            "\u001b[0;31m---------------------------------------------------------------------------\u001b[0m",
            "\u001b[0;31mZeroDivisionError\u001b[0m                         Traceback (most recent call last)",
            "\u001b[0;32m<ipython-input-11-b9557c3d4319>\u001b[0m in \u001b[0;36m<cell line: 1>\u001b[0;34m()\u001b[0m\n\u001b[0;32m----> 1\u001b[0;31m \u001b[0;36m10\u001b[0m \u001b[0;34m/\u001b[0m \u001b[0;36m0\u001b[0m \u001b[0;31m# Error ZeroDivisionError\u001b[0m\u001b[0;34m\u001b[0m\u001b[0;34m\u001b[0m\u001b[0m\n\u001b[0m",
            "\u001b[0;31mZeroDivisionError\u001b[0m: division by zero"
          ]
        }
      ]
    },
    {
      "cell_type": "code",
      "source": [
        "a = 10\n",
        "b = 3\n",
        "divide = a / b\n",
        "print(f'{a} ÷ {b} = {divide:.2f}')  # 결과: 10 ÷ 3 = 3.33"
      ],
      "metadata": {
        "colab": {
          "base_uri": "https://localhost:8080/"
        },
        "id": "juO-BB_xybhE",
        "outputId": "9baccd4b-0195-4219-b38a-6d5eef5fbaf8"
      },
      "execution_count": null,
      "outputs": [
        {
          "output_type": "stream",
          "name": "stdout",
          "text": [
            "10 ÷ 3 = 3.33\n"
          ]
        }
      ]
    },
    {
      "cell_type": "code",
      "source": [
        "10 % 3.3"
      ],
      "metadata": {
        "colab": {
          "base_uri": "https://localhost:8080/"
        },
        "id": "4Jn5UDL61oIO",
        "outputId": "2d58b567-e8f7-4b73-d283-de6278846510"
      },
      "execution_count": null,
      "outputs": [
        {
          "output_type": "execute_result",
          "data": {
            "text/plain": [
              "0.10000000000000053"
            ]
          },
          "metadata": {},
          "execution_count": 14
        }
      ]
    },
    {
      "cell_type": "code",
      "source": [
        "(100 % 33) / 10 # 소숫점 1자리까지 출력해야 한다"
      ],
      "metadata": {
        "colab": {
          "base_uri": "https://localhost:8080/"
        },
        "id": "_4ROVlFF1sJI",
        "outputId": "6503baaf-f55c-4385-a982-686e3f295b23"
      },
      "execution_count": null,
      "outputs": [
        {
          "output_type": "execute_result",
          "data": {
            "text/plain": [
              "0.1"
            ]
          },
          "metadata": {},
          "execution_count": 16
        }
      ]
    },
    {
      "cell_type": "code",
      "source": [
        "(1000 % 331) / 100 # 소숫점 2자리까지 출력해야 한다한다"
      ],
      "metadata": {
        "colab": {
          "base_uri": "https://localhost:8080/"
        },
        "id": "1z8fIObY1uV9",
        "outputId": "d8dffbf2-7111-44a9-ca3a-b505c4936e90"
      },
      "execution_count": null,
      "outputs": [
        {
          "output_type": "execute_result",
          "data": {
            "text/plain": [
              "0.07"
            ]
          },
          "metadata": {},
          "execution_count": 17
        }
      ]
    },
    {
      "cell_type": "code",
      "source": [
        "10 % 0 # ZeroDivisionError"
      ],
      "metadata": {
        "colab": {
          "base_uri": "https://localhost:8080/",
          "height": 180
        },
        "id": "mQHy013g2Isl",
        "outputId": "d0eb75e0-6dab-4241-c746-0cdc7b5ff36c"
      },
      "execution_count": null,
      "outputs": [
        {
          "output_type": "error",
          "ename": "ZeroDivisionError",
          "evalue": "ignored",
          "traceback": [
            "\u001b[0;31m---------------------------------------------------------------------------\u001b[0m",
            "\u001b[0;31mZeroDivisionError\u001b[0m                         Traceback (most recent call last)",
            "\u001b[0;32m<ipython-input-18-a07e6905f8be>\u001b[0m in \u001b[0;36m<cell line: 1>\u001b[0;34m()\u001b[0m\n\u001b[0;32m----> 1\u001b[0;31m \u001b[0;36m10\u001b[0m \u001b[0;34m%\u001b[0m \u001b[0;36m0\u001b[0m \u001b[0;31m# ZeroDivisionError\u001b[0m\u001b[0;34m\u001b[0m\u001b[0;34m\u001b[0m\u001b[0m\n\u001b[0m",
            "\u001b[0;31mZeroDivisionError\u001b[0m: integer division or modulo by zero"
          ]
        }
      ]
    },
    {
      "cell_type": "markdown",
      "source": [
        "# 비교연산자"
      ],
      "metadata": {
        "id": "cwU2Fv1U4mT5"
      }
    },
    {
      "cell_type": "code",
      "source": [
        "5 == '5'"
      ],
      "metadata": {
        "colab": {
          "base_uri": "https://localhost:8080/"
        },
        "id": "6Vao2RkG2M5Q",
        "outputId": "ac55f828-63d7-48c3-babd-e2256b8a4837"
      },
      "execution_count": null,
      "outputs": [
        {
          "output_type": "execute_result",
          "data": {
            "text/plain": [
              "False"
            ]
          },
          "metadata": {},
          "execution_count": 23
        }
      ]
    },
    {
      "cell_type": "code",
      "source": [
        "print('apple' < 'banana') # 유니코드 기준"
      ],
      "metadata": {
        "colab": {
          "base_uri": "https://localhost:8080/"
        },
        "id": "8-qPf5-523NZ",
        "outputId": "ed143a95-8eed-479e-ccef-a98481cf99a1"
      },
      "execution_count": null,
      "outputs": [
        {
          "output_type": "stream",
          "name": "stdout",
          "text": [
            "True\n"
          ]
        }
      ]
    },
    {
      "cell_type": "code",
      "source": [
        "x = 10\n",
        "5 < x < 15"
      ],
      "metadata": {
        "colab": {
          "base_uri": "https://localhost:8080/"
        },
        "id": "tHCA5LId4EIm",
        "outputId": "61894531-b1a7-4753-96f0-0859f0a0f3ec"
      },
      "execution_count": null,
      "outputs": [
        {
          "output_type": "execute_result",
          "data": {
            "text/plain": [
              "True"
            ]
          },
          "metadata": {},
          "execution_count": 27
        }
      ]
    },
    {
      "cell_type": "code",
      "source": [
        "[10, 20, 30] > [20, 30, 40] # False 맨 앞자리 비교"
      ],
      "metadata": {
        "colab": {
          "base_uri": "https://localhost:8080/"
        },
        "id": "KGn7Zwde4M1G",
        "outputId": "17bb3085-be11-4a62-ff74-00ff4d07c323"
      },
      "execution_count": null,
      "outputs": [
        {
          "output_type": "execute_result",
          "data": {
            "text/plain": [
              "False"
            ]
          },
          "metadata": {},
          "execution_count": 28
        }
      ]
    },
    {
      "cell_type": "markdown",
      "source": [
        "# 논리연산자"
      ],
      "metadata": {
        "id": "Qlr3wEWw4hFx"
      }
    },
    {
      "cell_type": "code",
      "source": [
        "print(True and False)\n",
        "print(True and True)\n",
        "print(True or False)\n",
        "print(True or True)"
      ],
      "metadata": {
        "colab": {
          "base_uri": "https://localhost:8080/"
        },
        "id": "nWhgH9Dj4gEb",
        "outputId": "6264b981-64b0-4fb3-a126-f4717d01f08f"
      },
      "execution_count": null,
      "outputs": [
        {
          "output_type": "stream",
          "name": "stdout",
          "text": [
            "False\n",
            "True\n",
            "True\n",
            "True\n"
          ]
        }
      ]
    },
    {
      "cell_type": "code",
      "source": [
        "for i in range(101):\n",
        "    if i % 3 == 0 and i % 5 == 0:\n",
        "        print(i)"
      ],
      "metadata": {
        "colab": {
          "base_uri": "https://localhost:8080/"
        },
        "id": "yfezQSIf49dZ",
        "outputId": "bbf5a6d8-0fda-42fe-f43f-701d393dbfb7"
      },
      "execution_count": null,
      "outputs": [
        {
          "output_type": "stream",
          "name": "stdout",
          "text": [
            "0\n",
            "15\n",
            "30\n",
            "45\n",
            "60\n",
            "75\n",
            "90\n"
          ]
        }
      ]
    },
    {
      "cell_type": "code",
      "source": [
        "# 여기서부터는 나아가기 입니다.\n",
        "a = True\n",
        "b = False\n",
        "a and b and ccc and ddd # b가 False라 뒤에는 안봄. 없는 변수 넣어도 실행됨"
      ],
      "metadata": {
        "colab": {
          "base_uri": "https://localhost:8080/"
        },
        "id": "oqQ798k-5YQ8",
        "outputId": "a279c06c-5d4a-428e-f30b-8744f227fca7"
      },
      "execution_count": null,
      "outputs": [
        {
          "output_type": "execute_result",
          "data": {
            "text/plain": [
              "False"
            ]
          },
          "metadata": {},
          "execution_count": 75
        }
      ]
    },
    {
      "cell_type": "code",
      "source": [
        "a = True\n",
        "b = False\n",
        "a or b or asdf or asdf # 마찬가지로 a가 True라서 뒤에는 안봄."
      ],
      "metadata": {
        "colab": {
          "base_uri": "https://localhost:8080/"
        },
        "id": "J0Vlzutf64pl",
        "outputId": "c906349c-0f69-4ca3-888d-23e79675bbb2"
      },
      "execution_count": null,
      "outputs": [
        {
          "output_type": "execute_result",
          "data": {
            "text/plain": [
              "True"
            ]
          },
          "metadata": {},
          "execution_count": 40
        }
      ]
    },
    {
      "cell_type": "code",
      "source": [
        "a = True\n",
        "b = False\n",
        "c = False\n",
        "d = True\n",
        "\n",
        "a and b or c and d\n",
        "(a and b) or (c and d)"
      ],
      "metadata": {
        "colab": {
          "base_uri": "https://localhost:8080/"
        },
        "id": "Y3rENfyJ8bSb",
        "outputId": "ee813b3e-4f43-4e7c-819b-822f7ab72b16"
      },
      "execution_count": null,
      "outputs": [
        {
          "output_type": "execute_result",
          "data": {
            "text/plain": [
              "False"
            ]
          },
          "metadata": {},
          "execution_count": 42
        }
      ]
    },
    {
      "cell_type": "code",
      "source": [
        "a = True\n",
        "b = False\n",
        "c = False\n",
        "d = True\n",
        "\n",
        "a and not b or c and d\n",
        "(a and (not b)) or (c and d)"
      ],
      "metadata": {
        "id": "WlnXnZzw8ioU",
        "colab": {
          "base_uri": "https://localhost:8080/"
        },
        "outputId": "50736263-e26e-47c7-aa95-9f44cb8f75ae"
      },
      "execution_count": null,
      "outputs": [
        {
          "output_type": "execute_result",
          "data": {
            "text/plain": [
              "True"
            ]
          },
          "metadata": {},
          "execution_count": 76
        }
      ]
    },
    {
      "cell_type": "code",
      "source": [
        "# 단락회로평가\n",
        "a = 'hello'\n",
        "b = ''\n",
        "print(a or b)"
      ],
      "metadata": {
        "colab": {
          "base_uri": "https://localhost:8080/"
        },
        "id": "y0kDYB8d7bTT",
        "outputId": "886bb12b-649e-4b24-dcb0-376afd9c3fc6"
      },
      "execution_count": null,
      "outputs": [
        {
          "output_type": "stream",
          "name": "stdout",
          "text": [
            "hello\n"
          ]
        }
      ]
    },
    {
      "cell_type": "code",
      "source": [
        "a = ''\n",
        "b = 'world'\n",
        "a or b"
      ],
      "metadata": {
        "colab": {
          "base_uri": "https://localhost:8080/",
          "height": 36
        },
        "id": "XnIxyDHM9l9C",
        "outputId": "972ed6c7-8275-4037-d5da-9065abc617a0"
      },
      "execution_count": null,
      "outputs": [
        {
          "output_type": "execute_result",
          "data": {
            "text/plain": [
              "'world'"
            ],
            "application/vnd.google.colaboratory.intrinsic+json": {
              "type": "string"
            }
          },
          "metadata": {},
          "execution_count": 45
        }
      ]
    },
    {
      "cell_type": "code",
      "source": [
        "username = ''\n",
        "username = username or '이름을 정하지 않았습니다.'\n",
        "username"
      ],
      "metadata": {
        "colab": {
          "base_uri": "https://localhost:8080/",
          "height": 36
        },
        "id": "-Ribtwc-9ooB",
        "outputId": "b0e5b068-012d-4b9f-9aaf-5f9cdacb7b82"
      },
      "execution_count": null,
      "outputs": [
        {
          "output_type": "execute_result",
          "data": {
            "text/plain": [
              "'이름을 정하지 않았습니다.'"
            ],
            "application/vnd.google.colaboratory.intrinsic+json": {
              "type": "string"
            }
          },
          "metadata": {},
          "execution_count": 47
        }
      ]
    },
    {
      "cell_type": "code",
      "source": [
        "username = 'licat'\n",
        "username = username or '이름을 정하지 않았습니다.'\n",
        "username"
      ],
      "metadata": {
        "colab": {
          "base_uri": "https://localhost:8080/",
          "height": 36
        },
        "id": "PtLuz2pf9vQx",
        "outputId": "79179ffd-b3f7-442c-e288-fccd338356d1"
      },
      "execution_count": null,
      "outputs": [
        {
          "output_type": "execute_result",
          "data": {
            "text/plain": [
              "'licat'"
            ],
            "application/vnd.google.colaboratory.intrinsic+json": {
              "type": "string"
            }
          },
          "metadata": {},
          "execution_count": 49
        }
      ]
    },
    {
      "cell_type": "code",
      "source": [
        "# result = functionA() or functionB()\n",
        "# 앞의 값이 None이나 0이 아니라면 뒤의 값으로 result를 만들겠다는 얘기"
      ],
      "metadata": {
        "id": "zbP1TBNp9-NF"
      },
      "execution_count": null,
      "outputs": []
    },
    {
      "cell_type": "markdown",
      "source": [
        "# 할당연산"
      ],
      "metadata": {
        "id": "hhDv1VvG-lbF"
      }
    },
    {
      "cell_type": "code",
      "source": [
        "x = 10\n",
        "y = 20"
      ],
      "metadata": {
        "id": "GV4cC4hi-nG5"
      },
      "execution_count": null,
      "outputs": []
    },
    {
      "cell_type": "code",
      "source": [
        "x = x + 1"
      ],
      "metadata": {
        "id": "3HfwyePM_EcI"
      },
      "execution_count": null,
      "outputs": []
    },
    {
      "cell_type": "code",
      "source": [
        "x += 1"
      ],
      "metadata": {
        "id": "fBeFUqVF_jPv"
      },
      "execution_count": null,
      "outputs": []
    },
    {
      "cell_type": "code",
      "source": [
        "x /= 1\n",
        "x //= 1\n",
        "x **= 1\n",
        "x *= 1\n",
        "x %= 1"
      ],
      "metadata": {
        "id": "i0Vafbck_kY8"
      },
      "execution_count": null,
      "outputs": []
    },
    {
      "cell_type": "markdown",
      "source": [
        "# id 연산자, is 연산자, is not 연산자"
      ],
      "metadata": {
        "id": "e-BcGrhy_0MS"
      }
    },
    {
      "cell_type": "code",
      "source": [
        "a = 10000\n",
        "b = 10000\n",
        "a is b"
      ],
      "metadata": {
        "colab": {
          "base_uri": "https://localhost:8080/"
        },
        "id": "tUl49PAL_4_T",
        "outputId": "56ff1a2d-b759-4425-bfe4-383e13f2238c"
      },
      "execution_count": null,
      "outputs": [
        {
          "output_type": "execute_result",
          "data": {
            "text/plain": [
              "False"
            ]
          },
          "metadata": {},
          "execution_count": 56
        }
      ]
    },
    {
      "cell_type": "code",
      "source": [
        "id(a), id(b)"
      ],
      "metadata": {
        "colab": {
          "base_uri": "https://localhost:8080/"
        },
        "id": "QBKbOedQ_7Sh",
        "outputId": "236cb404-5105-43e7-9210-20accfb03e86"
      },
      "execution_count": null,
      "outputs": [
        {
          "output_type": "execute_result",
          "data": {
            "text/plain": [
              "(137880992029264, 137880992034352)"
            ]
          },
          "metadata": {},
          "execution_count": 58
        }
      ]
    },
    {
      "cell_type": "code",
      "source": [
        "a = [1, 2, 3]\n",
        "b = [1, 2, 3]\n",
        "a is b"
      ],
      "metadata": {
        "id": "EYSTn8dBAChx",
        "outputId": "27325cb4-0c57-4c2d-a3ba-a75c2bd74789",
        "colab": {
          "base_uri": "https://localhost:8080/"
        }
      },
      "execution_count": null,
      "outputs": [
        {
          "output_type": "execute_result",
          "data": {
            "text/plain": [
              "False"
            ]
          },
          "metadata": {},
          "execution_count": 60
        }
      ]
    },
    {
      "cell_type": "markdown",
      "source": [
        "# 연습문제"
      ],
      "metadata": {
        "id": "giCPej_BFW3M"
      }
    },
    {
      "cell_type": "code",
      "source": [
        "# 문제 1번\n",
        "x = 3\n",
        "y = 5\n",
        "result = (isinstance(x, int) and isinstance(y, int) and x + y) # 여기에 논리연산자를 더 붙여 두 수를 더하는 코드를 만들어보세요.\n",
        "result # 8이 출력되어야 합니다."
      ],
      "metadata": {
        "colab": {
          "base_uri": "https://localhost:8080/"
        },
        "id": "ciCQfAe9FMWa",
        "outputId": "4a7da398-e956-4183-b7d7-4e48dc3e2076"
      },
      "execution_count": null,
      "outputs": [
        {
          "output_type": "execute_result",
          "data": {
            "text/plain": [
              "8"
            ]
          },
          "metadata": {},
          "execution_count": 67
        }
      ]
    },
    {
      "cell_type": "code",
      "source": [
        "# 문제 2번\n",
        "# 다음 출력값은 무엇일까요? 왜 그러한가요?\n",
        "print('hello' < 'hell o') # False : hell까지 같아서 o와 공백의 유니코드값을 비교.\n",
        "print([10, 20, 30] < [10, 19, 100]) # False : 10이 같으므로 20과 19값을 비교.\n",
        "print(10 % 3.3 == 0.1) # False : 부동소수점 때문에 같지 않다."
      ],
      "metadata": {
        "colab": {
          "base_uri": "https://localhost:8080/"
        },
        "id": "VcxRkj0MFbGW",
        "outputId": "9f6a700e-1574-4e0a-bc5f-2bdc536b063d"
      },
      "execution_count": null,
      "outputs": [
        {
          "output_type": "stream",
          "name": "stdout",
          "text": [
            "False\n",
            "False\n",
            "False\n"
          ]
        }
      ]
    },
    {
      "cell_type": "code",
      "source": [
        "# 문제 3번\n",
        "# 어떤 이메일을 쓰고 있는지 출력하는 코드를 작성해주세요.\n",
        "email2 = 'abc@gmail.com' # gmail\n",
        "email3 = 'abc@naver.com' # naver\n",
        "email4 = 'abc@weniv.co.kr' # weniv\n",
        "email5 = 'li.cat@weniv.co.kr' # weniv\n",
        "print(email5.split('@')[1].split('.')[0])"
      ],
      "metadata": {
        "colab": {
          "base_uri": "https://localhost:8080/",
          "height": 36
        },
        "id": "TQ3DqADHFzBI",
        "outputId": "2d74775e-3293-4a0f-eeb3-a27e9a67bd7e"
      },
      "execution_count": null,
      "outputs": [
        {
          "output_type": "execute_result",
          "data": {
            "text/plain": [
              "'weniv'"
            ],
            "application/vnd.google.colaboratory.intrinsic+json": {
              "type": "string"
            }
          },
          "metadata": {},
          "execution_count": 74
        }
      ]
    },
    {
      "cell_type": "markdown",
      "source": [
        "# in 구문"
      ],
      "metadata": {
        "id": "0dRwmiccxAhD"
      }
    },
    {
      "cell_type": "code",
      "source": [
        "# is 는 is not 이고, in 은 not in\n",
        "10 in [10, 20, 30]"
      ],
      "metadata": {
        "colab": {
          "base_uri": "https://localhost:8080/"
        },
        "id": "y14HIfJPxCbc",
        "outputId": "1d8c5d6e-1cd3-47cf-9a8c-9492ddb9cdfb"
      },
      "execution_count": null,
      "outputs": [
        {
          "output_type": "execute_result",
          "data": {
            "text/plain": [
              "True"
            ]
          },
          "metadata": {},
          "execution_count": 2
        }
      ]
    },
    {
      "cell_type": "code",
      "source": [
        "'h' in 'hello world'"
      ],
      "metadata": {
        "colab": {
          "base_uri": "https://localhost:8080/"
        },
        "id": "YpKYByx3x7da",
        "outputId": "c054b16c-36e1-405b-ec4b-cabde8835a29"
      },
      "execution_count": null,
      "outputs": [
        {
          "output_type": "execute_result",
          "data": {
            "text/plain": [
              "True"
            ]
          },
          "metadata": {},
          "execution_count": 4
        }
      ]
    },
    {
      "cell_type": "code",
      "source": [
        "'world' in 'hello world'"
      ],
      "metadata": {
        "colab": {
          "base_uri": "https://localhost:8080/"
        },
        "id": "cwiBnBvFyAST",
        "outputId": "6d97430d-9844-4c96-a563-f13e5e0ac96e"
      },
      "execution_count": null,
      "outputs": [
        {
          "output_type": "execute_result",
          "data": {
            "text/plain": [
              "True"
            ]
          },
          "metadata": {},
          "execution_count": 5
        }
      ]
    },
    {
      "cell_type": "code",
      "source": [
        "'hell' not in 'hello world'"
      ],
      "metadata": {
        "colab": {
          "base_uri": "https://localhost:8080/"
        },
        "id": "Ewyao4d2yCi5",
        "outputId": "cce58126-b3ee-406a-9ac0-ebdaee1974aa"
      },
      "execution_count": null,
      "outputs": [
        {
          "output_type": "execute_result",
          "data": {
            "text/plain": [
              "False"
            ]
          },
          "metadata": {},
          "execution_count": 6
        }
      ]
    },
    {
      "cell_type": "code",
      "source": [
        "'wolf' not in 'hello world'"
      ],
      "metadata": {
        "colab": {
          "base_uri": "https://localhost:8080/"
        },
        "id": "6oxVt1bMyRkG",
        "outputId": "35eebe5d-1df2-4ac2-c1ef-1e8a9c9fef01"
      },
      "execution_count": null,
      "outputs": [
        {
          "output_type": "execute_result",
          "data": {
            "text/plain": [
              "True"
            ]
          },
          "metadata": {},
          "execution_count": 7
        }
      ]
    },
    {
      "cell_type": "code",
      "source": [
        "a = {'key1': 'value1', 'key2': 'value2'} #딕셔너리\n",
        "b = {10, 10, 20}\n",
        "10 in b # 출력: True\n",
        "{10} in b # 출력: False, 주의\n",
        "{10, 20} in b # 출력: False, 주의\n",
        "\n",
        "'key1' in a # 출력: True\n",
        "'value1' in a # 출력: False\n",
        "('key1', 'key2') in a # 출력: False\n",
        "{'key1':'value1'} in a # error"
      ],
      "metadata": {
        "colab": {
          "base_uri": "https://localhost:8080/",
          "height": 215
        },
        "id": "QKeNB-8nyUTg",
        "outputId": "38478cbd-574b-4b34-e5db-3f9de5f8fed2"
      },
      "execution_count": null,
      "outputs": [
        {
          "output_type": "error",
          "ename": "TypeError",
          "evalue": "ignored",
          "traceback": [
            "\u001b[0;31m---------------------------------------------------------------------------\u001b[0m",
            "\u001b[0;31mTypeError\u001b[0m                                 Traceback (most recent call last)",
            "\u001b[0;32m<ipython-input-9-b54461018479>\u001b[0m in \u001b[0;36m<cell line: 10>\u001b[0;34m()\u001b[0m\n\u001b[1;32m      8\u001b[0m \u001b[0;34m'value'\u001b[0m \u001b[0;32min\u001b[0m \u001b[0ma\u001b[0m \u001b[0;31m# 출력: False\u001b[0m\u001b[0;34m\u001b[0m\u001b[0;34m\u001b[0m\u001b[0m\n\u001b[1;32m      9\u001b[0m \u001b[0;34m(\u001b[0m\u001b[0;34m'key1'\u001b[0m\u001b[0;34m,\u001b[0m \u001b[0;34m'key2'\u001b[0m\u001b[0;34m)\u001b[0m \u001b[0;32min\u001b[0m \u001b[0ma\u001b[0m \u001b[0;31m# 출력: False\u001b[0m\u001b[0;34m\u001b[0m\u001b[0;34m\u001b[0m\u001b[0m\n\u001b[0;32m---> 10\u001b[0;31m \u001b[0;34m{\u001b[0m\u001b[0;34m'key1'\u001b[0m\u001b[0;34m:\u001b[0m\u001b[0;34m'value1'\u001b[0m\u001b[0;34m}\u001b[0m \u001b[0;32min\u001b[0m \u001b[0ma\u001b[0m \u001b[0;31m# error\u001b[0m\u001b[0;34m\u001b[0m\u001b[0;34m\u001b[0m\u001b[0m\n\u001b[0m",
            "\u001b[0;31mTypeError\u001b[0m: unhashable type: 'dict'"
          ]
        }
      ]
    },
    {
      "cell_type": "code",
      "source": [
        "'value1' in a.values()"
      ],
      "metadata": {
        "id": "oJRaFbYpyrQ8"
      },
      "execution_count": null,
      "outputs": []
    },
    {
      "cell_type": "markdown",
      "source": [
        "# 연산자 우선순위"
      ],
      "metadata": {
        "id": "rv5jIaNqziuB"
      }
    },
    {
      "cell_type": "code",
      "source": [
        "-2 ** 2"
      ],
      "metadata": {
        "colab": {
          "base_uri": "https://localhost:8080/"
        },
        "id": "8oVRG5xgzkK_",
        "outputId": "54b736c6-0d44-4a40-cf08-fa6101df9594"
      },
      "execution_count": null,
      "outputs": [
        {
          "output_type": "execute_result",
          "data": {
            "text/plain": [
              "-4"
            ]
          },
          "metadata": {},
          "execution_count": 10
        }
      ]
    },
    {
      "cell_type": "code",
      "source": [
        "True * True and True + False\n",
        "# ((True * True) and (True + False))"
      ],
      "metadata": {
        "colab": {
          "base_uri": "https://localhost:8080/"
        },
        "id": "LMHaSqeHzsXQ",
        "outputId": "a2a055d0-0903-4f8c-a6a3-33870dbb5953"
      },
      "execution_count": null,
      "outputs": [
        {
          "output_type": "execute_result",
          "data": {
            "text/plain": [
              "1"
            ]
          },
          "metadata": {},
          "execution_count": 11
        }
      ]
    },
    {
      "cell_type": "code",
      "source": [
        "# 복합 할당 연산자가 가장 나중!\n",
        "a = 10\n",
        "a += 10 * 100\n",
        "a"
      ],
      "metadata": {
        "colab": {
          "base_uri": "https://localhost:8080/"
        },
        "id": "7aT0vCCz0BXP",
        "outputId": "da8ee6c6-29a4-48d9-b606-0cfd7922e431"
      },
      "execution_count": null,
      "outputs": [
        {
          "output_type": "execute_result",
          "data": {
            "text/plain": [
              "1010"
            ]
          },
          "metadata": {},
          "execution_count": 13
        }
      ]
    },
    {
      "cell_type": "code",
      "source": [
        "a = 10\n",
        "a *= 10 + 100\n",
        "a"
      ],
      "metadata": {
        "colab": {
          "base_uri": "https://localhost:8080/"
        },
        "id": "Wrko2VAs05AP",
        "outputId": "59959377-fbdf-4e5c-b253-9d603eb84488"
      },
      "execution_count": null,
      "outputs": [
        {
          "output_type": "execute_result",
          "data": {
            "text/plain": [
              "1100"
            ]
          },
          "metadata": {},
          "execution_count": 14
        }
      ]
    },
    {
      "cell_type": "markdown",
      "source": [
        "# 연습문제"
      ],
      "metadata": {
        "id": "9DsCuga41Vg5"
      }
    },
    {
      "cell_type": "code",
      "source": [
        "# 그리디 알고리즘\n",
        "# 10000원짜리를 들고가서 1500원짜리 월드콘을 사먹었을 때, 거스름돈을 가장 적게 줄 수 있는 코드를 작성\n",
        "\n",
        "거스름돈 = 10000 - 1500\n",
        "print(거스름돈 // 5000, '5000원')\n",
        "거스름돈 %= 5000\n",
        "print(거스름돈 // 1000, '1000원')\n",
        "거스름돈 %= 1000\n",
        "print(거스름돈 // 500, '500원')\n",
        "거스름돈 %= 500\n",
        "print(거스름돈 // 100, '100원')\n",
        "거스름돈 %= 100"
      ],
      "metadata": {
        "colab": {
          "base_uri": "https://localhost:8080/"
        },
        "id": "EmzXgsRa1TuT",
        "outputId": "82ee17e5-4898-4b23-88c6-7939e38ab78c"
      },
      "execution_count": null,
      "outputs": [
        {
          "output_type": "stream",
          "name": "stdout",
          "text": [
            "1 5000원\n",
            "3 1000원\n",
            "1 500원\n",
            "0 100원\n"
          ]
        }
      ]
    },
    {
      "cell_type": "markdown",
      "source": [
        "# 함수"
      ],
      "metadata": {
        "id": "4oQnn35Y6LCC"
      }
    },
    {
      "cell_type": "code",
      "source": [
        "def 부지매입():\n",
        "    pass\n",
        "\n",
        "def 설계도면작성():\n",
        "    pass\n",
        "\n",
        "def 인력모집():\n",
        "    pass\n",
        "\n",
        "def 벽돌쌓기():\n",
        "    pass\n",
        "\n",
        "def 지붕올리기():\n",
        "    pass\n",
        "\n",
        "부지매입()\n",
        "설계도면작성()\n",
        "인력모집()\n",
        "벽돌쌓기()\n",
        "지붕올리기()"
      ],
      "metadata": {
        "id": "mPVkEshq6M5W"
      },
      "execution_count": null,
      "outputs": []
    },
    {
      "cell_type": "code",
      "source": [
        "#들여쓰기\n",
        "def printnum(): #함수의 정의\n",
        "    print('1')\n",
        "    print('2')\n",
        "    print('3')\n",
        "    # return None\n",
        "\n",
        "a = printnum()\n",
        "print(a) #함수의 호출"
      ],
      "metadata": {
        "colab": {
          "base_uri": "https://localhost:8080/"
        },
        "id": "CNgQpKax6U7J",
        "outputId": "b6841c5e-c5f6-4c64-fb98-6efe73fe9c1f"
      },
      "execution_count": 26,
      "outputs": [
        {
          "output_type": "stream",
          "name": "stdout",
          "text": [
            "1\n",
            "2\n",
            "3\n",
            "None\n"
          ]
        }
      ]
    },
    {
      "cell_type": "code",
      "source": [
        "# 함수의 종료 구분은 들여쓰기 기준이며\n",
        "# return으로도 구분이 됩니다.\n",
        "def printnum():\n",
        "    print('1')\n",
        "    return\n",
        "    print('2')\n",
        "print('3')\n",
        "printnum()\n",
        "print(printnum())"
      ],
      "metadata": {
        "colab": {
          "base_uri": "https://localhost:8080/"
        },
        "id": "PBr36LUA7usg",
        "outputId": "889f02f7-13b2-42d4-aaad-c0fca8c5c484"
      },
      "execution_count": 39,
      "outputs": [
        {
          "output_type": "stream",
          "name": "stdout",
          "text": [
            "3\n",
            "1\n",
            "1\n",
            "None\n"
          ]
        }
      ]
    },
    {
      "cell_type": "code",
      "source": [
        "print(type(printnum))\n",
        "type(printnum)\n",
        "dir(printnum)"
      ],
      "metadata": {
        "colab": {
          "base_uri": "https://localhost:8080/"
        },
        "id": "fYvM7NDf7zwl",
        "outputId": "9d398fde-0d21-4edc-9ca9-7e55b4b3dfa4"
      },
      "execution_count": 87,
      "outputs": [
        {
          "output_type": "stream",
          "name": "stdout",
          "text": [
            "<class 'function'>\n"
          ]
        },
        {
          "output_type": "execute_result",
          "data": {
            "text/plain": [
              "['__annotations__',\n",
              " '__builtins__',\n",
              " '__call__',\n",
              " '__class__',\n",
              " '__closure__',\n",
              " '__code__',\n",
              " '__defaults__',\n",
              " '__delattr__',\n",
              " '__dict__',\n",
              " '__dir__',\n",
              " '__doc__',\n",
              " '__eq__',\n",
              " '__format__',\n",
              " '__ge__',\n",
              " '__get__',\n",
              " '__getattribute__',\n",
              " '__globals__',\n",
              " '__gt__',\n",
              " '__hash__',\n",
              " '__init__',\n",
              " '__init_subclass__',\n",
              " '__kwdefaults__',\n",
              " '__le__',\n",
              " '__lt__',\n",
              " '__module__',\n",
              " '__name__',\n",
              " '__ne__',\n",
              " '__new__',\n",
              " '__qualname__',\n",
              " '__reduce__',\n",
              " '__reduce_ex__',\n",
              " '__repr__',\n",
              " '__setattr__',\n",
              " '__sizeof__',\n",
              " '__str__',\n",
              " '__subclasshook__']"
            ]
          },
          "metadata": {},
          "execution_count": 87
        }
      ]
    },
    {
      "cell_type": "code",
      "source": [
        "a = None # None은 출력되지않음\n",
        "a"
      ],
      "metadata": {
        "id": "ULUtLuO_jkMX"
      },
      "execution_count": 85,
      "outputs": []
    },
    {
      "cell_type": "code",
      "source": [
        "# 파선아실 파라미터는 선언할때 아규먼트는 실행할때\n",
        "def function(x, y): # x, y = 파라미터\n",
        "    z = x + y\n",
        "    return z\n",
        "print('function(5, 7)=', function(5, 7)) # 5, 7 = 아규먼트"
      ],
      "metadata": {
        "id": "AwU-NlWa8AhU"
      },
      "execution_count": null,
      "outputs": []
    },
    {
      "cell_type": "code",
      "source": [
        "# 함수 안에 함수\n",
        "def f():\n",
        "    def ff():\n",
        "        return 100\n",
        "    x = ff()\n",
        "    return x\n",
        "f()\n",
        "# ff() 함수 내부에서 선언한 변수와 함수는 밖에서 호출할 수 없습니다."
      ],
      "metadata": {
        "colab": {
          "base_uri": "https://localhost:8080/"
        },
        "id": "rbQj71PC83Bo",
        "outputId": "432499af-7347-4133-b18f-21437cb4bcd3"
      },
      "execution_count": 35,
      "outputs": [
        {
          "output_type": "execute_result",
          "data": {
            "text/plain": [
              "100"
            ]
          },
          "metadata": {},
          "execution_count": 35
        }
      ]
    },
    {
      "cell_type": "code",
      "source": [
        "# 함수를 아규먼트로 전달\n",
        "def f(a, b):\n",
        "    return a + b\n",
        "\n",
        "def ff(a):\n",
        "    return a(10, 20)\n",
        "\n",
        "ff(f)"
      ],
      "metadata": {
        "colab": {
          "base_uri": "https://localhost:8080/"
        },
        "id": "X_zPljtP8_fh",
        "outputId": "c1a9e5a7-d9b1-4c1e-bf15-6a90f2700f05"
      },
      "execution_count": 36,
      "outputs": [
        {
          "output_type": "execute_result",
          "data": {
            "text/plain": [
              "30"
            ]
          },
          "metadata": {},
          "execution_count": 36
        }
      ]
    },
    {
      "cell_type": "code",
      "source": [
        "def f():\n",
        "    pass # pass 는 종료가 아니라 없는 것으로 취급.\n",
        "    print(1)\n",
        "\n",
        "f()"
      ],
      "metadata": {
        "colab": {
          "base_uri": "https://localhost:8080/"
        },
        "id": "jeb9O6_F90qv",
        "outputId": "fcc4c515-1dba-4c94-c6fb-58755f497e2a"
      },
      "execution_count": 38,
      "outputs": [
        {
          "output_type": "stream",
          "name": "stdout",
          "text": [
            "1\n"
          ]
        }
      ]
    },
    {
      "cell_type": "code",
      "source": [
        "def f(a, b, c):\n",
        "    print(a, b, c)\n",
        "\n",
        "# f() # error\n",
        "# f(100, 10) # error\n",
        "f(a=100, b=200, c=300)\n",
        "f(c=300, a=100, b=200)"
      ],
      "metadata": {
        "colab": {
          "base_uri": "https://localhost:8080/"
        },
        "id": "ZbDyZISt_ui6",
        "outputId": "1724a23f-5bd3-4779-bfba-4b66d5d2cf5d"
      },
      "execution_count": 40,
      "outputs": [
        {
          "output_type": "stream",
          "name": "stdout",
          "text": [
            "100 200 300\n",
            "100 200 300\n"
          ]
        }
      ]
    },
    {
      "cell_type": "code",
      "source": [
        "def f(a=10, b=20, c=30):\n",
        "    print(a, b, c)\n",
        "\n",
        "f()\n",
        "f(100, 10)\n",
        "f(a=100, b=200, c=300)\n",
        "f(c=300, a=100, b=200)"
      ],
      "metadata": {
        "colab": {
          "base_uri": "https://localhost:8080/"
        },
        "id": "FJRQ9zaWAkN3",
        "outputId": "06d2ce29-4abc-4d4e-b83c-654d1fd15cd8"
      },
      "execution_count": 41,
      "outputs": [
        {
          "output_type": "stream",
          "name": "stdout",
          "text": [
            "10 20 30\n",
            "100 10 30\n",
            "100 200 300\n",
            "100 200 300\n"
          ]
        }
      ]
    },
    {
      "cell_type": "code",
      "source": [
        "def f(a=10, b=20, c): # 이 코드는 가능하지 않습니다.\n",
        "    print(a,b,c)"
      ],
      "metadata": {
        "id": "GJ306Z2WBgoE"
      },
      "execution_count": null,
      "outputs": []
    },
    {
      "cell_type": "code",
      "source": [
        "def f(a, b=20, c=30): # 이 코드는 가능합니다.\n",
        "    print(a, b, c)\n",
        "\n",
        "# f() # error\n",
        "# f(100, 10)\n",
        "# f(a=100, b=200, c=300)\n",
        "# f(c=300, a=100, b=200)\n",
        "# f(c=300) # error"
      ],
      "metadata": {
        "id": "RfPO2Ki-9AP9"
      },
      "execution_count": null,
      "outputs": []
    },
    {
      "cell_type": "code",
      "source": [
        "# a와 b를 더한 값과 a와 b를 뺀 값을 곱하는 함수를 만들어주세요.\n",
        "# 조건1: a가 입력되지 않으면 0이 입력됩니다.\n",
        "# 조건2: b가 입력되지 않으면 0이 입력됩니다.\n",
        "\n",
        "def f(a=0, b=0):\n",
        "    result = (a + b) * (a - b)\n",
        "    return result\n",
        "\n",
        "print(f(2, 3))"
      ],
      "metadata": {
        "colab": {
          "base_uri": "https://localhost:8080/"
        },
        "id": "kR3l_1zDB-mG",
        "outputId": "49257d42-780f-47d4-957d-c2bdb596c33e"
      },
      "execution_count": 43,
      "outputs": [
        {
          "output_type": "stream",
          "name": "stdout",
          "text": [
            "-5\n"
          ]
        }
      ]
    },
    {
      "cell_type": "code",
      "source": [
        "def multiple(x=0, y=0):\n",
        "    return x * y\n",
        "\n",
        "def plus(x=0, y=0):\n",
        "    return x + y\n",
        "\n",
        "def minus(x=0, y=0):\n",
        "    return x - y\n",
        "\n",
        "multiple(plus(2,3), minus(2,3))"
      ],
      "metadata": {
        "colab": {
          "base_uri": "https://localhost:8080/"
        },
        "id": "UWdukxFdDjJn",
        "outputId": "02cfb0fb-e3ea-43f6-def1-394cacc03215"
      },
      "execution_count": 44,
      "outputs": [
        {
          "output_type": "execute_result",
          "data": {
            "text/plain": [
              "-5"
            ]
          },
          "metadata": {},
          "execution_count": 44
        }
      ]
    },
    {
      "cell_type": "code",
      "source": [
        "# 지역변수와 전역변수\n",
        "def f():\n",
        "    inner_value = 100\n",
        "\n",
        "print(inner_value) # Error"
      ],
      "metadata": {
        "colab": {
          "base_uri": "https://localhost:8080/",
          "height": 215
        },
        "id": "QVN1TSTAD8U4",
        "outputId": "536276d2-da27-4945-d4ed-5769e1b71bc3"
      },
      "execution_count": 45,
      "outputs": [
        {
          "output_type": "error",
          "ename": "NameError",
          "evalue": "ignored",
          "traceback": [
            "\u001b[0;31m---------------------------------------------------------------------------\u001b[0m",
            "\u001b[0;31mNameError\u001b[0m                                 Traceback (most recent call last)",
            "\u001b[0;32m<ipython-input-45-5f4ae1aba553>\u001b[0m in \u001b[0;36m<cell line: 4>\u001b[0;34m()\u001b[0m\n\u001b[1;32m      2\u001b[0m \u001b[0;32mdef\u001b[0m \u001b[0mf\u001b[0m\u001b[0;34m(\u001b[0m\u001b[0;34m)\u001b[0m\u001b[0;34m:\u001b[0m\u001b[0;34m\u001b[0m\u001b[0;34m\u001b[0m\u001b[0m\n\u001b[1;32m      3\u001b[0m     \u001b[0mxx\u001b[0m \u001b[0;34m=\u001b[0m \u001b[0;36m100\u001b[0m\u001b[0;34m\u001b[0m\u001b[0;34m\u001b[0m\u001b[0m\n\u001b[0;32m----> 4\u001b[0;31m \u001b[0mprint\u001b[0m\u001b[0;34m(\u001b[0m\u001b[0mxx\u001b[0m\u001b[0;34m)\u001b[0m\u001b[0;34m\u001b[0m\u001b[0;34m\u001b[0m\u001b[0m\n\u001b[0m",
            "\u001b[0;31mNameError\u001b[0m: name 'xx' is not defined"
          ]
        }
      ]
    },
    {
      "cell_type": "code",
      "source": [
        "x = 100\n",
        "def f():\n",
        "    y = x + x\n",
        "    return y\n",
        "\n",
        "f()"
      ],
      "metadata": {
        "colab": {
          "base_uri": "https://localhost:8080/"
        },
        "id": "y9VwsS0jEGot",
        "outputId": "e3a878da-c138-4a14-fb65-03ded0fc8ee0"
      },
      "execution_count": 48,
      "outputs": [
        {
          "output_type": "execute_result",
          "data": {
            "text/plain": [
              "200"
            ]
          },
          "metadata": {},
          "execution_count": 48
        }
      ]
    },
    {
      "cell_type": "code",
      "source": [
        "x = 100\n",
        "def f():\n",
        "    x = 200\n",
        "    return x\n",
        "\n",
        "print(f())\n",
        "print(x)"
      ],
      "metadata": {
        "colab": {
          "base_uri": "https://localhost:8080/"
        },
        "id": "7qqwx5haEXbf",
        "outputId": "ca914377-1379-41e7-e7e9-3fe984f97b27"
      },
      "execution_count": 51,
      "outputs": [
        {
          "output_type": "stream",
          "name": "stdout",
          "text": [
            "200\n",
            "100\n"
          ]
        }
      ]
    },
    {
      "cell_type": "code",
      "source": [
        "# global 사용후\n",
        "a = 100\n",
        "def f():\n",
        "    global a\n",
        "    a = a + 1\n",
        "f()\n",
        "a"
      ],
      "metadata": {
        "colab": {
          "base_uri": "https://localhost:8080/"
        },
        "id": "VoRDhXE9FRsx",
        "outputId": "cb567738-e164-4424-b879-29260e4c4d6f"
      },
      "execution_count": 55,
      "outputs": [
        {
          "output_type": "execute_result",
          "data": {
            "text/plain": [
              "101"
            ]
          },
          "metadata": {},
          "execution_count": 55
        }
      ]
    },
    {
      "cell_type": "code",
      "source": [
        "a = 100\n",
        "def f():\n",
        "    a = a + 1 # Error\n",
        "    return a\n",
        "f()"
      ],
      "metadata": {
        "colab": {
          "base_uri": "https://localhost:8080/",
          "height": 340
        },
        "id": "nuHTS4UcIIpz",
        "outputId": "34113771-3458-434e-e50c-eaed293a5224"
      },
      "execution_count": 58,
      "outputs": [
        {
          "output_type": "error",
          "ename": "UnboundLocalError",
          "evalue": "ignored",
          "traceback": [
            "\u001b[0;31m---------------------------------------------------------------------------\u001b[0m",
            "\u001b[0;31mUnboundLocalError\u001b[0m                         Traceback (most recent call last)",
            "\u001b[0;32m<ipython-input-58-50788537d441>\u001b[0m in \u001b[0;36m<cell line: 6>\u001b[0;34m()\u001b[0m\n\u001b[1;32m      4\u001b[0m     \u001b[0ma\u001b[0m \u001b[0;34m=\u001b[0m \u001b[0ma\u001b[0m \u001b[0;34m+\u001b[0m \u001b[0;36m1\u001b[0m\u001b[0;34m\u001b[0m\u001b[0;34m\u001b[0m\u001b[0m\n\u001b[1;32m      5\u001b[0m     \u001b[0;32mreturn\u001b[0m \u001b[0ma\u001b[0m\u001b[0;34m\u001b[0m\u001b[0;34m\u001b[0m\u001b[0m\n\u001b[0;32m----> 6\u001b[0;31m \u001b[0mf\u001b[0m\u001b[0;34m(\u001b[0m\u001b[0;34m)\u001b[0m\u001b[0;34m\u001b[0m\u001b[0;34m\u001b[0m\u001b[0m\n\u001b[0m",
            "\u001b[0;32m<ipython-input-58-50788537d441>\u001b[0m in \u001b[0;36mf\u001b[0;34m()\u001b[0m\n\u001b[1;32m      1\u001b[0m \u001b[0ma\u001b[0m \u001b[0;34m=\u001b[0m \u001b[0;36m100\u001b[0m\u001b[0;34m\u001b[0m\u001b[0;34m\u001b[0m\u001b[0m\n\u001b[1;32m      2\u001b[0m \u001b[0;32mdef\u001b[0m \u001b[0mf\u001b[0m\u001b[0;34m(\u001b[0m\u001b[0;34m)\u001b[0m\u001b[0;34m:\u001b[0m\u001b[0;34m\u001b[0m\u001b[0;34m\u001b[0m\u001b[0m\n\u001b[0;32m----> 3\u001b[0;31m     \u001b[0ma\u001b[0m \u001b[0;34m=\u001b[0m \u001b[0ma\u001b[0m\u001b[0;34m\u001b[0m\u001b[0;34m\u001b[0m\u001b[0m\n\u001b[0m\u001b[1;32m      4\u001b[0m     \u001b[0ma\u001b[0m \u001b[0;34m=\u001b[0m \u001b[0ma\u001b[0m \u001b[0;34m+\u001b[0m \u001b[0;36m1\u001b[0m\u001b[0;34m\u001b[0m\u001b[0;34m\u001b[0m\u001b[0m\n\u001b[1;32m      5\u001b[0m     \u001b[0;32mreturn\u001b[0m \u001b[0ma\u001b[0m\u001b[0;34m\u001b[0m\u001b[0;34m\u001b[0m\u001b[0m\n",
            "\u001b[0;31mUnboundLocalError\u001b[0m: local variable 'a' referenced before assignment"
          ]
        }
      ]
    },
    {
      "cell_type": "code",
      "source": [
        "a = 100\n",
        "def f():\n",
        "    b = a + 1\n",
        "    return b\n",
        "f()"
      ],
      "metadata": {
        "colab": {
          "base_uri": "https://localhost:8080/"
        },
        "id": "cvITa-f3IYvT",
        "outputId": "5d3e1441-c2a9-4a68-f564-5765884f5d54"
      },
      "execution_count": 59,
      "outputs": [
        {
          "output_type": "execute_result",
          "data": {
            "text/plain": [
              "101"
            ]
          },
          "metadata": {},
          "execution_count": 59
        }
      ]
    },
    {
      "cell_type": "code",
      "source": [
        "a = 10\n",
        "def f():\n",
        "    a = 100\n",
        "    print(a)\n",
        "    def ff():\n",
        "        a = 1000\n",
        "        print(a)\n",
        "        def fff():\n",
        "            a = 10000\n",
        "            print(a)\n",
        "        fff()\n",
        "    ff()\n",
        "f()\n",
        "print(a)"
      ],
      "metadata": {
        "colab": {
          "base_uri": "https://localhost:8080/"
        },
        "id": "vFAmkvh4IivY",
        "outputId": "d8bdc16c-0561-4188-c1f0-ee00f86a9955"
      },
      "execution_count": 64,
      "outputs": [
        {
          "output_type": "stream",
          "name": "stdout",
          "text": [
            "100\n",
            "1000\n",
            "10000\n",
            "10\n"
          ]
        }
      ]
    },
    {
      "cell_type": "code",
      "source": [
        "# global을 하면 함수가 얼만큼 중첩되어 있건 최상단에 있는 a를 바라봅니다.\n",
        "a = 10\n",
        "def f():\n",
        "    a = 100\n",
        "    print(a)\n",
        "    def ff():\n",
        "        a = 1000\n",
        "        print(a)\n",
        "        def fff():\n",
        "            global a\n",
        "            print(a)\n",
        "        fff()\n",
        "    ff()\n",
        "f()\n",
        "print(a)"
      ],
      "metadata": {
        "colab": {
          "base_uri": "https://localhost:8080/"
        },
        "id": "Cy2KLlcgJKK-",
        "outputId": "89eeeeab-7ce7-4a2c-8e40-e2472c2f8d04"
      },
      "execution_count": 65,
      "outputs": [
        {
          "output_type": "stream",
          "name": "stdout",
          "text": [
            "100\n",
            "1000\n",
            "10\n",
            "10\n"
          ]
        }
      ]
    },
    {
      "cell_type": "code",
      "source": [
        "# global을 사용하지 않고 중첩된 함수 내에서 a를 출력하게 되면 바로 위 함수의 a를 출력합니다.\n",
        "a = 10\n",
        "def f():\n",
        "    a = 100\n",
        "    print(a)\n",
        "    def ff():\n",
        "        a = 1000\n",
        "        print(a)\n",
        "        def fff():\n",
        "            print(a)\n",
        "        fff()\n",
        "    ff()\n",
        "f()\n",
        "print(a)"
      ],
      "metadata": {
        "colab": {
          "base_uri": "https://localhost:8080/"
        },
        "id": "Z76HcaT3JeH9",
        "outputId": "e0525d38-59f9-4ccf-8520-40c0c247302c"
      },
      "execution_count": 67,
      "outputs": [
        {
          "output_type": "stream",
          "name": "stdout",
          "text": [
            "100\n",
            "1000\n",
            "1000\n",
            "10\n"
          ]
        }
      ]
    },
    {
      "cell_type": "code",
      "source": [
        "# nonlocal\n",
        "a = 10\n",
        "def f():\n",
        "    a = 100\n",
        "    print(f'f a: {a}')\n",
        "    def ff():\n",
        "        a = 1000\n",
        "        print(f'ff a: {a}')\n",
        "        def fff():\n",
        "            nonlocal a\n",
        "            a = 100\n",
        "            print(f'fff a: {a}')\n",
        "        fff()\n",
        "        print(f'ff a: {a}')\n",
        "    ff()\n",
        "f()\n",
        "print(f'global a: {a}')"
      ],
      "metadata": {
        "colab": {
          "base_uri": "https://localhost:8080/"
        },
        "id": "Aa6bDAmOJkra",
        "outputId": "f7788830-9602-437b-899e-06f7b88937df"
      },
      "execution_count": 72,
      "outputs": [
        {
          "output_type": "stream",
          "name": "stdout",
          "text": [
            "f a: 100\n",
            "ff a: 1000\n",
            "fff a: 100\n",
            "ff a: 100\n",
            "global a: 10\n"
          ]
        }
      ]
    },
    {
      "cell_type": "code",
      "source": [
        "#sys.setrecursionlimit -> 제한을 늘릴 수 있음\n",
        "def 숫자출력(count):\n",
        "    if count > 100:\n",
        "        return\n",
        "    print(count)\n",
        "    return 숫자출력(count+1) #값을 1부터 반복횟수 까지의 값을 출력\n",
        "\n",
        "숫자출력(1)"
      ],
      "metadata": {
        "colab": {
          "base_uri": "https://localhost:8080/"
        },
        "id": "GGB8ntCZKqeg",
        "outputId": "38221b3c-9cb9-407b-9cc6-7c47036fe42c"
      },
      "execution_count": 73,
      "outputs": [
        {
          "output_type": "stream",
          "name": "stdout",
          "text": [
            "1\n",
            "2\n",
            "3\n",
            "4\n",
            "5\n",
            "6\n",
            "7\n",
            "8\n",
            "9\n",
            "10\n",
            "11\n",
            "12\n",
            "13\n",
            "14\n",
            "15\n",
            "16\n",
            "17\n",
            "18\n",
            "19\n",
            "20\n",
            "21\n",
            "22\n",
            "23\n",
            "24\n",
            "25\n",
            "26\n",
            "27\n",
            "28\n",
            "29\n",
            "30\n",
            "31\n",
            "32\n",
            "33\n",
            "34\n",
            "35\n",
            "36\n",
            "37\n",
            "38\n",
            "39\n",
            "40\n",
            "41\n",
            "42\n",
            "43\n",
            "44\n",
            "45\n",
            "46\n",
            "47\n",
            "48\n",
            "49\n",
            "50\n",
            "51\n",
            "52\n",
            "53\n",
            "54\n",
            "55\n",
            "56\n",
            "57\n",
            "58\n",
            "59\n",
            "60\n",
            "61\n",
            "62\n",
            "63\n",
            "64\n",
            "65\n",
            "66\n",
            "67\n",
            "68\n",
            "69\n",
            "70\n",
            "71\n",
            "72\n",
            "73\n",
            "74\n",
            "75\n",
            "76\n",
            "77\n",
            "78\n",
            "79\n",
            "80\n",
            "81\n",
            "82\n",
            "83\n",
            "84\n",
            "85\n",
            "86\n",
            "87\n",
            "88\n",
            "89\n",
            "90\n",
            "91\n",
            "92\n",
            "93\n",
            "94\n",
            "95\n",
            "96\n",
            "97\n",
            "98\n",
            "99\n",
            "100\n"
          ]
        }
      ]
    },
    {
      "cell_type": "code",
      "source": [
        "# 재귀함수는 사용하지 마세요!(주니어 때)\n",
        "# 위험하고 일부 효율이 좋지 않습니다.\n",
        "# 반복문 <-> 재귀는 서로 상호 호환이 가능합니다.\n",
        "# 반복문 사용하세요!"
      ],
      "metadata": {
        "id": "_uggiZ2pK42Q"
      },
      "execution_count": null,
      "outputs": []
    },
    {
      "cell_type": "code",
      "source": [
        "# 상식 수준에서 다음 재귀는 외워야한다.\n",
        "# 1. 팩토리얼\n",
        "# 2. 문자열 뒤집기"
      ],
      "metadata": {
        "id": "Y6_5PX3tLQcs"
      },
      "execution_count": null,
      "outputs": []
    },
    {
      "cell_type": "code",
      "source": [
        "def factorial(n):\n",
        "    if n <= 1:\n",
        "        return 1\n",
        "    return n * factorial(n-1)\n",
        "\n",
        "factorial(5)"
      ],
      "metadata": {
        "colab": {
          "base_uri": "https://localhost:8080/"
        },
        "id": "X0u9eM43LZ1O",
        "outputId": "81e675bf-c791-4575-aac5-1f04120aeb0a"
      },
      "execution_count": 74,
      "outputs": [
        {
          "output_type": "execute_result",
          "data": {
            "text/plain": [
              "120"
            ]
          },
          "metadata": {},
          "execution_count": 74
        }
      ]
    },
    {
      "cell_type": "code",
      "source": [
        "def reversed_str(s):\n",
        "    if len(s) <= 1:\n",
        "        return s\n",
        "    return reversed_str(s[1:]) + s[0]\n",
        "\n",
        "reversed_str('hello')\n",
        "\n",
        "\n",
        "# 함수 호출                 return\n",
        "# reversed_str(s)         reversed_str(s[1:]) + s[0]\n",
        "# reversed_str('hello')   reversed_str('ello') + 'h'\n",
        "# reversed_str('ello)     reversed_str('llo') + 'e'\n",
        "# reversed_str('llo')     reversed_str('lo') + 'l'\n",
        "# reversed_str('lo')      reversed_str('o') + 'l'\n",
        "# reversed_str('o')       'o'"
      ],
      "metadata": {
        "colab": {
          "base_uri": "https://localhost:8080/",
          "height": 36
        },
        "id": "pOG3EqtJOYrR",
        "outputId": "cf717413-c840-4614-c247-c6d71b326eef"
      },
      "execution_count": 77,
      "outputs": [
        {
          "output_type": "execute_result",
          "data": {
            "text/plain": [
              "'olleh'"
            ],
            "application/vnd.google.colaboratory.intrinsic+json": {
              "type": "string"
            }
          },
          "metadata": {},
          "execution_count": 77
        }
      ]
    },
    {
      "cell_type": "code",
      "source": [
        "# 팩토리얼 반복문으로 가능\n",
        "n = 5\n",
        "result = 1\n",
        "for i in range(1, n+1):\n",
        "    result *= i\n",
        "result"
      ],
      "metadata": {
        "colab": {
          "base_uri": "https://localhost:8080/"
        },
        "id": "S3fJqx16SCNR",
        "outputId": "29d42aae-7998-470f-922b-3b7def9e46fe"
      },
      "execution_count": 81,
      "outputs": [
        {
          "output_type": "execute_result",
          "data": {
            "text/plain": [
              "120"
            ]
          },
          "metadata": {},
          "execution_count": 81
        }
      ]
    },
    {
      "cell_type": "code",
      "source": [
        "# 문자열 뒤집기\n",
        "s = 'hello'\n",
        "result = ''\n",
        "for i in s:\n",
        "    result = i + result\n",
        "    print(result)\n",
        "result"
      ],
      "metadata": {
        "colab": {
          "base_uri": "https://localhost:8080/",
          "height": 125
        },
        "id": "8zcqN3G9SG8u",
        "outputId": "3f411a00-27f0-42d6-f554-554ef15e2ca3"
      },
      "execution_count": 83,
      "outputs": [
        {
          "output_type": "stream",
          "name": "stdout",
          "text": [
            "h\n",
            "eh\n",
            "leh\n",
            "lleh\n",
            "olleh\n"
          ]
        },
        {
          "output_type": "execute_result",
          "data": {
            "text/plain": [
              "'olleh'"
            ],
            "application/vnd.google.colaboratory.intrinsic+json": {
              "type": "string"
            }
          },
          "metadata": {},
          "execution_count": 83
        }
      ]
    },
    {
      "cell_type": "markdown",
      "source": [
        "# 함수 나아가기"
      ],
      "metadata": {
        "id": "wiV7SevlSoBC"
      }
    },
    {
      "cell_type": "code",
      "source": [
        "def f():\n",
        "    x = 'hello world'\\\n",
        "    .upper()\\\n",
        "    .replace(' ','')\\\n",
        "    .lower()\n",
        "    return x\n",
        "f()"
      ],
      "metadata": {
        "colab": {
          "base_uri": "https://localhost:8080/",
          "height": 36
        },
        "id": "zEgqnwoImm6X",
        "outputId": "c6166790-2a40-41e5-abbe-6f22a4b961a6"
      },
      "execution_count": 91,
      "outputs": [
        {
          "output_type": "execute_result",
          "data": {
            "text/plain": [
              "'helloworld'"
            ],
            "application/vnd.google.colaboratory.intrinsic+json": {
              "type": "string"
            }
          },
          "metadata": {},
          "execution_count": 91
        }
      ]
    },
    {
      "cell_type": "code",
      "source": [
        "# 여러개의 값 반환하기\n",
        "\n",
        "def f():\n",
        "    a = 10\n",
        "    b = 20\n",
        "    c = 30\n",
        "    return a, b, c\n",
        "\n",
        "f()"
      ],
      "metadata": {
        "colab": {
          "base_uri": "https://localhost:8080/"
        },
        "id": "VW_g2dEpSplR",
        "outputId": "3ff39313-a074-416e-cc2e-25cb8f4febbc"
      },
      "execution_count": 84,
      "outputs": [
        {
          "output_type": "execute_result",
          "data": {
            "text/plain": [
              "(10, 20, 30)"
            ]
          },
          "metadata": {},
          "execution_count": 84
        }
      ]
    },
    {
      "cell_type": "code",
      "source": [
        "print() # built-in function\n",
        "\n",
        "def f(): # function\n",
        "    pass\n",
        "\n",
        "# 여기서 print와 f는 변수입니다.\n",
        "# 변수는 가리키는 것입니다.\n",
        "kimdonghu = print\n",
        "kimdonghu('hello world')"
      ],
      "metadata": {
        "colab": {
          "base_uri": "https://localhost:8080/"
        },
        "id": "IiOdiW7inQcK",
        "outputId": "54ef4a99-d368-4466-f019-e3f4e1c76559"
      },
      "execution_count": 93,
      "outputs": [
        {
          "output_type": "stream",
          "name": "stdout",
          "text": [
            "\n",
            "hello world\n"
          ]
        }
      ]
    },
    {
      "cell_type": "code",
      "source": [
        "# 변수처럼 아래처럼 관리할 수 있습니다.\n",
        "x = 10\n",
        "y = 20\n",
        "l = [x, y]\n",
        "\n",
        "def add(x, y):\n",
        "    return x + y\n",
        "\n",
        "def sub(x, y):\n",
        "    return x - y\n",
        "\n",
        "ll = [add, sub]\n",
        "ll[0](10, 20) # add(10, 20)과 같습니다."
      ],
      "metadata": {
        "colab": {
          "base_uri": "https://localhost:8080/"
        },
        "id": "DzDvnv1onjCF",
        "outputId": "c3f0286b-a615-428f-e712-feb66359a9f7"
      },
      "execution_count": 96,
      "outputs": [
        {
          "output_type": "execute_result",
          "data": {
            "text/plain": [
              "30"
            ]
          },
          "metadata": {},
          "execution_count": 96
        }
      ]
    },
    {
      "cell_type": "code",
      "source": [
        "# 매우 중요!\n",
        "add = lambda x, y : x + y\n",
        "sub = lambda x, y : x + y\n",
        "add(10, 20)\n",
        "sub(10, 20)"
      ],
      "metadata": {
        "colab": {
          "base_uri": "https://localhost:8080/"
        },
        "id": "Bbn-r0XqoIWm",
        "outputId": "43f1eda0-d2f1-4631-906b-a32a2066fb1b"
      },
      "execution_count": 99,
      "outputs": [
        {
          "output_type": "execute_result",
          "data": {
            "text/plain": [
              "30"
            ]
          },
          "metadata": {},
          "execution_count": 99
        }
      ]
    },
    {
      "cell_type": "code",
      "source": [
        "test = lambda x : x ** 2\n",
        "test(10)\n",
        "\n",
        "def test2(x):\n",
        "    return x ** 2"
      ],
      "metadata": {
        "colab": {
          "base_uri": "https://localhost:8080/"
        },
        "id": "G6q2RKV0orXd",
        "outputId": "7ddb6815-fe13-47ad-f27b-5bfe59409d84"
      },
      "execution_count": 101,
      "outputs": [
        {
          "output_type": "execute_result",
          "data": {
            "text/plain": [
              "100"
            ]
          },
          "metadata": {},
          "execution_count": 101
        }
      ]
    },
    {
      "cell_type": "code",
      "source": [
        "x = map(int, '1234')\n",
        "# 1번째 수행 int('1')\n",
        "# 2번째 수행 int('2')\n",
        "# 3번째 수행 int('3')\n",
        "# 4번째 수행 int('4')\n",
        "\n",
        "for i in x:\n",
        "    print(i)\n",
        "\n",
        "for i in x: # 더 이상 순회가 안됩니다! 이 이유에 대해서는 뒤에서\n",
        "    print(i)"
      ],
      "metadata": {
        "colab": {
          "base_uri": "https://localhost:8080/"
        },
        "id": "XoCaAUAeoW0j",
        "outputId": "87c16752-5bc6-49b5-c7b2-2e4294ebac75"
      },
      "execution_count": 103,
      "outputs": [
        {
          "output_type": "stream",
          "name": "stdout",
          "text": [
            "1\n",
            "2\n",
            "3\n",
            "4\n"
          ]
        }
      ]
    },
    {
      "cell_type": "code",
      "source": [
        "def f(x):\n",
        "    return x * 2\n",
        "\n",
        "list(map(f, '1234'))"
      ],
      "metadata": {
        "colab": {
          "base_uri": "https://localhost:8080/"
        },
        "id": "QjN8DhsDpzT-",
        "outputId": "0b45f260-cb24-48fe-c8a8-8c51a06a032f"
      },
      "execution_count": 105,
      "outputs": [
        {
          "output_type": "execute_result",
          "data": {
            "text/plain": [
              "['11', '22', '33', '44']"
            ]
          },
          "metadata": {},
          "execution_count": 105
        }
      ]
    },
    {
      "cell_type": "code",
      "source": [
        "list(map(lambda x:x*2, '1234'))"
      ],
      "metadata": {
        "colab": {
          "base_uri": "https://localhost:8080/"
        },
        "id": "xf_USK2aqIAX",
        "outputId": "e0636f38-8db2-41ac-92ba-885d8474feb5"
      },
      "execution_count": 107,
      "outputs": [
        {
          "output_type": "execute_result",
          "data": {
            "text/plain": [
              "['11', '22', '33', '44']"
            ]
          },
          "metadata": {},
          "execution_count": 107
        }
      ]
    },
    {
      "cell_type": "markdown",
      "source": [
        "# built-in function 총집합"
      ],
      "metadata": {
        "id": "UVQ-7WizsI8g"
      }
    },
    {
      "cell_type": "code",
      "source": [
        "# 모두 다 True여야 True 반환\n",
        "all([True, True, True]) # T\n",
        "all([True, True, False]) # F\n",
        "all([1, 1, 1, 0]) # F\n",
        "all([100, 10, -1]) # T"
      ],
      "metadata": {
        "colab": {
          "base_uri": "https://localhost:8080/"
        },
        "id": "LSjSKEAWrq6C",
        "outputId": "7f0f5f7c-7f81-4537-cfa0-6eacebe91c03"
      },
      "execution_count": 112,
      "outputs": [
        {
          "output_type": "execute_result",
          "data": {
            "text/plain": [
              "True"
            ]
          },
          "metadata": {},
          "execution_count": 112
        }
      ]
    },
    {
      "cell_type": "code",
      "source": [
        "# 하나라도 True가 있으면 True 반환\n",
        "any([True, False, False]) # T\n",
        "any([False, False, False]) # F"
      ],
      "metadata": {
        "colab": {
          "base_uri": "https://localhost:8080/"
        },
        "id": "zo4kd5Tospmd",
        "outputId": "c9a051e0-f143-4a37-deaf-37bba0ffd3cd"
      },
      "execution_count": 116,
      "outputs": [
        {
          "output_type": "execute_result",
          "data": {
            "text/plain": [
              "False"
            ]
          },
          "metadata": {},
          "execution_count": 116
        }
      ]
    },
    {
      "cell_type": "code",
      "source": [
        "# 10진수로 유니코드표에서 찾아 대응되는 값을 줍니다.\n",
        "chr(65)\n",
        "chr(97)\n",
        "chr(54616)"
      ],
      "metadata": {
        "colab": {
          "base_uri": "https://localhost:8080/",
          "height": 36
        },
        "id": "4jSp6DBStIjG",
        "outputId": "a92af8f1-2d91-4132-eb0c-6129c2e24b92"
      },
      "execution_count": 127,
      "outputs": [
        {
          "output_type": "execute_result",
          "data": {
            "text/plain": [
              "'하'"
            ],
            "application/vnd.google.colaboratory.intrinsic+json": {
              "type": "string"
            }
          },
          "metadata": {},
          "execution_count": 127
        }
      ]
    },
    {
      "cell_type": "code",
      "source": [
        "# 문자를 입력하면 유니코드에서 숫자로 출력\n",
        "ord('a')\n",
        "ord('하')"
      ],
      "metadata": {
        "colab": {
          "base_uri": "https://localhost:8080/"
        },
        "id": "Sc72Aogxt4BG",
        "outputId": "272cb65a-58de-46ee-a578-0697210f5e43"
      },
      "execution_count": 128,
      "outputs": [
        {
          "output_type": "execute_result",
          "data": {
            "text/plain": [
              "54616"
            ]
          },
          "metadata": {},
          "execution_count": 128
        }
      ]
    },
    {
      "cell_type": "code",
      "source": [
        "# 유니코드 표에서 값 확인\n",
        "int('D558', 16)"
      ],
      "metadata": {
        "colab": {
          "base_uri": "https://localhost:8080/"
        },
        "id": "dkE4DF7suRQk",
        "outputId": "eef66432-8dc2-4ad8-9d5b-ac8a4d1341b9"
      },
      "execution_count": 129,
      "outputs": [
        {
          "output_type": "execute_result",
          "data": {
            "text/plain": [
              "54616"
            ]
          },
          "metadata": {},
          "execution_count": 129
        }
      ]
    },
    {
      "cell_type": "code",
      "source": [
        "# 대문자는 소문자로, 소문자는 대문자로 바꾸는 코드를 만들어주세요.\n",
        "# 'apple CEO UserDonghu'"
      ],
      "metadata": {
        "id": "d8MabVgntYYN"
      },
      "execution_count": 130,
      "outputs": []
    },
    {
      "cell_type": "code",
      "source": [
        "map(lambda x: x**2, [1, 2, 3, 4]) # 계산 되기 전 object"
      ],
      "metadata": {
        "colab": {
          "base_uri": "https://localhost:8080/"
        },
        "id": "WzDmkil3w68Y",
        "outputId": "ed57cf51-b3f2-4bff-b294-a836ecf57319"
      },
      "execution_count": 132,
      "outputs": [
        {
          "output_type": "execute_result",
          "data": {
            "text/plain": [
              "<map at 0x7cbc5d054130>"
            ]
          },
          "metadata": {},
          "execution_count": 132
        }
      ]
    },
    {
      "cell_type": "code",
      "source": [
        "list(map(lambda x: x**2, [1, 2, 3, 4])) # 계산 된 후 object"
      ],
      "metadata": {
        "colab": {
          "base_uri": "https://localhost:8080/"
        },
        "id": "Td5nbfXUxAs5",
        "outputId": "45e2b2cb-cc4b-41a8-a683-ea7357eb72f6"
      },
      "execution_count": 134,
      "outputs": [
        {
          "output_type": "execute_result",
          "data": {
            "text/plain": [
              "[1, 4, 9, 16]"
            ]
          },
          "metadata": {},
          "execution_count": 134
        }
      ]
    },
    {
      "cell_type": "code",
      "source": [
        "list(filter(lambda x: x>10, [1, 2, 11, 12, 9, 6, 13]))"
      ],
      "metadata": {
        "colab": {
          "base_uri": "https://localhost:8080/"
        },
        "id": "uIaamEMVxUxl",
        "outputId": "372ed4ae-ed82-4833-bbae-e2144b35a202"
      },
      "execution_count": 137,
      "outputs": [
        {
          "output_type": "execute_result",
          "data": {
            "text/plain": [
              "[11, 12, 13]"
            ]
          },
          "metadata": {},
          "execution_count": 137
        }
      ]
    },
    {
      "cell_type": "code",
      "source": [
        "def filter_function(x):\n",
        "    return x > 10\n",
        "\n",
        "list(filter(filter_function, [1, 2, 11, 12, 9, 6, 13]))"
      ],
      "metadata": {
        "colab": {
          "base_uri": "https://localhost:8080/"
        },
        "id": "UJFjEHsaxgKd",
        "outputId": "783693ff-26a5-42e5-c1ce-dff284193284"
      },
      "execution_count": 141,
      "outputs": [
        {
          "output_type": "execute_result",
          "data": {
            "text/plain": [
              "[11, 12, 13]"
            ]
          },
          "metadata": {},
          "execution_count": 141
        }
      ]
    },
    {
      "cell_type": "code",
      "source": [
        "list(zip('abc', '123'))"
      ],
      "metadata": {
        "colab": {
          "base_uri": "https://localhost:8080/"
        },
        "id": "E43t-QMGyFQI",
        "outputId": "bc9f52c7-4f54-49c2-ba02-5b706eee3749"
      },
      "execution_count": 143,
      "outputs": [
        {
          "output_type": "execute_result",
          "data": {
            "text/plain": [
              "[('a', '1'), ('b', '2'), ('c', '3')]"
            ]
          },
          "metadata": {},
          "execution_count": 143
        }
      ]
    },
    {
      "cell_type": "code",
      "source": [
        "list(zip('abc', '1234567', [10,20,30]))"
      ],
      "metadata": {
        "colab": {
          "base_uri": "https://localhost:8080/"
        },
        "id": "dbXiGo6vyLFx",
        "outputId": "4f7248a8-040f-4f2f-ff1e-bf2896dad13c"
      },
      "execution_count": 145,
      "outputs": [
        {
          "output_type": "execute_result",
          "data": {
            "text/plain": [
              "[('a', '1', 10), ('b', '2', 20), ('c', '3', 30)]"
            ]
          },
          "metadata": {},
          "execution_count": 145
        }
      ]
    },
    {
      "cell_type": "code",
      "source": [
        "# zip은 좌표계에서 자주 응용됩니다.\n",
        "# https://codingdojang.com/scode/408?answer_mode=hide\n",
        "\n",
        "S = [1, 3, 4, 8, 13, 17, 20]\n",
        "list(zip(S, S[1:]))"
      ],
      "metadata": {
        "colab": {
          "base_uri": "https://localhost:8080/"
        },
        "id": "gUPnQ1f_yalK",
        "outputId": "5a191ae7-92e6-4ed8-d01a-b764ce038f4e"
      },
      "execution_count": 148,
      "outputs": [
        {
          "output_type": "execute_result",
          "data": {
            "text/plain": [
              "[(1, 3), (3, 4), (4, 8), (8, 13), (13, 17), (17, 20)]"
            ]
          },
          "metadata": {},
          "execution_count": 148
        }
      ]
    },
    {
      "cell_type": "code",
      "source": [
        "# 답\n",
        "sorted(zip(S, S[1:]), key=lambda x:x[1]-x[0])[0]"
      ],
      "metadata": {
        "colab": {
          "base_uri": "https://localhost:8080/"
        },
        "id": "7El9iMrqzIjr",
        "outputId": "de8db564-3ef4-4a74-91b0-d6ec3c1bb0a5"
      },
      "execution_count": 151,
      "outputs": [
        {
          "output_type": "execute_result",
          "data": {
            "text/plain": [
              "(3, 4)"
            ]
          },
          "metadata": {},
          "execution_count": 151
        }
      ]
    },
    {
      "cell_type": "code",
      "source": [
        "format(10000000, ',')"
      ],
      "metadata": {
        "colab": {
          "base_uri": "https://localhost:8080/",
          "height": 36
        },
        "id": "TrpH7Xd_0E0y",
        "outputId": "643a0237-94c1-4a60-a5da-e4a9e0027cc7"
      },
      "execution_count": 154,
      "outputs": [
        {
          "output_type": "execute_result",
          "data": {
            "text/plain": [
              "'10,000,000'"
            ],
            "application/vnd.google.colaboratory.intrinsic+json": {
              "type": "string"
            }
          },
          "metadata": {},
          "execution_count": 154
        }
      ]
    },
    {
      "cell_type": "code",
      "source": [
        "len('hello world')"
      ],
      "metadata": {
        "colab": {
          "base_uri": "https://localhost:8080/"
        },
        "id": "ILNRvlmB0PTi",
        "outputId": "ee794717-108b-4910-e94f-f335d9ec254c"
      },
      "execution_count": 156,
      "outputs": [
        {
          "output_type": "execute_result",
          "data": {
            "text/plain": [
              "11"
            ]
          },
          "metadata": {},
          "execution_count": 156
        }
      ]
    },
    {
      "cell_type": "code",
      "source": [
        "max([1, 2, 3, 4, 5])"
      ],
      "metadata": {
        "colab": {
          "base_uri": "https://localhost:8080/"
        },
        "id": "M_0keuve0SUb",
        "outputId": "51ad938c-eb1d-4ec0-dc47-ed28acc77ea4"
      },
      "execution_count": 157,
      "outputs": [
        {
          "output_type": "execute_result",
          "data": {
            "text/plain": [
              "5"
            ]
          },
          "metadata": {},
          "execution_count": 157
        }
      ]
    },
    {
      "cell_type": "code",
      "source": [
        "min([1, 2, 3, 4, 5])"
      ],
      "metadata": {
        "colab": {
          "base_uri": "https://localhost:8080/"
        },
        "id": "wAopeqYH0XqJ",
        "outputId": "fb4616a7-16a3-4edc-db28-e3911403204a"
      },
      "execution_count": 158,
      "outputs": [
        {
          "output_type": "execute_result",
          "data": {
            "text/plain": [
              "1"
            ]
          },
          "metadata": {},
          "execution_count": 158
        }
      ]
    },
    {
      "cell_type": "code",
      "source": [
        "sum([1, 2, 3, 4, 5])"
      ],
      "metadata": {
        "colab": {
          "base_uri": "https://localhost:8080/"
        },
        "id": "IhVqCUVE0ZS6",
        "outputId": "c0318f01-3270-4128-fa13-51b539697dd4"
      },
      "execution_count": 159,
      "outputs": [
        {
          "output_type": "execute_result",
          "data": {
            "text/plain": [
              "15"
            ]
          },
          "metadata": {},
          "execution_count": 159
        }
      ]
    },
    {
      "cell_type": "code",
      "source": [
        "max([(1, 2), (3, 101), (4, 20), (3, 100)])\n",
        "max(['hello', 'world', 'world1'])"
      ],
      "metadata": {
        "colab": {
          "base_uri": "https://localhost:8080/",
          "height": 36
        },
        "id": "9cRoSO6X0arC",
        "outputId": "f335fed3-3f21-4e5f-9d58-6adbe6b96870"
      },
      "execution_count": 162,
      "outputs": [
        {
          "output_type": "execute_result",
          "data": {
            "text/plain": [
              "'world1'"
            ],
            "application/vnd.google.colaboratory.intrinsic+json": {
              "type": "string"
            }
          },
          "metadata": {},
          "execution_count": 162
        }
      ]
    },
    {
      "cell_type": "code",
      "source": [
        "sum([1, 2, 3], 10)"
      ],
      "metadata": {
        "colab": {
          "base_uri": "https://localhost:8080/"
        },
        "id": "k4FSu5eF1VA9",
        "outputId": "9acc0643-f893-4828-b3c7-fd8d2fc7ac0a"
      },
      "execution_count": 166,
      "outputs": [
        {
          "output_type": "execute_result",
          "data": {
            "text/plain": [
              "16"
            ]
          },
          "metadata": {},
          "execution_count": 166
        }
      ]
    },
    {
      "cell_type": "code",
      "source": [
        "sum([[1, 2], [3, 101], [1, 20], [3, 100]],[])"
      ],
      "metadata": {
        "colab": {
          "base_uri": "https://localhost:8080/"
        },
        "id": "UUDKjfVB0wvK",
        "outputId": "e319f498-06c8-4429-fa00-c30f82f3b0a0"
      },
      "execution_count": 167,
      "outputs": [
        {
          "output_type": "execute_result",
          "data": {
            "text/plain": [
              "[1, 2, 3, 101, 1, 20, 3, 100]"
            ]
          },
          "metadata": {},
          "execution_count": 167
        }
      ]
    },
    {
      "cell_type": "code",
      "source": [
        "class Charactor:\n",
        "    def __repr__(self):\n",
        "        return 'hello'\n",
        "    def __str__(self):\n",
        "        return 'world'\n",
        "\n",
        "hero = Charactor()\n",
        "print(hero)\n",
        "hero"
      ],
      "metadata": {
        "colab": {
          "base_uri": "https://localhost:8080/"
        },
        "id": "pNvzal111s95",
        "outputId": "9bbbee6a-116d-4920-cb3e-f3c67f1770f0"
      },
      "execution_count": 175,
      "outputs": [
        {
          "output_type": "stream",
          "name": "stdout",
          "text": [
            "world\n"
          ]
        },
        {
          "output_type": "execute_result",
          "data": {
            "text/plain": [
              "hello"
            ]
          },
          "metadata": {},
          "execution_count": 175
        }
      ]
    },
    {
      "cell_type": "code",
      "source": [
        "repr(hero)"
      ],
      "metadata": {
        "colab": {
          "base_uri": "https://localhost:8080/",
          "height": 36
        },
        "id": "0BntlIxg2POU",
        "outputId": "3baaa499-55bb-4e01-85bf-b68986cd27ff"
      },
      "execution_count": 176,
      "outputs": [
        {
          "output_type": "execute_result",
          "data": {
            "text/plain": [
              "'hello'"
            ],
            "application/vnd.google.colaboratory.intrinsic+json": {
              "type": "string"
            }
          },
          "metadata": {},
          "execution_count": 176
        }
      ]
    },
    {
      "cell_type": "code",
      "source": [
        "가수 = ['뉴진스', '르세라핌', '에스파', '아이브']\n",
        "print(list(enumerate(가수)))\n",
        "print(list(enumerate(가수, 1)))\n",
        "print(list(enumerate(가수, 100)))\n",
        "\n",
        "for i, j in enumerate(가수, 1):\n",
        "    print(i, j)"
      ],
      "metadata": {
        "colab": {
          "base_uri": "https://localhost:8080/"
        },
        "id": "U6b0T10e2Njd",
        "outputId": "f353c237-dc1f-4bde-98f2-d5003ebf2d7a"
      },
      "execution_count": 183,
      "outputs": [
        {
          "output_type": "stream",
          "name": "stdout",
          "text": [
            "[(0, '뉴진스'), (1, '르세라핌'), (2, '에스파'), (3, '아이브')]\n",
            "[(1, '뉴진스'), (2, '르세라핌'), (3, '에스파'), (4, '아이브')]\n",
            "[(100, '뉴진스'), (101, '르세라핌'), (102, '에스파'), (103, '아이브')]\n",
            "1 뉴진스\n",
            "2 르세라핌\n",
            "3 에스파\n",
            "4 아이브\n"
          ]
        }
      ]
    },
    {
      "cell_type": "code",
      "source": [
        "print(type(print))\n",
        "print(type(enumerate))\n",
        "print(type(range))\n",
        "print(type(max))\n",
        "print(type(len))\n",
        "print(type(format))\n",
        "print(type(zip))\n",
        "print(type(map))\n",
        "print(type(filter))\n",
        "print(type(int))\n",
        "print(type(str))"
      ],
      "metadata": {
        "colab": {
          "base_uri": "https://localhost:8080/"
        },
        "id": "-DOw_6KL24Iw",
        "outputId": "de8a5fe9-6aba-4bc6-8708-4e8678d94964"
      },
      "execution_count": 191,
      "outputs": [
        {
          "output_type": "stream",
          "name": "stdout",
          "text": [
            "<class 'builtin_function_or_method'>\n",
            "<class 'type'>\n",
            "<class 'type'>\n",
            "<class 'builtin_function_or_method'>\n",
            "<class 'builtin_function_or_method'>\n",
            "<class 'builtin_function_or_method'>\n",
            "<class 'type'>\n",
            "<class 'type'>\n",
            "<class 'type'>\n",
            "<class 'type'>\n",
            "<class 'type'>\n"
          ]
        }
      ]
    },
    {
      "cell_type": "code",
      "source": [
        "# range(start, stop, step) 슬라이싱과 비슷한 형태\n",
        "print(range(10)) # 값을 갖고 있지 않습니다.\n",
        "print(list(range(10)))\n",
        "x = range(10)\n",
        "print(type(x))\n",
        "print(list(range(0, 10, 2)))\n",
        "print(list(range(10, 0, -2)))"
      ],
      "metadata": {
        "colab": {
          "base_uri": "https://localhost:8080/"
        },
        "id": "PsAIxxu134XX",
        "outputId": "1dd37455-09cb-43a4-9a79-452a871b92bc"
      },
      "execution_count": 199,
      "outputs": [
        {
          "output_type": "stream",
          "name": "stdout",
          "text": [
            "range(0, 10)\n",
            "[0, 1, 2, 3, 4, 5, 6, 7, 8, 9]\n",
            "<class 'range'>\n",
            "[0, 2, 4, 6, 8]\n",
            "[10, 8, 6, 4, 2]\n"
          ]
        }
      ]
    },
    {
      "cell_type": "code",
      "source": [
        "# Python 2.x에서 range와 그 외 값들에 대한 히스토리\n",
        "# print(range(10))\n",
        "# [0, 1, 2, 3, 4, 5, 6, 7, 8, 9]\n",
        "# 메모리를 모두 차지해야함.\n",
        "\n",
        "# print(range(1000000000000000))\n",
        "# 메모리의 효율이 극도로 안좋아짐\n",
        "\n",
        "# 그런데 3.x에서 range(100000000000000)는 값을 갖고 있지 않음\n",
        "# 시작과 끝, 스텝값만 갖고 있기 때문에 메모리 낭비가 없음.\n",
        "\n",
        "# 2.x에서도 3.x와 같은 range타입이 있었음. xrange문법. 이게 3.x되면서 range가 됨\n",
        "# 2.x에서 사용가능 문법\n",
        "# print(xrange(10)) 출력 : xrange(10)\n",
        "# for i in xrange(10):\n",
        "#   print(i)"
      ],
      "metadata": {
        "id": "mirpx2oY5qrZ"
      },
      "execution_count": 200,
      "outputs": []
    },
    {
      "cell_type": "code",
      "source": [
        "list(reversed('hello world'))\n",
        "list(reversed([1, 2, 3, 10, 5, 4])) # 역 정렬 아님. 역순임!"
      ],
      "metadata": {
        "colab": {
          "base_uri": "https://localhost:8080/"
        },
        "id": "GfASIhzq7ahq",
        "outputId": "c0e4287f-2d80-4253-f501-3f5d9ca5e1b2"
      },
      "execution_count": 203,
      "outputs": [
        {
          "output_type": "execute_result",
          "data": {
            "text/plain": [
              "[4, 5, 10, 3, 2, 1]"
            ]
          },
          "metadata": {},
          "execution_count": 203
        }
      ]
    },
    {
      "cell_type": "code",
      "source": [
        "list(reversed(sorted([1, 2, 3, 10, 5, 4])))"
      ],
      "metadata": {
        "colab": {
          "base_uri": "https://localhost:8080/"
        },
        "id": "5WsWkwxM7xOG",
        "outputId": "8885d462-6b8f-4efb-a544-0331e9cf3316"
      },
      "execution_count": 205,
      "outputs": [
        {
          "output_type": "execute_result",
          "data": {
            "text/plain": [
              "[10, 5, 4, 3, 2, 1]"
            ]
          },
          "metadata": {},
          "execution_count": 205
        }
      ]
    },
    {
      "cell_type": "code",
      "source": [
        "# 매우 중요\n",
        "# 알고리즘 문제에서 단골 built-in function\n",
        "list(sorted([1, 2, 3, 100, 200, 5, 10, 20], reverse=True))"
      ],
      "metadata": {
        "colab": {
          "base_uri": "https://localhost:8080/"
        },
        "id": "g_KDQgab77ry",
        "outputId": "cdc2356e-cf80-425e-b735-ec96afbe6ecf"
      },
      "execution_count": 208,
      "outputs": [
        {
          "output_type": "execute_result",
          "data": {
            "text/plain": [
              "[200, 100, 20, 10, 5, 3, 2, 1]"
            ]
          },
          "metadata": {},
          "execution_count": 208
        }
      ]
    },
    {
      "cell_type": "code",
      "source": [
        "sorted(['hello', 'l', 'hllo', 'hel', 'heo', 'a'], key=len)\n",
        "# 위 코드는 sorted([5, 1, 4, 3, 3, 1])와 같습니다."
      ],
      "metadata": {
        "colab": {
          "base_uri": "https://localhost:8080/"
        },
        "id": "RhOE78_g_U8p",
        "outputId": "8aff2c27-2e56-45b8-c8d1-278ca8396e54"
      },
      "execution_count": 211,
      "outputs": [
        {
          "output_type": "execute_result",
          "data": {
            "text/plain": [
              "['l', 'a', 'hel', 'heo', 'hllo', 'hello']"
            ]
          },
          "metadata": {},
          "execution_count": 211
        }
      ]
    },
    {
      "cell_type": "code",
      "source": [
        "data = [\n",
        "    [2, 'hello world', 30],\n",
        "    [3, 'hworl', 33],\n",
        "    [4, 'hello w', 31],\n",
        "    [5, 'hello wo', 35],\n",
        "    [6, 'hello w', 39]\n",
        "]\n",
        "\n",
        "# 1번째 문제: 첫 번째 요소의 값으로 정렬하세요.\n",
        "sorted(data)\n",
        "\n",
        "# 2번째 문제: 두 번째 요소의 문자열 길이를 기준으로 정렬하세요.\n",
        "sorted(data, key=lambda x: len(x[1]))\n",
        "# sorted([11, 5, 7, 8, 7])를 정렬하는 것과 같음. 다만 숫자 값으로 반환하는게 아니라 object로 반환.\n",
        "\n",
        "# 3번째 문제: 세 번째 요소 기준으로 정렬하세요.\n",
        "sorted(data, key=lambda x:x[2])\n",
        "\n",
        "# 4번째 문제: 첫번째 요소와 세 번째 요소의 차가 큰 순으로 정렬.\n",
        "sorted(data, key=lambda x:abs(x[0]-x[2]), reverse=True)"
      ],
      "metadata": {
        "colab": {
          "base_uri": "https://localhost:8080/"
        },
        "id": "64XjLDMZAMvE",
        "outputId": "86c10740-45ae-4302-906a-01451a76e1e1"
      },
      "execution_count": 223,
      "outputs": [
        {
          "output_type": "execute_result",
          "data": {
            "text/plain": [
              "[[6, 'hello w', 39],\n",
              " [3, 'hworl', 33],\n",
              " [5, 'hello wo', 35],\n",
              " [2, 'hello world', 30],\n",
              " [4, 'hello w', 31]]"
            ]
          },
          "metadata": {},
          "execution_count": 223
        }
      ]
    },
    {
      "cell_type": "code",
      "source": [],
      "metadata": {
        "id": "Hgm2L6eHD966"
      },
      "execution_count": null,
      "outputs": []
    }
  ]
}