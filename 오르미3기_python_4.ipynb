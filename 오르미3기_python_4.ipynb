{
  "nbformat": 4,
  "nbformat_minor": 0,
  "metadata": {
    "colab": {
      "provenance": [],
      "toc_visible": true,
      "authorship_tag": "ABX9TyO007nzRZVIoII0a46GjsEC",
      "include_colab_link": true
    },
    "kernelspec": {
      "name": "python3",
      "display_name": "Python 3"
    },
    "language_info": {
      "name": "python"
    }
  },
  "cells": [
    {
      "cell_type": "markdown",
      "metadata": {
        "id": "view-in-github",
        "colab_type": "text"
      },
      "source": [
        "<a href=\"https://colab.research.google.com/github/UserDongHu/Ormi3/blob/main/%EC%98%A4%EB%A5%B4%EB%AF%B83%EA%B8%B0_python_4.ipynb\" target=\"_parent\"><img src=\"https://colab.research.google.com/assets/colab-badge.svg\" alt=\"Open In Colab\"/></a>"
      ]
    },
    {
      "cell_type": "markdown",
      "source": [
        "# 조건문"
      ],
      "metadata": {
        "id": "0rzSgbYSSFhU"
      }
    },
    {
      "cell_type": "code",
      "source": [
        "if True:\n",
        "    print('Hello')"
      ],
      "metadata": {
        "colab": {
          "base_uri": "https://localhost:8080/"
        },
        "id": "ad1yZaWVSG0m",
        "outputId": "b4b200a1-679d-4210-fdb3-c006048cbd2d"
      },
      "execution_count": null,
      "outputs": [
        {
          "output_type": "stream",
          "name": "stdout",
          "text": [
            "Hello\n"
          ]
        }
      ]
    },
    {
      "cell_type": "code",
      "source": [
        "if False:\n",
        "    print('Hello')"
      ],
      "metadata": {
        "id": "n_ov1QQRSNLf"
      },
      "execution_count": null,
      "outputs": []
    },
    {
      "cell_type": "code",
      "source": [
        "if (True): # 이렇게 괄호를 안해도 됩니다\n",
        "    print('hello')"
      ],
      "metadata": {
        "colab": {
          "base_uri": "https://localhost:8080/"
        },
        "id": "gGxubgKcSP5B",
        "outputId": "691b3138-0020-40b9-db46-1f23b125ec05"
      },
      "execution_count": null,
      "outputs": [
        {
          "output_type": "stream",
          "name": "stdout",
          "text": [
            "hello\n"
          ]
        }
      ]
    },
    {
      "cell_type": "code",
      "source": [
        "if 10 and 9: # True나 False가 아니라 단락평가에 의해 9\n",
        "    print('hello')"
      ],
      "metadata": {
        "colab": {
          "base_uri": "https://localhost:8080/"
        },
        "id": "nI6dyS62SVyU",
        "outputId": "589752cc-3e69-411c-b53c-dadb2a1ccbcd"
      },
      "execution_count": null,
      "outputs": [
        {
          "output_type": "stream",
          "name": "stdout",
          "text": [
            "hello\n"
          ]
        }
      ]
    },
    {
      "cell_type": "code",
      "source": [
        "if 10: # True로 평가될 수 있는 것들도 들어갈 수 있다.\n",
        "    print('hello')"
      ],
      "metadata": {
        "colab": {
          "base_uri": "https://localhost:8080/"
        },
        "id": "VMpSP-L9SsTI",
        "outputId": "2a28702f-df12-443c-e90c-693dc71e47d6"
      },
      "execution_count": null,
      "outputs": [
        {
          "output_type": "stream",
          "name": "stdout",
          "text": [
            "hello\n"
          ]
        }
      ]
    },
    {
      "cell_type": "code",
      "source": [
        "if '': # F\n",
        "    print('hello')"
      ],
      "metadata": {
        "id": "jkK3sh2oSxvH"
      },
      "execution_count": null,
      "outputs": []
    },
    {
      "cell_type": "code",
      "source": [
        "if ' ': # T\n",
        "    print('hello')"
      ],
      "metadata": {
        "colab": {
          "base_uri": "https://localhost:8080/"
        },
        "id": "-CeNmZ_TS0Uu",
        "outputId": "14c846a4-59ce-4ab6-ead1-2ce18ca45210"
      },
      "execution_count": null,
      "outputs": [
        {
          "output_type": "stream",
          "name": "stdout",
          "text": [
            "hello\n"
          ]
        }
      ]
    },
    {
      "cell_type": "code",
      "source": [
        "if []: # F\n",
        "    print('hello')"
      ],
      "metadata": {
        "id": "NIH1aZlrS34m"
      },
      "execution_count": null,
      "outputs": []
    },
    {
      "cell_type": "code",
      "source": [
        "if -1: # T\n",
        "    print(\"hello\")"
      ],
      "metadata": {
        "colab": {
          "base_uri": "https://localhost:8080/"
        },
        "id": "qnsSG21cS9FA",
        "outputId": "2f61c964-a7d5-4adf-d6ee-0785c7e50adb"
      },
      "execution_count": null,
      "outputs": [
        {
          "output_type": "stream",
          "name": "stdout",
          "text": [
            "hello\n"
          ]
        }
      ]
    },
    {
      "cell_type": "markdown",
      "source": [
        "# 삼항연산자"
      ],
      "metadata": {
        "id": "cqcJ9g6KTZDg"
      }
    },
    {
      "cell_type": "code",
      "source": [
        "x = 5\n",
        "y = 10\n",
        "result = 'x is greater' if x > y else 'y is greater or equal'\n",
        "print(result) # 출력: 'y is greater or equal'"
      ],
      "metadata": {
        "colab": {
          "base_uri": "https://localhost:8080/"
        },
        "id": "MflIVRJWTGGA",
        "outputId": "4d090f20-9b10-4143-de7b-859857e6a7a8"
      },
      "execution_count": null,
      "outputs": [
        {
          "output_type": "stream",
          "name": "stdout",
          "text": [
            "y is greater or equal\n"
          ]
        }
      ]
    },
    {
      "cell_type": "code",
      "source": [
        "[i if i % 2 == 0 else None for i in range(10)]"
      ],
      "metadata": {
        "colab": {
          "base_uri": "https://localhost:8080/"
        },
        "id": "pxxrCeFCAmWW",
        "outputId": "0b08a7aa-b1eb-4cd9-e52c-cf0e8926352d"
      },
      "execution_count": null,
      "outputs": [
        {
          "output_type": "execute_result",
          "data": {
            "text/plain": [
              "[0, None, 2, None, 4, None, 6, None, 8, None]"
            ]
          },
          "metadata": {},
          "execution_count": 5
        }
      ]
    },
    {
      "cell_type": "code",
      "source": [
        "[i for i in range(10) if i % 2 == 0]"
      ],
      "metadata": {
        "colab": {
          "base_uri": "https://localhost:8080/"
        },
        "id": "YaDLpx4gAm60",
        "outputId": "5b5b69ce-a032-4185-d493-5cbc56d7764a"
      },
      "execution_count": null,
      "outputs": [
        {
          "output_type": "execute_result",
          "data": {
            "text/plain": [
              "[0, 2, 4, 6, 8]"
            ]
          },
          "metadata": {},
          "execution_count": 6
        }
      ]
    },
    {
      "cell_type": "code",
      "source": [
        "def f():\n",
        "    return True\n",
        "\n",
        "if f():\n",
        "    print('Hello')"
      ],
      "metadata": {
        "colab": {
          "base_uri": "https://localhost:8080/"
        },
        "id": "r-qH83yCAeM-",
        "outputId": "68ea8758-34ac-4139-95e6-4514f370f77a"
      },
      "execution_count": null,
      "outputs": [
        {
          "output_type": "stream",
          "name": "stdout",
          "text": [
            "Hello\n"
          ]
        }
      ]
    },
    {
      "cell_type": "code",
      "source": [
        "# 성능에 영향을 끼침\n",
        "def f():\n",
        "    return False\n",
        "\n",
        "def ff():\n",
        "    x = 100 / 0 # Error\n",
        "    return 'hello'\n",
        "\n",
        "if f() and ff(): # f()가 False라서 단락평가에 의해 뒤에 ff()를 실행 안해서 에러가 안남\n",
        "    print('Hello')"
      ],
      "metadata": {
        "id": "DD2uS9BqCuOs"
      },
      "execution_count": null,
      "outputs": []
    },
    {
      "cell_type": "code",
      "source": [
        "my_function = lambda x: '짝수' if x % 2 == 0 else '홀수'\n",
        "my_function(10)"
      ],
      "metadata": {
        "colab": {
          "base_uri": "https://localhost:8080/",
          "height": 36
        },
        "id": "hEADWFW8ESu1",
        "outputId": "38367d52-9f5a-4aab-9d39-e5b851a1840f"
      },
      "execution_count": null,
      "outputs": [
        {
          "output_type": "execute_result",
          "data": {
            "text/plain": [
              "'짝수'"
            ],
            "application/vnd.google.colaboratory.intrinsic+json": {
              "type": "string"
            }
          },
          "metadata": {},
          "execution_count": 13
        }
      ]
    },
    {
      "cell_type": "code",
      "source": [
        "# assert문\n",
        "x = 10\n",
        "assert x > 0, '양수여야 한다!'"
      ],
      "metadata": {
        "id": "a2pt7zYqE4Ir"
      },
      "execution_count": null,
      "outputs": []
    },
    {
      "cell_type": "code",
      "source": [
        "# elif\n",
        "score = 81\n",
        "money = 0\n",
        "\n",
        "if score >= 90:\n",
        "    print('mom : i\\'m so happy!')\n",
        "    money += 1000000\n",
        "elif score >= 80:\n",
        "    print('mom : i\\'m happy!')\n",
        "    money += 100000\n",
        "elif score >= 70 and score < 80:\n",
        "    print('mom : i\\'m so...!')\n",
        "    money += 10000\n",
        "elif score >= 60 and score < 70:\n",
        "    print('mom : i\\'m so...!')\n",
        "    money += 1000\n",
        "else:\n",
        "    print('mom : i\\'m...!')\n",
        "print(money)"
      ],
      "metadata": {
        "colab": {
          "base_uri": "https://localhost:8080/"
        },
        "id": "omZrecTbFQaC",
        "outputId": "7bacc410-0c70-497e-c6c7-93ed7812110b"
      },
      "execution_count": null,
      "outputs": [
        {
          "output_type": "stream",
          "name": "stdout",
          "text": [
            "mom : i'm happy!\n",
            "100000\n"
          ]
        }
      ]
    },
    {
      "cell_type": "code",
      "source": [
        "score = 81\n",
        "money = 0\n",
        "\n",
        "if score >= 90:\n",
        "    print('mom : i\\'m so happy!')\n",
        "    money += 1000000\n",
        "if score >= 80: # 어떤 의미가 내포되어 있나요? 90미만이라는 얘기가 하나 더 있는겁니다!\n",
        "    print('mom : i\\'m happy!')\n",
        "    money += 100000\n",
        "if score >= 70:\n",
        "    print('mom : i\\'m so...!')\n",
        "    money += 10000\n",
        "if score >= 60:\n",
        "    print('mom : i\\'m so...!')\n",
        "    money += 1000\n",
        "else:\n",
        "    print('mom : i\\'m...!')\n",
        "print(money)"
      ],
      "metadata": {
        "colab": {
          "base_uri": "https://localhost:8080/"
        },
        "id": "7-zPX0tMFnIw",
        "outputId": "750ba4f4-48f0-495c-b9f7-70dafd606e34"
      },
      "execution_count": null,
      "outputs": [
        {
          "output_type": "stream",
          "name": "stdout",
          "text": [
            "mom : i'm happy!\n",
            "mom : i'm so...!\n",
            "mom : i'm so...!\n",
            "111000\n"
          ]
        }
      ]
    },
    {
      "cell_type": "code",
      "source": [
        "# if, elif, else는 한 묶음으로 만들어 줍니다!"
      ],
      "metadata": {
        "id": "QE360Q97GBle"
      },
      "execution_count": null,
      "outputs": []
    },
    {
      "cell_type": "code",
      "source": [
        "score = 81\n",
        "money = 0\n",
        "\n",
        "if score >= 90:\n",
        "    print('mom : i\\'m so happy!')\n",
        "    money += 1000000\n",
        "if 90 > score >= 80: # 어떤 의미가 내포되어 있나요? 90미만이라는 얘기가 하나 더 있는겁니다!\n",
        "    print('mom : i\\'m happy!')\n",
        "    money += 100000\n",
        "if 80 > score >= 70:\n",
        "    print('mom : i\\'m so...!')\n",
        "    money += 10000\n",
        "if 70 > score >= 60:\n",
        "    print('mom : i\\'m so...!')\n",
        "    money += 1000\n",
        "else:\n",
        "    print('mom : i\\'m...!')\n",
        "print(money)"
      ],
      "metadata": {
        "colab": {
          "base_uri": "https://localhost:8080/"
        },
        "id": "NrJnvkoeGKl2",
        "outputId": "e326656a-ab58-4c2a-d44b-8dd177ad1eaa"
      },
      "execution_count": null,
      "outputs": [
        {
          "output_type": "stream",
          "name": "stdout",
          "text": [
            "mom : i'm happy!\n",
            "mom : i'm...!\n",
            "100000\n"
          ]
        }
      ]
    },
    {
      "cell_type": "code",
      "source": [
        "# 위와 같이 하더라도 실행이 같지 않고\n",
        "# if 뒤를 다 검사해야 하기 때문에 성능도 안좋다\n",
        "# 적절하게 묶는 것은 매우 중요한 포인트."
      ],
      "metadata": {
        "id": "8DD2z5tYGYFa"
      },
      "execution_count": null,
      "outputs": []
    },
    {
      "cell_type": "code",
      "source": [
        "# if를 중첩해서 사용하기\n",
        "movie = {\n",
        "    '영화': '무빙',\n",
        "    '장르': 'SF',\n",
        "    '서비스': '디즈니',\n",
        "    '비용': 15000,\n",
        "    '평점': 4.9,\n",
        "}\n",
        "\n",
        "if movie['장르'] == 'SF':\n",
        "    if movie['서비스'] == '디즈니'or movie['서비스'] == '넷플릭스':\n",
        "        if movie['평점'] >= 4.5:\n",
        "            if movie['비용'] <= 20000:\n",
        "                print('영화시청')\n"
      ],
      "metadata": {
        "colab": {
          "base_uri": "https://localhost:8080/"
        },
        "id": "vSFQWdw6Gj29",
        "outputId": "d7cbfa98-e515-448b-d80e-435e1cb37427"
      },
      "execution_count": null,
      "outputs": [
        {
          "output_type": "stream",
          "name": "stdout",
          "text": [
            "영화시청\n"
          ]
        }
      ]
    },
    {
      "cell_type": "code",
      "source": [
        "movie = {\n",
        "    '영화': '무빙',\n",
        "    '장르': 'SF',\n",
        "    '서비스': '디즈니',\n",
        "    '비용': 15000,\n",
        "    '평점': 4.9\n",
        "}\n",
        "\n",
        "if movie['장르'] == 'SF' and (movie['서비스'] == '디즈니' or movie['서비스'] == '넷플릭스') and movie['평점'] >= 4.5 and movie['비용'] <= 20000:\n",
        "    print('영화시청')"
      ],
      "metadata": {
        "colab": {
          "base_uri": "https://localhost:8080/"
        },
        "id": "IkouHQbdICMz",
        "outputId": "31be7801-f3cd-4e83-bfa9-8b80e8800e69"
      },
      "execution_count": null,
      "outputs": [
        {
          "output_type": "stream",
          "name": "stdout",
          "text": [
            "영화시청\n"
          ]
        }
      ]
    },
    {
      "cell_type": "code",
      "source": [
        "# if를 중첩해서 사용하기\n",
        "# 이정도가 깔끔하게 다듬어진 것입니다.\n",
        "movie = {\n",
        "    '영화': '무빙',\n",
        "    '장르': 'SF',\n",
        "    '서비스': '왓챠',\n",
        "    '비용': 15000,\n",
        "    '평점': 4.9\n",
        "}\n",
        "\n",
        "if movie['장르'] == 'SF':\n",
        "    if movie['서비스'] == '디즈니' or movie['서비스'] == '넷플릭스':\n",
        "        if movie['평점'] >= 4.5 and movie['비용'] <= 20000:\n",
        "            print('영화시청')\n",
        "    else:\n",
        "        print(movie['서비스'] + ' 구독하기!')"
      ],
      "metadata": {
        "colab": {
          "base_uri": "https://localhost:8080/"
        },
        "id": "bJNCExE4KQbA",
        "outputId": "f066a836-0389-4709-a3be-c05de9780ff2"
      },
      "execution_count": null,
      "outputs": [
        {
          "output_type": "stream",
          "name": "stdout",
          "text": [
            "왓챠 구독하기!\n"
          ]
        }
      ]
    },
    {
      "cell_type": "markdown",
      "source": [
        "# match"
      ],
      "metadata": {
        "id": "mnyTfzppKZkb"
      }
    },
    {
      "cell_type": "code",
      "source": [
        "text = 'Hello World'\n",
        "match text:\n",
        "    case 'Hello':\n",
        "        print('Hello')\n",
        "    case 'World':\n",
        "        print('World')\n",
        "    case _:\n",
        "        print('No Match') # 결과 'No Match'"
      ],
      "metadata": {
        "colab": {
          "base_uri": "https://localhost:8080/"
        },
        "id": "advq-N6SKSNm",
        "outputId": "385f98a9-1c2c-4c86-f202-c3284070a238"
      },
      "execution_count": null,
      "outputs": [
        {
          "output_type": "stream",
          "name": "stdout",
          "text": [
            "No Match\n"
          ]
        }
      ]
    },
    {
      "cell_type": "code",
      "source": [
        "text = 'Hello'\n",
        "match text:\n",
        "    case 'Hello':\n",
        "        print('Hello')\n",
        "    case 'World':\n",
        "        print('World')\n",
        "    case _:\n",
        "        print('No Match') # 결과 'No Match'"
      ],
      "metadata": {
        "colab": {
          "base_uri": "https://localhost:8080/"
        },
        "id": "aJEOM8N4Kjsa",
        "outputId": "56bcff92-c32c-4b21-e15d-73ab571a52eb"
      },
      "execution_count": null,
      "outputs": [
        {
          "output_type": "stream",
          "name": "stdout",
          "text": [
            "Hello\n"
          ]
        }
      ]
    },
    {
      "cell_type": "code",
      "source": [
        "text = 'hello'\n",
        "match text:\n",
        "    case 'Hello':\n",
        "        print('Hello')\n",
        "    case 'World':\n",
        "        print('World')\n",
        "print('end')"
      ],
      "metadata": {
        "colab": {
          "base_uri": "https://localhost:8080/"
        },
        "id": "Fh-JH5PSKnO4",
        "outputId": "7af0feb4-d1fe-45e6-dd2b-f1d87a119c22"
      },
      "execution_count": null,
      "outputs": [
        {
          "output_type": "stream",
          "name": "stdout",
          "text": [
            "end\n"
          ]
        }
      ]
    },
    {
      "cell_type": "code",
      "source": [
        "# 작동하는 코드입니다.\n",
        "text = 'Hello'\n",
        "match text:\n",
        "    case 'Hello' | 'World':\n",
        "        print('World')\n",
        "    case _:\n",
        "        print('No Match')"
      ],
      "metadata": {
        "colab": {
          "base_uri": "https://localhost:8080/"
        },
        "id": "OkiLwl75NS_K",
        "outputId": "19665107-8402-4920-9fc1-c4f67ab2d1f1"
      },
      "execution_count": null,
      "outputs": [
        {
          "output_type": "stream",
          "name": "stdout",
          "text": [
            "World\n"
          ]
        }
      ]
    },
    {
      "cell_type": "code",
      "source": [
        "def test(i):\n",
        "    match i:\n",
        "        case 1:\n",
        "            print('One')\n",
        "        case 2:\n",
        "            print('Two')\n",
        "        case 3 | 4:\n",
        "            print('Three or Four')\n",
        "        case _ if i > 10:\n",
        "            print('Greater than ten')\n",
        "        case _:\n",
        "            print('Other')\n",
        "\n",
        "test(1) # 출력: One\n",
        "test(2) # 출력: Two\n",
        "test(3) # 출력: Three or Four\n",
        "test(4) # 출력: Three or Four\n",
        "test(5) # 출력: Other\n",
        "test(15) # 출력: Greater than ten"
      ],
      "metadata": {
        "colab": {
          "base_uri": "https://localhost:8080/"
        },
        "id": "g8D6HrG3OUfh",
        "outputId": "5153f334-b61b-494c-dc32-feb6eb6aa428"
      },
      "execution_count": null,
      "outputs": [
        {
          "output_type": "stream",
          "name": "stdout",
          "text": [
            "One\n",
            "Two\n",
            "Three or Four\n",
            "Three or Four\n",
            "Other\n",
            "Greater than ten\n"
          ]
        }
      ]
    },
    {
      "cell_type": "code",
      "source": [
        "def test(i):\n",
        "    match i:\n",
        "        case 1:\n",
        "            print('One')\n",
        "        case 2:\n",
        "            print('Two')\n",
        "        case _:\n",
        "            if i > 2:\n",
        "                print('Greater than two')\n",
        "            else:\n",
        "                print('Less than or equal to two')\n",
        "test(1) # 출력: One\n",
        "test(2) # 출력: Two\n",
        "test(3) # 출력: Greater than two\n",
        "test(4) # 출력: Greater than two"
      ],
      "metadata": {
        "colab": {
          "base_uri": "https://localhost:8080/"
        },
        "id": "iQuFjBU9OZc7",
        "outputId": "77382160-a2ef-410a-bb2a-0cc6da19b326"
      },
      "execution_count": null,
      "outputs": [
        {
          "output_type": "stream",
          "name": "stdout",
          "text": [
            "One\n",
            "Two\n",
            "Greater than two\n",
            "Greater than two\n"
          ]
        }
      ]
    },
    {
      "cell_type": "code",
      "source": [
        "# 연습문제\n",
        "# match를 사용하여 아래 코드를 완성\n",
        "\n",
        "def attack(attack_type, damage):\n",
        "    match(attack_type):\n",
        "        case '물리공격' | '마법공격':\n",
        "            print(f'{damage}의 데미지를 입혔습니다.')\n",
        "        case '정신공격':\n",
        "            print('100ms 동안 상대방이 혼란을 느낍니다.')\n",
        "\n",
        "attack('물리공격', 100)"
      ],
      "metadata": {
        "id": "3zeYAgjUO9Fw",
        "colab": {
          "base_uri": "https://localhost:8080/"
        },
        "outputId": "fc99bd4e-0f74-4e75-ef0a-555b852d7de9"
      },
      "execution_count": 48,
      "outputs": [
        {
          "output_type": "stream",
          "name": "stdout",
          "text": [
            "100의 데미지를 입혔습니다.\n"
          ]
        }
      ]
    },
    {
      "cell_type": "markdown",
      "source": [
        "# 반복문"
      ],
      "metadata": {
        "id": "uFrcOnQTS0kY"
      }
    },
    {
      "cell_type": "code",
      "source": [
        "for x in 'hello': # 순회 가능한 객체가 들어감\n",
        "    print(f'현재 값은 {x}입니다.')"
      ],
      "metadata": {
        "colab": {
          "base_uri": "https://localhost:8080/"
        },
        "id": "iAtBk3DCS2Pc",
        "outputId": "df528f3d-e88d-46e1-e662-ca9d64af205e"
      },
      "execution_count": 52,
      "outputs": [
        {
          "output_type": "stream",
          "name": "stdout",
          "text": [
            "현재 값은 h입니다.\n",
            "현재 값은 e입니다.\n",
            "현재 값은 l입니다.\n",
            "현재 값은 l입니다.\n",
            "현재 값은 o입니다.\n"
          ]
        }
      ]
    },
    {
      "cell_type": "code",
      "source": [
        "for x in (1, 2, 3, 4, 5):\n",
        "    print(f'현재 값은 {x}입니다.')"
      ],
      "metadata": {
        "colab": {
          "base_uri": "https://localhost:8080/"
        },
        "id": "vHMvj4myTH37",
        "outputId": "dab8f385-38ca-480c-e25c-4716c1fb0145"
      },
      "execution_count": 54,
      "outputs": [
        {
          "output_type": "stream",
          "name": "stdout",
          "text": [
            "현재 값은 1입니다.\n",
            "현재 값은 2입니다.\n",
            "현재 값은 3입니다.\n",
            "현재 값은 4입니다.\n",
            "현재 값은 5입니다.\n"
          ]
        }
      ]
    },
    {
      "cell_type": "code",
      "source": [
        "d = {\n",
        "    '하나' : 'one',\n",
        "    '둘' : 'two',\n",
        "    '셋' : 'three',\n",
        "}\n",
        "\n",
        "for k in d:\n",
        "    print(k)"
      ],
      "metadata": {
        "colab": {
          "base_uri": "https://localhost:8080/"
        },
        "id": "kb8gt1quVTAY",
        "outputId": "778dd6c2-92bd-4493-96b1-febaa9e168b6"
      },
      "execution_count": 67,
      "outputs": [
        {
          "output_type": "stream",
          "name": "stdout",
          "text": [
            "하나\n",
            "둘\n",
            "셋\n"
          ]
        }
      ]
    },
    {
      "cell_type": "code",
      "source": [
        "d = {\n",
        "    '하나' : 'one',\n",
        "    '둘' : 'two',\n",
        "    '셋' : 'three',\n",
        "}\n",
        "\n",
        "for k, v in d.items():\n",
        "    print(f'{k}: {v}')"
      ],
      "metadata": {
        "colab": {
          "base_uri": "https://localhost:8080/"
        },
        "id": "ai8De5v6VVDn",
        "outputId": "c4369ab5-7e9e-45e4-bdbc-399c640b8533"
      },
      "execution_count": 72,
      "outputs": [
        {
          "output_type": "stream",
          "name": "stdout",
          "text": [
            "하나: one\n",
            "둘: two\n",
            "셋: three\n"
          ]
        }
      ]
    },
    {
      "cell_type": "code",
      "source": [
        "for k in d:\n",
        "    print(k, ': ', d[k], sep='', end=' ')"
      ],
      "metadata": {
        "colab": {
          "base_uri": "https://localhost:8080/"
        },
        "id": "qNstBfEmVoEV",
        "outputId": "f9352221-2d3c-4ed1-edc3-3392eca9bd07"
      },
      "execution_count": 78,
      "outputs": [
        {
          "output_type": "stream",
          "name": "stdout",
          "text": [
            "하나: one 둘: two 셋: three "
          ]
        }
      ]
    },
    {
      "cell_type": "code",
      "source": [
        "# 1부터 100까지 더하는 코드\n",
        "result = 0\n",
        "for i in range(101):\n",
        "    result += i\n",
        "print(result)\n",
        "\n",
        "# 1부터 100까지 짝수를 더하는 코드\n",
        "# 권장하지 않는 코드 (100번 돌아야하고, if문도 봐야하고)\n",
        "result = 0\n",
        "for i in range(101):\n",
        "    if i % 2 == 0:\n",
        "        result += i\n",
        "print(result)\n",
        "\n",
        "# 권장하는 코드\n",
        "# 순회도 반만 돌고, if문도 없음\n",
        "result = 0\n",
        "for i in range(0, 101, 2):\n",
        "    result += i\n",
        "print(result)\n",
        "\n",
        "# 중첩 for를 조금 어렵게 표현\n",
        "for i in [range(3), range(5), range(7)]:\n",
        "    for j in i:\n",
        "        print(j)\n",
        "\n",
        "# 6이하 홀수들의 특이한 덧셈을 한다면\n",
        "# 1 + 3이하의 수 + 5이하의 수\n",
        "# 1 + 1 + 2 + 3 + 1 + 2 + 3 + 4 + 5 이렇게\n",
        "result = 0\n",
        "for i in [range(2), range(4), range(6)]:\n",
        "    for j in i:\n",
        "        result += j\n",
        "print(result)"
      ],
      "metadata": {
        "colab": {
          "base_uri": "https://localhost:8080/"
        },
        "id": "G5E7zw3iVuVS",
        "outputId": "6706378c-a5ee-46df-915a-f15923f69df7"
      },
      "execution_count": 85,
      "outputs": [
        {
          "output_type": "stream",
          "name": "stdout",
          "text": [
            "5050\n",
            "2550\n",
            "2550\n",
            "0\n",
            "1\n",
            "2\n",
            "0\n",
            "1\n",
            "2\n",
            "3\n",
            "4\n",
            "0\n",
            "1\n",
            "2\n",
            "3\n",
            "4\n",
            "5\n",
            "6\n",
            "22\n"
          ]
        }
      ]
    },
    {
      "cell_type": "code",
      "source": [
        "# 문제\n",
        "# s = '135678'\n",
        "# 이때 구구단 1단, 3단, 5단, 6단, 7단, 8단을 출력하는 코드\n",
        "s = '135678'\n",
        "for i in s:\n",
        "    for j in range(1, 10):\n",
        "        print(f'{i} X {j} = {int(i)*j}', end=\"  \")\n",
        "    print()"
      ],
      "metadata": {
        "colab": {
          "base_uri": "https://localhost:8080/"
        },
        "id": "LCPPyU_NbE0u",
        "outputId": "c82fba85-8e9d-4839-92f8-7d3abcd53e7b"
      },
      "execution_count": 101,
      "outputs": [
        {
          "output_type": "stream",
          "name": "stdout",
          "text": [
            "1 X 1 = 1  1 X 2 = 2  1 X 3 = 3  1 X 4 = 4  1 X 5 = 5  1 X 6 = 6  1 X 7 = 7  1 X 8 = 8  1 X 9 = 9  \n",
            "3 X 1 = 3  3 X 2 = 6  3 X 3 = 9  3 X 4 = 12  3 X 5 = 15  3 X 6 = 18  3 X 7 = 21  3 X 8 = 24  3 X 9 = 27  \n",
            "5 X 1 = 5  5 X 2 = 10  5 X 3 = 15  5 X 4 = 20  5 X 5 = 25  5 X 6 = 30  5 X 7 = 35  5 X 8 = 40  5 X 9 = 45  \n",
            "6 X 1 = 6  6 X 2 = 12  6 X 3 = 18  6 X 4 = 24  6 X 5 = 30  6 X 6 = 36  6 X 7 = 42  6 X 8 = 48  6 X 9 = 54  \n",
            "7 X 1 = 7  7 X 2 = 14  7 X 3 = 21  7 X 4 = 28  7 X 5 = 35  7 X 6 = 42  7 X 7 = 49  7 X 8 = 56  7 X 9 = 63  \n",
            "8 X 1 = 8  8 X 2 = 16  8 X 3 = 24  8 X 4 = 32  8 X 5 = 40  8 X 6 = 48  8 X 7 = 56  8 X 8 = 64  8 X 9 = 72  \n"
          ]
        }
      ]
    },
    {
      "cell_type": "code",
      "source": [
        "# 심화문제\n",
        "# 특이한 구구단이 있다.\n",
        "# [2, 3, 6] 이 있었을 때 아래와 같이 출력되어야 한다.\n",
        "# 2 X 3 = 6\n",
        "# 2 X 4 = 8\n",
        "# 2 X 7 = 14\n",
        "# 3 X 3 = 9\n",
        "# 3 X 4 = 12\n",
        "# 3 X 7 = 21\n",
        "# 6 X 3 = 18\n",
        "# 6 X 4 = 24\n",
        "# 6 X 7 = 42\n",
        "l = [2, 3, 6]\n",
        "for i in l:\n",
        "    for j in l:\n",
        "        print(f'{i} X {j+1} = {i*(j+1)}')"
      ],
      "metadata": {
        "colab": {
          "base_uri": "https://localhost:8080/"
        },
        "id": "mtWgdPrDdbj2",
        "outputId": "f2c364a9-4ed1-425d-c6b9-cace091b3e13"
      },
      "execution_count": 102,
      "outputs": [
        {
          "output_type": "stream",
          "name": "stdout",
          "text": [
            "2 X 3 = 6\n",
            "2 X 4 = 8\n",
            "2 X 7 = 14\n",
            "3 X 3 = 9\n",
            "3 X 4 = 12\n",
            "3 X 7 = 21\n",
            "6 X 3 = 18\n",
            "6 X 4 = 24\n",
            "6 X 7 = 42\n"
          ]
        }
      ]
    },
    {
      "cell_type": "code",
      "source": [
        "# 하나만 리스트여도 쌍이면 상관없이 잘 돌아감\n",
        "skill = [\n",
        "        ('고기잡이', 100, 'SS'),\n",
        "        ('고기팔기', 120, 'SSS'),\n",
        "        ('낚시', 5, 'C'),\n",
        "        ('통발', 5, 'C'),\n",
        "        ('큰그물', 5, 'C')\n",
        "]\n",
        "\n",
        "for skillName, skillLevel, skillGrade in skill:\n",
        "    print(skillName, skillLevel, skillGrade)"
      ],
      "metadata": {
        "colab": {
          "base_uri": "https://localhost:8080/"
        },
        "id": "Uaz9piO8gZq8",
        "outputId": "cc33b875-5cfc-488f-b953-2bb7199e0fc9"
      },
      "execution_count": 103,
      "outputs": [
        {
          "output_type": "stream",
          "name": "stdout",
          "text": [
            "고기잡이 100 SS\n",
            "고기팔기 120 SSS\n",
            "낚시 5 C\n",
            "통발 5 C\n",
            "큰그물 5 C\n"
          ]
        }
      ]
    },
    {
      "cell_type": "code",
      "source": [
        "영화누적관객수 = ['레미제라블', '뷰티풀사이트', '매트릭스', '인셉션', '어거스트 러쉬']\n",
        "for i in enumerate(영화누적관객수):\n",
        "    print(i)\n",
        "\n",
        "for i, j in enumerate(영화누적관객수, 1):\n",
        "    print(f'누적관객수 {i}위! {j}!')"
      ],
      "metadata": {
        "colab": {
          "base_uri": "https://localhost:8080/"
        },
        "id": "zlX7S3Isgcl-",
        "outputId": "49e717cb-7391-4153-b6e0-18e7cc123a43"
      },
      "execution_count": 106,
      "outputs": [
        {
          "output_type": "stream",
          "name": "stdout",
          "text": [
            "(0, '레미제라블')\n",
            "(1, '뷰티풀사이트')\n",
            "(2, '매트릭스')\n",
            "(3, '인셉션')\n",
            "(4, '어거스트 러쉬')\n",
            "누적관객수 1위! 레미제라블!\n",
            "누적관객수 2위! 뷰티풀사이트!\n",
            "누적관객수 3위! 매트릭스!\n",
            "누적관객수 4위! 인셉션!\n",
            "누적관객수 5위! 어거스트 러쉬!\n"
          ]
        }
      ]
    },
    {
      "cell_type": "code",
      "source": [
        "# __iter__() 이 매직 매서드가 없다? for문이 안된다! 순회가능한 객체가 아니다. 있다? for문이 된다! 순회가능한 객체다!"
      ],
      "metadata": {
        "id": "-q9o6WmrU44C"
      },
      "execution_count": null,
      "outputs": []
    },
    {
      "cell_type": "code",
      "source": [
        "# 1부터 5까지의 값이 x에는 어떻게 들어가는 것 일까요?\n",
        "x = iter('hello')\n",
        "print(x)"
      ],
      "metadata": {
        "colab": {
          "base_uri": "https://localhost:8080/"
        },
        "id": "XkGc843GTSYM",
        "outputId": "6780a558-9cdc-47db-fb05-9404860c2f7c"
      },
      "execution_count": 56,
      "outputs": [
        {
          "output_type": "stream",
          "name": "stdout",
          "text": [
            "<str_iterator object at 0x7cacfc5e1210>\n"
          ]
        }
      ]
    },
    {
      "cell_type": "code",
      "source": [
        "print(next(x))"
      ],
      "metadata": {
        "colab": {
          "base_uri": "https://localhost:8080/"
        },
        "id": "lynSKao5TtYz",
        "outputId": "cd341575-f2b9-4187-c4f2-b782643771de"
      },
      "execution_count": 58,
      "outputs": [
        {
          "output_type": "stream",
          "name": "stdout",
          "text": [
            "e\n"
          ]
        }
      ]
    },
    {
      "cell_type": "code",
      "source": [
        "print(next(x))"
      ],
      "metadata": {
        "colab": {
          "base_uri": "https://localhost:8080/"
        },
        "id": "tTJbZQF0TwmI",
        "outputId": "61c97361-ddc9-43e6-8c6e-849735c1e4f7"
      },
      "execution_count": 60,
      "outputs": [
        {
          "output_type": "stream",
          "name": "stdout",
          "text": [
            "l\n"
          ]
        }
      ]
    },
    {
      "cell_type": "code",
      "source": [
        "print(next(x)) # StopIteration Error"
      ],
      "metadata": {
        "colab": {
          "base_uri": "https://localhost:8080/",
          "height": 180
        },
        "id": "ymXYZRjnTzBh",
        "outputId": "9dc7672c-497d-435e-8853-ccfec281dd55"
      },
      "execution_count": 63,
      "outputs": [
        {
          "output_type": "error",
          "ename": "StopIteration",
          "evalue": "ignored",
          "traceback": [
            "\u001b[0;31m---------------------------------------------------------------------------\u001b[0m",
            "\u001b[0;31mStopIteration\u001b[0m                             Traceback (most recent call last)",
            "\u001b[0;32m<ipython-input-63-d29d0752f02c>\u001b[0m in \u001b[0;36m<cell line: 1>\u001b[0;34m()\u001b[0m\n\u001b[0;32m----> 1\u001b[0;31m \u001b[0mprint\u001b[0m\u001b[0;34m(\u001b[0m\u001b[0mnext\u001b[0m\u001b[0;34m(\u001b[0m\u001b[0mx\u001b[0m\u001b[0;34m)\u001b[0m\u001b[0;34m)\u001b[0m \u001b[0;31m# StopIteration Error\u001b[0m\u001b[0;34m\u001b[0m\u001b[0;34m\u001b[0m\u001b[0m\n\u001b[0m",
            "\u001b[0;31mStopIteration\u001b[0m: "
          ]
        }
      ]
    },
    {
      "cell_type": "code",
      "source": [
        "x = 'hello'\n",
        "y = x.__iter__() # iter('hello')\n",
        "\n",
        "print(y.__next__()) # next('hello)\n",
        "print(y.__next__())\n",
        "print(y.__next__())\n",
        "print(y.__next__())\n",
        "print(y.__next__())\n",
        "print(y.__next__())"
      ],
      "metadata": {
        "colab": {
          "base_uri": "https://localhost:8080/",
          "height": 305
        },
        "id": "-1qulTf3UUvG",
        "outputId": "706c5be1-5d0c-4337-e1f2-9535fbf6738f"
      },
      "execution_count": 65,
      "outputs": [
        {
          "output_type": "stream",
          "name": "stdout",
          "text": [
            "h\n",
            "e\n",
            "l\n",
            "l\n",
            "o\n"
          ]
        },
        {
          "output_type": "error",
          "ename": "StopIteration",
          "evalue": "ignored",
          "traceback": [
            "\u001b[0;31m---------------------------------------------------------------------------\u001b[0m",
            "\u001b[0;31mStopIteration\u001b[0m                             Traceback (most recent call last)",
            "\u001b[0;32m<ipython-input-65-3659d3511cbe>\u001b[0m in \u001b[0;36m<cell line: 9>\u001b[0;34m()\u001b[0m\n\u001b[1;32m      7\u001b[0m \u001b[0mprint\u001b[0m\u001b[0;34m(\u001b[0m\u001b[0my\u001b[0m\u001b[0;34m.\u001b[0m\u001b[0m__next__\u001b[0m\u001b[0;34m(\u001b[0m\u001b[0;34m)\u001b[0m\u001b[0;34m)\u001b[0m\u001b[0;34m\u001b[0m\u001b[0;34m\u001b[0m\u001b[0m\n\u001b[1;32m      8\u001b[0m \u001b[0mprint\u001b[0m\u001b[0;34m(\u001b[0m\u001b[0my\u001b[0m\u001b[0;34m.\u001b[0m\u001b[0m__next__\u001b[0m\u001b[0;34m(\u001b[0m\u001b[0;34m)\u001b[0m\u001b[0;34m)\u001b[0m\u001b[0;34m\u001b[0m\u001b[0;34m\u001b[0m\u001b[0m\n\u001b[0;32m----> 9\u001b[0;31m \u001b[0mprint\u001b[0m\u001b[0;34m(\u001b[0m\u001b[0my\u001b[0m\u001b[0;34m.\u001b[0m\u001b[0m__next__\u001b[0m\u001b[0;34m(\u001b[0m\u001b[0;34m)\u001b[0m\u001b[0;34m)\u001b[0m\u001b[0;34m\u001b[0m\u001b[0;34m\u001b[0m\u001b[0m\n\u001b[0m",
            "\u001b[0;31mStopIteration\u001b[0m: "
          ]
        }
      ]
    },
    {
      "cell_type": "markdown",
      "source": [
        "# while문"
      ],
      "metadata": {
        "id": "ouYiwtyKieKN"
      }
    },
    {
      "cell_type": "code",
      "source": [
        "# .py파일로 작성해서 실행해보세요.\n",
        "import os\n",
        "\n",
        "while True:\n",
        "    userinput = input('>')\n",
        "    if userinput == 'pwd':\n",
        "        # print('현재 위치 출력')\n",
        "        # print('\\\\'.join(__file__.split('\\\\')[:-1]))\n",
        "        print(os.getcwd())\n",
        "    elif userinput == 'dir' or userinput == 'ls':\n",
        "        # print('현재 폴더에 폴더와 파일명 출력')\n",
        "        print(os.listdir(os.getcwd()))\n",
        "    elif userinput == 'exit':\n",
        "        print('안녕히가세요.')\n",
        "        break"
      ],
      "metadata": {
        "colab": {
          "base_uri": "https://localhost:8080/",
          "height": 401
        },
        "id": "9ZZG4LxTUvyg",
        "outputId": "7e24cf09-b691-421f-de1e-a691dd2982fe"
      },
      "execution_count": 107,
      "outputs": [
        {
          "output_type": "error",
          "ename": "KeyboardInterrupt",
          "evalue": "ignored",
          "traceback": [
            "\u001b[0;31m---------------------------------------------------------------------------\u001b[0m",
            "\u001b[0;31mKeyboardInterrupt\u001b[0m                         Traceback (most recent call last)",
            "\u001b[0;32m<ipython-input-107-4aa714639500>\u001b[0m in \u001b[0;36m<cell line: 4>\u001b[0;34m()\u001b[0m\n\u001b[1;32m      3\u001b[0m \u001b[0;34m\u001b[0m\u001b[0m\n\u001b[1;32m      4\u001b[0m \u001b[0;32mwhile\u001b[0m \u001b[0;32mTrue\u001b[0m\u001b[0;34m:\u001b[0m\u001b[0;34m\u001b[0m\u001b[0;34m\u001b[0m\u001b[0m\n\u001b[0;32m----> 5\u001b[0;31m     \u001b[0muserinput\u001b[0m \u001b[0;34m=\u001b[0m \u001b[0minput\u001b[0m\u001b[0;34m(\u001b[0m\u001b[0;34m'>'\u001b[0m\u001b[0;34m)\u001b[0m\u001b[0;34m\u001b[0m\u001b[0;34m\u001b[0m\u001b[0m\n\u001b[0m\u001b[1;32m      6\u001b[0m     \u001b[0;32mif\u001b[0m \u001b[0muserinput\u001b[0m \u001b[0;34m==\u001b[0m \u001b[0;34m'pwd'\u001b[0m\u001b[0;34m:\u001b[0m\u001b[0;34m\u001b[0m\u001b[0;34m\u001b[0m\u001b[0m\n\u001b[1;32m      7\u001b[0m         \u001b[0;31m# print('현재 위치 출력')\u001b[0m\u001b[0;34m\u001b[0m\u001b[0;34m\u001b[0m\u001b[0m\n",
            "\u001b[0;32m/usr/local/lib/python3.10/dist-packages/ipykernel/kernelbase.py\u001b[0m in \u001b[0;36mraw_input\u001b[0;34m(self, prompt)\u001b[0m\n\u001b[1;32m    849\u001b[0m                 \u001b[0;34m\"raw_input was called, but this frontend does not support input requests.\"\u001b[0m\u001b[0;34m\u001b[0m\u001b[0;34m\u001b[0m\u001b[0m\n\u001b[1;32m    850\u001b[0m             )\n\u001b[0;32m--> 851\u001b[0;31m         return self._input_request(str(prompt),\n\u001b[0m\u001b[1;32m    852\u001b[0m             \u001b[0mself\u001b[0m\u001b[0;34m.\u001b[0m\u001b[0m_parent_ident\u001b[0m\u001b[0;34m,\u001b[0m\u001b[0;34m\u001b[0m\u001b[0;34m\u001b[0m\u001b[0m\n\u001b[1;32m    853\u001b[0m             \u001b[0mself\u001b[0m\u001b[0;34m.\u001b[0m\u001b[0m_parent_header\u001b[0m\u001b[0;34m,\u001b[0m\u001b[0;34m\u001b[0m\u001b[0;34m\u001b[0m\u001b[0m\n",
            "\u001b[0;32m/usr/local/lib/python3.10/dist-packages/ipykernel/kernelbase.py\u001b[0m in \u001b[0;36m_input_request\u001b[0;34m(self, prompt, ident, parent, password)\u001b[0m\n\u001b[1;32m    893\u001b[0m             \u001b[0;32mexcept\u001b[0m \u001b[0mKeyboardInterrupt\u001b[0m\u001b[0;34m:\u001b[0m\u001b[0;34m\u001b[0m\u001b[0;34m\u001b[0m\u001b[0m\n\u001b[1;32m    894\u001b[0m                 \u001b[0;31m# re-raise KeyboardInterrupt, to truncate traceback\u001b[0m\u001b[0;34m\u001b[0m\u001b[0;34m\u001b[0m\u001b[0m\n\u001b[0;32m--> 895\u001b[0;31m                 \u001b[0;32mraise\u001b[0m \u001b[0mKeyboardInterrupt\u001b[0m\u001b[0;34m(\u001b[0m\u001b[0;34m\"Interrupted by user\"\u001b[0m\u001b[0;34m)\u001b[0m \u001b[0;32mfrom\u001b[0m \u001b[0;32mNone\u001b[0m\u001b[0;34m\u001b[0m\u001b[0;34m\u001b[0m\u001b[0m\n\u001b[0m\u001b[1;32m    896\u001b[0m             \u001b[0;32mexcept\u001b[0m \u001b[0mException\u001b[0m \u001b[0;32mas\u001b[0m \u001b[0me\u001b[0m\u001b[0;34m:\u001b[0m\u001b[0;34m\u001b[0m\u001b[0;34m\u001b[0m\u001b[0m\n\u001b[1;32m    897\u001b[0m                 \u001b[0mself\u001b[0m\u001b[0;34m.\u001b[0m\u001b[0mlog\u001b[0m\u001b[0;34m.\u001b[0m\u001b[0mwarning\u001b[0m\u001b[0;34m(\u001b[0m\u001b[0;34m\"Invalid Message:\"\u001b[0m\u001b[0;34m,\u001b[0m \u001b[0mexc_info\u001b[0m\u001b[0;34m=\u001b[0m\u001b[0;32mTrue\u001b[0m\u001b[0;34m)\u001b[0m\u001b[0;34m\u001b[0m\u001b[0;34m\u001b[0m\u001b[0m\n",
            "\u001b[0;31mKeyboardInterrupt\u001b[0m: Interrupted by user"
          ]
        }
      ]
    },
    {
      "cell_type": "code",
      "source": [
        "import random\n",
        "\n",
        "answer = random.randint(1, 1000)\n",
        "while True:\n",
        "    userinput = int(input('숫자를 입력해주세요.'))\n",
        "    if userinput > answer:\n",
        "        print('Down')\n",
        "    elif userinput < answer:\n",
        "        print('Up')\n",
        "    else:\n",
        "        print('축하합니다! 맞추셨어요!')\n",
        "        break"
      ],
      "metadata": {
        "id": "p_BldXm42om3"
      },
      "execution_count": null,
      "outputs": []
    },
    {
      "cell_type": "code",
      "source": [
        "import random\n",
        "\n",
        "s = [1, 2, 3, 4, 5]\n",
        "random.shuffle(s)\n",
        "print(s)"
      ],
      "metadata": {
        "colab": {
          "base_uri": "https://localhost:8080/"
        },
        "id": "BQ6uESii4xMa",
        "outputId": "0819290f-baca-4419-f931-b2f91afdcad3"
      },
      "execution_count": 112,
      "outputs": [
        {
          "output_type": "stream",
          "name": "stdout",
          "text": [
            "[4, 3, 2, 1, 5]\n"
          ]
        }
      ]
    },
    {
      "cell_type": "code",
      "source": [
        "# 왈러스 연산자\n",
        "x = (n := 10) * 2 # n에 10을 할당하고 반환\n",
        "print(x)  # 출력: 20\n",
        "print(n)  # 출력: 10"
      ],
      "metadata": {
        "colab": {
          "base_uri": "https://localhost:8080/"
        },
        "id": "Xl6IcQjcllz7",
        "outputId": "2c35c290-6c8e-4749-e3d0-dfb7cea74f39"
      },
      "execution_count": 113,
      "outputs": [
        {
          "output_type": "stream",
          "name": "stdout",
          "text": [
            "20\n",
            "10\n"
          ]
        }
      ]
    },
    {
      "cell_type": "code",
      "source": [
        "import random\n",
        "\n",
        "while (x := random.randint(0, 10)) != 7:\n",
        "    print(x)"
      ],
      "metadata": {
        "id": "5E8zX2CV5hJG"
      },
      "execution_count": null,
      "outputs": []
    },
    {
      "cell_type": "markdown",
      "source": [
        "# break, continue, pass"
      ],
      "metadata": {
        "id": "osjzo6Oj55MK"
      }
    },
    {
      "cell_type": "code",
      "source": [
        "x = 0\n",
        "while x < 10:\n",
        "    print(x)\n",
        "    if x == 5:\n",
        "        break\n",
        "    x += 1"
      ],
      "metadata": {
        "colab": {
          "base_uri": "https://localhost:8080/"
        },
        "id": "tOmj9wQA5tel",
        "outputId": "7e1262ee-05e3-4992-8ecd-62fdc2c920d1"
      },
      "execution_count": 118,
      "outputs": [
        {
          "output_type": "stream",
          "name": "stdout",
          "text": [
            "0\n",
            "1\n",
            "2\n",
            "3\n",
            "4\n",
            "5\n"
          ]
        }
      ]
    },
    {
      "cell_type": "code",
      "source": [
        "i = 2\n",
        "j = 1\n",
        "while i < 10:\n",
        "    while j < 10:\n",
        "        print(f'{i} X {j} = {i*j}')\n",
        "        j += 1\n",
        "    i += 1 # while문은 중첩해서 사용할 때 초기화가 필요\n",
        "    j = 1"
      ],
      "metadata": {
        "id": "Eht8aChc6XDN"
      },
      "execution_count": null,
      "outputs": []
    },
    {
      "cell_type": "code",
      "source": [
        "i = 2\n",
        "while i < 10:\n",
        "    j = 1 # 별표 5개! while문은 중첩해서 사용할 때 초기화가 필요합니다!\n",
        "    while j < 10:\n",
        "        if j == 3:\n",
        "            break\n",
        "        print(f'{i} X {j} = {i*j}')\n",
        "        j += 1\n",
        "    i += 1"
      ],
      "metadata": {
        "colab": {
          "base_uri": "https://localhost:8080/"
        },
        "id": "_2Hg2RIO-KEk",
        "outputId": "9917550d-220d-4d0f-9a0c-bf6a4fd084f1"
      },
      "execution_count": 124,
      "outputs": [
        {
          "output_type": "stream",
          "name": "stdout",
          "text": [
            "2 X 1 = 2\n",
            "2 X 2 = 4\n",
            "3 X 1 = 3\n",
            "3 X 2 = 6\n",
            "4 X 1 = 4\n",
            "4 X 2 = 8\n",
            "5 X 1 = 5\n",
            "5 X 2 = 10\n",
            "6 X 1 = 6\n",
            "6 X 2 = 12\n",
            "7 X 1 = 7\n",
            "7 X 2 = 14\n",
            "8 X 1 = 8\n",
            "8 X 2 = 16\n",
            "9 X 1 = 9\n",
            "9 X 2 = 18\n"
          ]
        }
      ]
    },
    {
      "cell_type": "code",
      "source": [
        "try:\n",
        "    for i in range(2, 10):\n",
        "        for j in range(1, 10):\n",
        "            if i * j > 6:\n",
        "                raise StopIteration\n",
        "            print(f'{i} X {j} = {i*j}')\n",
        "except StopIteration:\n",
        "    print(\"Done\")"
      ],
      "metadata": {
        "colab": {
          "base_uri": "https://localhost:8080/"
        },
        "id": "hy9CqkFx9q4O",
        "outputId": "aaa119bb-4c35-4567-9843-8203d60bff04"
      },
      "execution_count": 122,
      "outputs": [
        {
          "output_type": "stream",
          "name": "stdout",
          "text": [
            "2 X 1 = 2\n",
            "2 X 2 = 4\n",
            "2 X 3 = 6\n",
            "Done\n"
          ]
        }
      ]
    },
    {
      "cell_type": "code",
      "source": [
        "# break은 바로 위 부모만 탈출\n",
        "# coutinue는 아래 코드를 실행하지 않고 다음 루프로 넘어감\n",
        "# pass는 없다고 생각하면 됨"
      ],
      "metadata": {
        "id": "49OoVtPr7l6f"
      },
      "execution_count": 125,
      "outputs": []
    },
    {
      "cell_type": "markdown",
      "source": [
        "# 반복문 else"
      ],
      "metadata": {
        "id": "6LhOhP5g-SIw"
      }
    },
    {
      "cell_type": "code",
      "source": [
        "for i in range(5):\n",
        "    print(i)\n",
        "else:\n",
        "    print('end')"
      ],
      "metadata": {
        "colab": {
          "base_uri": "https://localhost:8080/"
        },
        "id": "-nHBk8FM-O5o",
        "outputId": "b694d156-897d-44d1-e853-237ddf009abf"
      },
      "execution_count": 127,
      "outputs": [
        {
          "output_type": "stream",
          "name": "stdout",
          "text": [
            "0\n",
            "1\n",
            "2\n",
            "3\n",
            "4\n",
            "end\n"
          ]
        }
      ]
    },
    {
      "cell_type": "code",
      "source": [
        "x = 5\n",
        "while x < 10:\n",
        "    x += 1\n",
        "    print(x)\n",
        "else:\n",
        "    print('end')"
      ],
      "metadata": {
        "colab": {
          "base_uri": "https://localhost:8080/"
        },
        "id": "sNMfKM3H-5Uw",
        "outputId": "cfeef67e-4dec-4fff-e0c6-4f5721c0f28d"
      },
      "execution_count": 130,
      "outputs": [
        {
          "output_type": "stream",
          "name": "stdout",
          "text": [
            "6\n",
            "7\n",
            "8\n",
            "9\n",
            "10\n",
            "end\n"
          ]
        }
      ]
    },
    {
      "cell_type": "code",
      "source": [
        "x = 1\n",
        "while x < 10:\n",
        "    print(x)\n",
        "    if x == 3:\n",
        "        break\n",
        "    x += 1\n",
        "else:\n",
        "    print('end')"
      ],
      "metadata": {
        "colab": {
          "base_uri": "https://localhost:8080/"
        },
        "id": "a19_2vEx_sN-",
        "outputId": "0218a04f-3b89-4043-aedb-95df21ee0c54"
      },
      "execution_count": 1,
      "outputs": [
        {
          "output_type": "stream",
          "name": "stdout",
          "text": [
            "1\n",
            "2\n",
            "3\n"
          ]
        }
      ]
    },
    {
      "cell_type": "code",
      "source": [
        "data = [\n",
        "  {\n",
        "    \"_id\": \"fd7e9a0f-e77b-436a-B781-119b66033d49\",\n",
        "    \"index\": \"1\",\n",
        "    \"name\": \"나주헌\",\n",
        "    \"email\": \"user-tzctc1q@suspendisse.org\",\n",
        "    \"phone\": \"010-5547-5841\",\n",
        "    \"country\": \"과테말라\",\n",
        "    \"address\": \"광나루로 99-2\",\n",
        "    \"job\": \"유치원교사\",\n",
        "    \"gender\": \"여성\",\n",
        "    \"age\": \"43\"\n",
        "  },\n",
        "  {\n",
        "    \"_id\": \"8ec6eabb-160a-41e4-A3de-cd33aff0b281\",\n",
        "    \"index\": \"2\",\n",
        "    \"name\": \"엄루다\",\n",
        "    \"email\": \"user-1rz7xby@mi.org\",\n",
        "    \"phone\": \"010-3963-9373\",\n",
        "    \"country\": \"엘살바도르\",\n",
        "    \"address\": \"석촌호수로 37-1\",\n",
        "    \"job\": \"프로게이머\",\n",
        "    \"gender\": \"남성\",\n",
        "    \"age\": \"22\"\n",
        "  },\n",
        "  {\n",
        "    \"_id\": \"bcf804f7-0452-4c31-B9d1-20cc2d38490b\",\n",
        "    \"index\": \"3\",\n",
        "    \"name\": \"형유환\",\n",
        "    \"email\": \"user-ym96wth@have.net\",\n",
        "    \"phone\": \"010-6389-9499\",\n",
        "    \"country\": \"벨리즈\",\n",
        "    \"address\": \"잠실로 33-3\",\n",
        "    \"job\": \"아나운서\",\n",
        "    \"gender\": \"남성\",\n",
        "    \"age\": \"31\"\n",
        "  },\n",
        "  {\n",
        "    \"_id\": \"11006f0d-e88d-41fc-A288-caa2e67927e7\",\n",
        "    \"index\": \"4\",\n",
        "    \"name\": \"위도현\",\n",
        "    \"email\": \"user-tkxj6f5@diam.org\",\n",
        "    \"phone\": \"010-4246-4752\",\n",
        "    \"country\": \"바레인\",\n",
        "    \"address\": \"종로 99-8\",\n",
        "    \"job\": \"작곡가\",\n",
        "    \"gender\": \"여성\",\n",
        "    \"age\": \"42\"\n",
        "  },\n",
        "  {\n",
        "    \"_id\": \"b7421487-da52-4410-B696-17bab958a5d8\",\n",
        "    \"index\": \"5\",\n",
        "    \"name\": \"유성재\",\n",
        "    \"email\": \"user-bgxih63@Sed.net\",\n",
        "    \"phone\": \"010-6359-7592\",\n",
        "    \"country\": \"피지\",\n",
        "    \"address\": \"방학로 71-3\",\n",
        "    \"job\": \"연기자\",\n",
        "    \"gender\": \"여성\",\n",
        "    \"age\": \"48\"\n",
        "  }\n",
        "]"
      ],
      "metadata": {
        "id": "cGhsSAJT_3TX"
      },
      "execution_count": 1,
      "outputs": []
    },
    {
      "cell_type": "code",
      "source": [
        "# 문제 1번: 평균 나이를 출력해주세요.\n",
        "age_sum = 0\n",
        "count = 0\n",
        "for i in data:\n",
        "    age_sum += int(i['age'])\n",
        "    count += 1\n",
        "print(f'평균 나이는 {age_sum / count}세 입니다.')\n",
        "\n",
        "# 문제 2번: 남녀 성비를 출력해주세요.\n",
        "male = 0\n",
        "female = 0\n",
        "for i in data:\n",
        "    if i['gender'] == '남성':\n",
        "        male += 1\n",
        "    else:\n",
        "        female += 1\n",
        "print(f'남녀 성비는 {male} : {female} 입니다')"
      ],
      "metadata": {
        "colab": {
          "base_uri": "https://localhost:8080/"
        },
        "id": "VGQJICAPEU4W",
        "outputId": "f2b0921f-8f76-4b0e-8a89-741552f33377"
      },
      "execution_count": 3,
      "outputs": [
        {
          "output_type": "stream",
          "name": "stdout",
          "text": [
            "평균 나이는 37.2세 입니다.\n",
            "남녀 성비는 2 : 3 입니다\n"
          ]
        }
      ]
    },
    {
      "cell_type": "code",
      "source": [
        "# 나이\n",
        "# list(map(lambda x:x['age'], data))\n",
        "ages = map(lambda x:x['age'], data)\n",
        "ages = map(int, ages)\n",
        "# list(ages) # map은 한번 순회가 돌면 다시 순회가 불가합니다."
      ],
      "metadata": {
        "id": "VuHB7whMKeEJ"
      },
      "execution_count": 4,
      "outputs": []
    },
    {
      "cell_type": "code",
      "source": [
        "ages = list(ages)\n",
        "ages"
      ],
      "metadata": {
        "colab": {
          "base_uri": "https://localhost:8080/"
        },
        "id": "-EH1Y_eAKgxp",
        "outputId": "a18535c9-1925-4e38-eeae-98672ea918c9"
      },
      "execution_count": 5,
      "outputs": [
        {
          "output_type": "execute_result",
          "data": {
            "text/plain": [
              "[43, 22, 31, 42, 48]"
            ]
          },
          "metadata": {},
          "execution_count": 5
        }
      ]
    },
    {
      "cell_type": "code",
      "source": [
        "sum(ages) / len(ages)"
      ],
      "metadata": {
        "colab": {
          "base_uri": "https://localhost:8080/"
        },
        "id": "eKbrb3N8KmKw",
        "outputId": "873eaf2e-d1ea-4317-b531-4e251628b9fd"
      },
      "execution_count": 6,
      "outputs": [
        {
          "output_type": "execute_result",
          "data": {
            "text/plain": [
              "37.2"
            ]
          },
          "metadata": {},
          "execution_count": 6
        }
      ]
    },
    {
      "cell_type": "code",
      "source": [
        "# 성별\n",
        "gender = list(map(lambda x:x['gender'], data))\n",
        "total = len(gender)\n",
        "man = gender.count('남성')\n",
        "woman = total - man\n",
        "man/total * 100, woman/total * 100"
      ],
      "metadata": {
        "colab": {
          "base_uri": "https://localhost:8080/"
        },
        "id": "AeXea9JxK1X_",
        "outputId": "5b2fcd3c-757a-4f8e-8bc8-e7792f8e30f7"
      },
      "execution_count": 7,
      "outputs": [
        {
          "output_type": "execute_result",
          "data": {
            "text/plain": [
              "(40.0, 60.0)"
            ]
          },
          "metadata": {},
          "execution_count": 7
        }
      ]
    },
    {
      "cell_type": "markdown",
      "source": [
        "# 클래스"
      ],
      "metadata": {
        "id": "M_7xxx0zMBk2"
      }
    },
    {
      "cell_type": "code",
      "source": [
        "class Car: # 차의 설계 도면 또는 차 공장\n",
        "    max_speed = 300\n",
        "    max_people = 5\n",
        "    car_gear = ['P', 'D', 'R', 'N']\n",
        "\n",
        "    def start(self):\n",
        "        print('차가 출발합니다!')\n",
        "\n",
        "    def stop(self):\n",
        "        print('차가 멈췄습니다!')\n",
        "\n",
        "# 테슬라 공장에서 막 찍혀져 나온 자동차!\n",
        "# 3대! model x, y, s!\n",
        "modelx = Car()\n",
        "modely = Car()\n",
        "models = Car()\n",
        "\n",
        "# Car.max_speed # modelx의 속도를 보고 싶으면 modelx.max_speed를 찍어야 합니다.\n",
        "\n",
        "print(models.car_gear[1])\n",
        "models.start()\n",
        "models.stop()\n",
        "\n",
        "# int, float, str과 같은 새로운 Car라는 type을 만들고 있는 것"
      ],
      "metadata": {
        "colab": {
          "base_uri": "https://localhost:8080/"
        },
        "id": "z3S62NqfMDYt",
        "outputId": "83146c90-3112-4901-c216-1d6ea7b50888"
      },
      "execution_count": 14,
      "outputs": [
        {
          "output_type": "stream",
          "name": "stdout",
          "text": [
            "D\n",
            "차가 출발합니다!\n",
            "차가 멈췄습니다!\n"
          ]
        }
      ]
    },
    {
      "cell_type": "code",
      "source": [
        "print(type(models))\n",
        "print(dir(models))"
      ],
      "metadata": {
        "colab": {
          "base_uri": "https://localhost:8080/"
        },
        "id": "u9SczKsWOgUF",
        "outputId": "7fb458bb-9a79-4fbc-f570-1d2dfbd8c756"
      },
      "execution_count": 18,
      "outputs": [
        {
          "output_type": "stream",
          "name": "stdout",
          "text": [
            "<class '__main__.Car'>\n",
            "['__class__', '__delattr__', '__dict__', '__dir__', '__doc__', '__eq__', '__format__', '__ge__', '__getattribute__', '__gt__', '__hash__', '__init__', '__init_subclass__', '__le__', '__lt__', '__module__', '__ne__', '__new__', '__reduce__', '__reduce_ex__', '__repr__', '__setattr__', '__sizeof__', '__str__', '__subclasshook__', '__weakref__', 'car_gear', 'max_people', 'max_speed', 'start', 'stop']\n"
          ]
        }
      ]
    },
    {
      "cell_type": "code",
      "source": [
        "x = int(3)\n",
        "# 그럼 x는 무엇일까요?\n",
        "# int라는 class의 인스턴스"
      ],
      "metadata": {
        "id": "9jA6bhZBPGsh"
      },
      "execution_count": 19,
      "outputs": []
    },
    {
      "cell_type": "code",
      "source": [
        "# x = int(3) 여기서 넣었던 3이라는 값이 어떻게 처리되는지 확인\n",
        "class Car:\n",
        "    max_speed = 300\n",
        "    max_people = 5\n",
        "    car_gear = ['P', 'D', 'R', 'N']\n",
        "\n",
        "    def __init__(self, name):\n",
        "        self.name = name\n",
        "\n",
        "    def start(self):\n",
        "        print('차가 출발합니다!')\n",
        "\n",
        "    def stop(self):\n",
        "        print('차가 멈췄습니다!')\n",
        "\n",
        "modelx = Car('Tesla Model X') # x = int(3) 여기서 넣었던 3이 __init__ 매직메서드에서 처리!\n",
        "modelx.name"
      ],
      "metadata": {
        "colab": {
          "base_uri": "https://localhost:8080/",
          "height": 36
        },
        "id": "_4kMd42gPTlX",
        "outputId": "b0b8491e-0a8d-49c6-a9ef-19247bd03f0c"
      },
      "execution_count": 21,
      "outputs": [
        {
          "output_type": "execute_result",
          "data": {
            "text/plain": [
              "'Tesla Model X'"
            ],
            "application/vnd.google.colaboratory.intrinsic+json": {
              "type": "string"
            }
          },
          "metadata": {},
          "execution_count": 21
        }
      ]
    },
    {
      "cell_type": "code",
      "source": [
        "class Person:\n",
        "    name = 'jun' # 클래스 변수\n",
        "    def __init__(self, name):\n",
        "        self.name = name # 인스턴스 변수\n",
        "\n",
        "hojun = Person('hojun')\n",
        "hojun.name, Person.name"
      ],
      "metadata": {
        "id": "4pUENLJxV8bS"
      },
      "execution_count": null,
      "outputs": []
    },
    {
      "cell_type": "code",
      "source": [
        "class Person:\n",
        "    name = 'jun' # 클래스 변수\n",
        "    def __init__(self, name):\n",
        "        def hell():\n",
        "            print('hello')\n",
        "        self.name = name # 인스턴스 변수\n",
        "\n",
        "hojun = Person('hojun')\n",
        "hojun.name, Person.name"
      ],
      "metadata": {
        "colab": {
          "base_uri": "https://localhost:8080/"
        },
        "id": "7fD4iQh-XC4L",
        "outputId": "2079be20-a516-464a-f783-3b5a8f88fd88"
      },
      "execution_count": 23,
      "outputs": [
        {
          "output_type": "execute_result",
          "data": {
            "text/plain": [
              "('hojun', 'jun')"
            ]
          },
          "metadata": {},
          "execution_count": 23
        }
      ]
    },
    {
      "cell_type": "code",
      "source": [
        "# 실제 게임 코드\n",
        "class Character:\n",
        "    def __init__(self, name, role, hp, mp, power):\n",
        "        self.name = name\n",
        "        self.role = role\n",
        "        self.hp = hp\n",
        "        self.mp = mp\n",
        "        self.power = power\n",
        "\n",
        "    def attack(self):\n",
        "        print('공격!')\n",
        "\n",
        "    def defence(self):\n",
        "        print('방어!')\n",
        "\n",
        "hero_ironman = Character('아이언맨', '히어로', 100, 100, 100)\n",
        "villain_thanos = Character('타노스', '빌런', 100, 100, 200)"
      ],
      "metadata": {
        "id": "dj6vpAPzVZei"
      },
      "execution_count": 24,
      "outputs": []
    },
    {
      "cell_type": "code",
      "source": [
        "class Car:\n",
        "    max_speed = 300\n",
        "\n",
        "    def __init__(self, name):\n",
        "        self.name = name\n",
        "\n",
        "    def start(self):\n",
        "        print('차가 출발합니다!')\n",
        "\n",
        "modelx = Car('Tesla Model X')\n",
        "modelx.name"
      ],
      "metadata": {
        "colab": {
          "base_uri": "https://localhost:8080/",
          "height": 36
        },
        "id": "FFcij2RFXWey",
        "outputId": "7e7e658d-4dc8-4cc8-8697-4be2a308511a"
      },
      "execution_count": 26,
      "outputs": [
        {
          "output_type": "execute_result",
          "data": {
            "text/plain": [
              "'Tesla Model X'"
            ],
            "application/vnd.google.colaboratory.intrinsic+json": {
              "type": "string"
            }
          },
          "metadata": {},
          "execution_count": 26
        }
      ]
    },
    {
      "cell_type": "code",
      "source": [
        "modelx.hello = 'hello world'"
      ],
      "metadata": {
        "id": "4aL_8wtzXgiE"
      },
      "execution_count": 28,
      "outputs": []
    },
    {
      "cell_type": "code",
      "source": [
        "modelx.hello"
      ],
      "metadata": {
        "colab": {
          "base_uri": "https://localhost:8080/",
          "height": 36
        },
        "id": "4GEOeF3BXjdE",
        "outputId": "b16219e5-650e-4f1d-8cd9-955faae40e06"
      },
      "execution_count": 30,
      "outputs": [
        {
          "output_type": "execute_result",
          "data": {
            "text/plain": [
              "'hello world'"
            ],
            "application/vnd.google.colaboratory.intrinsic+json": {
              "type": "string"
            }
          },
          "metadata": {},
          "execution_count": 30
        }
      ]
    },
    {
      "cell_type": "code",
      "source": [
        "def hello():\n",
        "    print('hello wolrd')\n",
        "\n",
        "print(type(hello))"
      ],
      "metadata": {
        "colab": {
          "base_uri": "https://localhost:8080/"
        },
        "id": "-wiN2vHgXk94",
        "outputId": "39299664-d5cb-456b-b1d9-220d34ad8690"
      },
      "execution_count": 33,
      "outputs": [
        {
          "output_type": "stream",
          "name": "stdout",
          "text": [
            "<class 'function'>\n"
          ]
        }
      ]
    },
    {
      "cell_type": "code",
      "source": [
        "hello.hi = 'hi, world'"
      ],
      "metadata": {
        "id": "ciCb3pFaXuHn"
      },
      "execution_count": 35,
      "outputs": []
    },
    {
      "cell_type": "code",
      "source": [
        "hello.hi"
      ],
      "metadata": {
        "colab": {
          "base_uri": "https://localhost:8080/",
          "height": 36
        },
        "id": "fXfQmVaHXyTZ",
        "outputId": "42af3638-7ab1-4eff-83d5-6ec0d2d4730c"
      },
      "execution_count": 38,
      "outputs": [
        {
          "output_type": "execute_result",
          "data": {
            "text/plain": [
              "'hi, world'"
            ],
            "application/vnd.google.colaboratory.intrinsic+json": {
              "type": "string"
            }
          },
          "metadata": {},
          "execution_count": 38
        }
      ]
    },
    {
      "cell_type": "code",
      "source": [
        "s = 10 # int str list dict 다 안됨\n",
        "s.hi = 'hi, world'\n",
        "s.hi"
      ],
      "metadata": {
        "colab": {
          "base_uri": "https://localhost:8080/",
          "height": 216
        },
        "id": "oUncF0R2X-qy",
        "outputId": "7b95b4fe-721c-4b9a-c8b2-6ebe5be188bb"
      },
      "execution_count": 40,
      "outputs": [
        {
          "output_type": "error",
          "ename": "AttributeError",
          "evalue": "ignored",
          "traceback": [
            "\u001b[0;31m---------------------------------------------------------------------------\u001b[0m",
            "\u001b[0;31mAttributeError\u001b[0m                            Traceback (most recent call last)",
            "\u001b[0;32m<ipython-input-40-bc7e8af1db94>\u001b[0m in \u001b[0;36m<cell line: 2>\u001b[0;34m()\u001b[0m\n\u001b[1;32m      1\u001b[0m \u001b[0ms\u001b[0m \u001b[0;34m=\u001b[0m \u001b[0;36m10\u001b[0m\u001b[0;34m\u001b[0m\u001b[0;34m\u001b[0m\u001b[0m\n\u001b[0;32m----> 2\u001b[0;31m \u001b[0ms\u001b[0m\u001b[0;34m.\u001b[0m\u001b[0mhi\u001b[0m \u001b[0;34m=\u001b[0m \u001b[0;34m'hi, world'\u001b[0m\u001b[0;34m\u001b[0m\u001b[0;34m\u001b[0m\u001b[0m\n\u001b[0m\u001b[1;32m      3\u001b[0m \u001b[0ms\u001b[0m\u001b[0;34m.\u001b[0m\u001b[0mhi\u001b[0m\u001b[0;34m\u001b[0m\u001b[0;34m\u001b[0m\u001b[0m\n",
            "\u001b[0;31mAttributeError\u001b[0m: 'int' object has no attribute 'hi'"
          ]
        }
      ]
    },
    {
      "cell_type": "markdown",
      "source": [
        "# 매직 메서드 (던더 메서드)"
      ],
      "metadata": {
        "id": "8eVgdMTRY33K"
      }
    },
    {
      "cell_type": "code",
      "source": [
        "class Point:\n",
        "\n",
        "    def __init__(self, x, y):\n",
        "        self.x = x\n",
        "        self.y = y\n",
        "\n",
        "    def __add__(self, other):\n",
        "        return Point((self.x + other.x), (self.y + other.y))\n",
        "\n",
        "    def distance(self, other):\n",
        "        dx = self.x - other.x\n",
        "        dy = self.y - other.y\n",
        "        return (dx**2 + dy**2)**0.5\n",
        "\n",
        "dot1 = Point(10, 20)\n",
        "dot2 = Point(20, 30)\n",
        "\n",
        "dot3 = dot1 + dot2\n",
        "print(dot3.x, dot3.y)\n",
        "dot3.distance(dot1)"
      ],
      "metadata": {
        "colab": {
          "base_uri": "https://localhost:8080/"
        },
        "id": "qm0fN1WcYCSF",
        "outputId": "4fd8c1d8-8e3c-49bd-8ded-04f203186b5d"
      },
      "execution_count": 49,
      "outputs": [
        {
          "output_type": "stream",
          "name": "stdout",
          "text": [
            "30 50\n"
          ]
        },
        {
          "output_type": "execute_result",
          "data": {
            "text/plain": [
              "36.05551275463989"
            ]
          },
          "metadata": {},
          "execution_count": 49
        }
      ]
    },
    {
      "cell_type": "code",
      "source": [
        "class Matrix:\n",
        "\n",
        "    def __init__(self, value):\n",
        "        self.value = value\n",
        "\n",
        "    def __add__(self, other):\n",
        "        result = []\n",
        "        for i in range(len(self.value)):\n",
        "            result.append(self.value[i] + other.value[i])\n",
        "        return result\n",
        "\n",
        "    def __mul__(self, other):\n",
        "        if isinstance(other, int):\n",
        "            return [i*other for i in self.value]\n",
        "        raise TypeError('int형 외 곱을 허락하지 않습니다.')\n",
        "\n",
        "m1 = Matrix([10, 20, 30])\n",
        "m2 = Matrix([20, 30, 40])\n",
        "\n",
        "m1 * [1, 2]"
      ],
      "metadata": {
        "colab": {
          "base_uri": "https://localhost:8080/",
          "height": 341
        },
        "id": "PI-J7fUsbWe2",
        "outputId": "79497848-886e-451c-c299-c171fe4f51a8"
      },
      "execution_count": 63,
      "outputs": [
        {
          "output_type": "error",
          "ename": "TypeError",
          "evalue": "ignored",
          "traceback": [
            "\u001b[0;31m---------------------------------------------------------------------------\u001b[0m",
            "\u001b[0;31mTypeError\u001b[0m                                 Traceback (most recent call last)",
            "\u001b[0;32m<ipython-input-63-9a550b8a7050>\u001b[0m in \u001b[0;36m<cell line: 20>\u001b[0;34m()\u001b[0m\n\u001b[1;32m     18\u001b[0m \u001b[0mm2\u001b[0m \u001b[0;34m=\u001b[0m \u001b[0mMatrix\u001b[0m\u001b[0;34m(\u001b[0m\u001b[0;34m[\u001b[0m\u001b[0;36m20\u001b[0m\u001b[0;34m,\u001b[0m \u001b[0;36m30\u001b[0m\u001b[0;34m,\u001b[0m \u001b[0;36m40\u001b[0m\u001b[0;34m]\u001b[0m\u001b[0;34m)\u001b[0m\u001b[0;34m\u001b[0m\u001b[0;34m\u001b[0m\u001b[0m\n\u001b[1;32m     19\u001b[0m \u001b[0;34m\u001b[0m\u001b[0m\n\u001b[0;32m---> 20\u001b[0;31m \u001b[0mm1\u001b[0m \u001b[0;34m*\u001b[0m \u001b[0;34m[\u001b[0m\u001b[0;36m1\u001b[0m\u001b[0;34m,\u001b[0m \u001b[0;36m2\u001b[0m\u001b[0;34m]\u001b[0m\u001b[0;34m\u001b[0m\u001b[0;34m\u001b[0m\u001b[0m\n\u001b[0m",
            "\u001b[0;32m<ipython-input-63-9a550b8a7050>\u001b[0m in \u001b[0;36m__mul__\u001b[0;34m(self, other)\u001b[0m\n\u001b[1;32m     13\u001b[0m         \u001b[0;32mif\u001b[0m \u001b[0misinstance\u001b[0m\u001b[0;34m(\u001b[0m\u001b[0mother\u001b[0m\u001b[0;34m,\u001b[0m \u001b[0mint\u001b[0m\u001b[0;34m)\u001b[0m\u001b[0;34m:\u001b[0m\u001b[0;34m\u001b[0m\u001b[0;34m\u001b[0m\u001b[0m\n\u001b[1;32m     14\u001b[0m             \u001b[0;32mreturn\u001b[0m \u001b[0;34m[\u001b[0m\u001b[0mi\u001b[0m\u001b[0;34m*\u001b[0m\u001b[0mother\u001b[0m \u001b[0;32mfor\u001b[0m \u001b[0mi\u001b[0m \u001b[0;32min\u001b[0m \u001b[0mself\u001b[0m\u001b[0;34m.\u001b[0m\u001b[0mvalue\u001b[0m\u001b[0;34m]\u001b[0m\u001b[0;34m\u001b[0m\u001b[0;34m\u001b[0m\u001b[0m\n\u001b[0;32m---> 15\u001b[0;31m         \u001b[0;32mraise\u001b[0m \u001b[0mTypeError\u001b[0m\u001b[0;34m(\u001b[0m\u001b[0;34m'int형 외 곱을 허락하지 않습니다.'\u001b[0m\u001b[0;34m)\u001b[0m\u001b[0;34m\u001b[0m\u001b[0;34m\u001b[0m\u001b[0m\n\u001b[0m\u001b[1;32m     16\u001b[0m \u001b[0;34m\u001b[0m\u001b[0m\n\u001b[1;32m     17\u001b[0m \u001b[0mm1\u001b[0m \u001b[0;34m=\u001b[0m \u001b[0mMatrix\u001b[0m\u001b[0;34m(\u001b[0m\u001b[0;34m[\u001b[0m\u001b[0;36m10\u001b[0m\u001b[0;34m,\u001b[0m \u001b[0;36m20\u001b[0m\u001b[0;34m,\u001b[0m \u001b[0;36m30\u001b[0m\u001b[0;34m]\u001b[0m\u001b[0;34m)\u001b[0m\u001b[0;34m\u001b[0m\u001b[0;34m\u001b[0m\u001b[0m\n",
            "\u001b[0;31mTypeError\u001b[0m: int형 외 곱을 허락하지 않습니다."
          ]
        }
      ]
    },
    {
      "cell_type": "code",
      "source": [],
      "metadata": {
        "id": "TkxIdB5IcTH1"
      },
      "execution_count": null,
      "outputs": []
    }
  ]
}