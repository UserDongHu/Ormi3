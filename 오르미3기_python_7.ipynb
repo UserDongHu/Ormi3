{
  "nbformat": 4,
  "nbformat_minor": 0,
  "metadata": {
    "colab": {
      "provenance": [],
      "toc_visible": true,
      "authorship_tag": "ABX9TyNmkq2mQGyTtUH5xASHCgbz",
      "include_colab_link": true
    },
    "kernelspec": {
      "name": "python3",
      "display_name": "Python 3"
    },
    "language_info": {
      "name": "python"
    }
  },
  "cells": [
    {
      "cell_type": "markdown",
      "metadata": {
        "id": "view-in-github",
        "colab_type": "text"
      },
      "source": [
        "<a href=\"https://colab.research.google.com/github/UserDongHu/Ormi3/blob/main/%EC%98%A4%EB%A5%B4%EB%AF%B83%EA%B8%B0_python_7.ipynb\" target=\"_parent\"><img src=\"https://colab.research.google.com/assets/colab-badge.svg\" alt=\"Open In Colab\"/></a>"
      ]
    },
    {
      "cell_type": "code",
      "execution_count": 2,
      "metadata": {
        "id": "0JjIvR3dX-nL"
      },
      "outputs": [],
      "source": [
        "import requests\n",
        "import bs4"
      ]
    },
    {
      "cell_type": "code",
      "source": [
        "html = requests.get('https://www.paullab.co.kr/stock.html')"
      ],
      "metadata": {
        "id": "C2sDJ1YxgNUr"
      },
      "execution_count": 5,
      "outputs": []
    },
    {
      "cell_type": "code",
      "source": [
        "html"
      ],
      "metadata": {
        "colab": {
          "base_uri": "https://localhost:8080/"
        },
        "id": "caawDGIfgZg-",
        "outputId": "f915082a-60cd-44fb-d35c-590ccaa88677"
      },
      "execution_count": 6,
      "outputs": [
        {
          "output_type": "execute_result",
          "data": {
            "text/plain": [
              "<Response [200]>"
            ]
          },
          "metadata": {},
          "execution_count": 6
        }
      ]
    },
    {
      "cell_type": "code",
      "source": [
        "print(type(html))\n",
        "print(dir(html))\n",
        "print(html.encoding)\n",
        "# html.encoding = 'utf-8' 한글이 깨져나오면 이 코드를 실행\n",
        "print(html.headers)\n",
        "print(html.raw)\n",
        "print(html.text)"
      ],
      "metadata": {
        "id": "_vb6W5g2gu0N"
      },
      "execution_count": null,
      "outputs": []
    },
    {
      "cell_type": "code",
      "source": [
        "params = {'pa1': 'val1', 'pa2': 'value2'}\n",
        "response = requests.get('http://www.paullab.co.kr', params=params)\n",
        "print(response.text)\n",
        "print(response.url)"
      ],
      "metadata": {
        "id": "5zmVz0w5g09g"
      },
      "execution_count": null,
      "outputs": []
    },
    {
      "cell_type": "code",
      "source": [
        "import requests\n",
        "from bs4 import BeautifulSoup\n",
        "\n",
        "response = requests.get('http://www.paullab.co.kr/stock.html')\n",
        "response.encoding = 'utf-8'\n",
        "html = response.text\n",
        "\n",
        "soup = BeautifulSoup(html, 'html.parser') # 원하는 문자열로 잘라줌"
      ],
      "metadata": {
        "id": "lhIn82pdkFGb"
      },
      "execution_count": 22,
      "outputs": []
    },
    {
      "cell_type": "code",
      "source": [
        "# print(soup.prettify()) 예쁘게 html 문서형식으로 print하기\n",
        "# soup.head\n",
        "# soup.title"
      ],
      "metadata": {
        "id": "CTow-x8slNnW"
      },
      "execution_count": 27,
      "outputs": []
    },
    {
      "cell_type": "code",
      "source": [
        "soup.select('#update')"
      ],
      "metadata": {
        "colab": {
          "base_uri": "https://localhost:8080/"
        },
        "id": "5tX8Wa5XmY5f",
        "outputId": "2d86134e-93dc-4a74-b6cc-a9308f53514c"
      },
      "execution_count": 29,
      "outputs": [
        {
          "output_type": "execute_result",
          "data": {
            "text/plain": [
              "[<span id=\"update\">update : 20.12.30 / 해외 크롤링이 Block되어 있으므로 크롤링이 안되시는 분은 이 URL(http://paullab.synology.me/stock.html)을 사용하세요.</span>]"
            ]
          },
          "metadata": {},
          "execution_count": 29
        }
      ]
    },
    {
      "cell_type": "code",
      "source": [
        "soup.select('#_market_sum')\n",
        "soup.select('#_market_sum')[0].text"
      ],
      "metadata": {
        "colab": {
          "base_uri": "https://localhost:8080/",
          "height": 36
        },
        "id": "UufpKpdjmmkz",
        "outputId": "b02313bb-8359-4bfa-c227-0c25e3b7e948"
      },
      "execution_count": 34,
      "outputs": [
        {
          "output_type": "execute_result",
          "data": {
            "text/plain": [
              "'349조 2,323'"
            ],
            "application/vnd.google.colaboratory.intrinsic+json": {
              "type": "string"
            }
          },
          "metadata": {},
          "execution_count": 34
        }
      ]
    },
    {
      "cell_type": "code",
      "source": [
        "soup.select('.table-hover>tbody>tr')[1].select('td')[6].text"
      ],
      "metadata": {
        "colab": {
          "base_uri": "https://localhost:8080/",
          "height": 36
        },
        "id": "UmFLgcX8nL50",
        "outputId": "46e99780-f250-4a8a-a47b-c0021f0366f7"
      },
      "execution_count": 46,
      "outputs": [
        {
          "output_type": "execute_result",
          "data": {
            "text/plain": [
              "'398,421'"
            ],
            "application/vnd.google.colaboratory.intrinsic+json": {
              "type": "string"
            }
          },
          "metadata": {},
          "execution_count": 46
        }
      ]
    }
  ]
}