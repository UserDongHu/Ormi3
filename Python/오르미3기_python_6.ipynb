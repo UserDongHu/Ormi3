{
  "nbformat": 4,
  "nbformat_minor": 0,
  "metadata": {
    "colab": {
      "provenance": [],
      "toc_visible": true,
      "authorship_tag": "ABX9TyMKHpF1BGi2FWojch46wtwY",
      "include_colab_link": true
    },
    "kernelspec": {
      "name": "python3",
      "display_name": "Python 3"
    },
    "language_info": {
      "name": "python"
    }
  },
  "cells": [
    {
      "cell_type": "markdown",
      "metadata": {
        "id": "view-in-github",
        "colab_type": "text"
      },
      "source": [
        "<a href=\"https://colab.research.google.com/github/UserDongHu/Ormi3/blob/main/%EC%98%A4%EB%A5%B4%EB%AF%B83%EA%B8%B0_python_6.ipynb\" target=\"_parent\"><img src=\"https://colab.research.google.com/assets/colab-badge.svg\" alt=\"Open In Colab\"/></a>"
      ]
    },
    {
      "cell_type": "markdown",
      "source": [
        "# 일급함수와 고차함수"
      ],
      "metadata": {
        "id": "3tp9gaGo6xbz"
      }
    },
    {
      "cell_type": "code",
      "source": [
        "licat = print\n",
        "licat('hello world')"
      ],
      "metadata": {
        "colab": {
          "base_uri": "https://localhost:8080/"
        },
        "id": "bUUdhplI6uHl",
        "outputId": "06581a82-d7f9-430b-ee5b-bc0c34441553"
      },
      "execution_count": 1,
      "outputs": [
        {
          "output_type": "stream",
          "name": "stdout",
          "text": [
            "hello world\n"
          ]
        }
      ]
    },
    {
      "cell_type": "code",
      "source": [
        "class Cat:\n",
        "    def sound(self):\n",
        "        print('냐옹')\n",
        "\n",
        "licat = Cat()\n",
        "licat_sound = licat.sound\n",
        "licat_sound() # licat.sound()"
      ],
      "metadata": {
        "colab": {
          "base_uri": "https://localhost:8080/"
        },
        "id": "SnmwRH-36z9U",
        "outputId": "1d5e1228-dce3-452e-d0b7-3a3521446e0d"
      },
      "execution_count": 5,
      "outputs": [
        {
          "output_type": "stream",
          "name": "stdout",
          "text": [
            "냐옹\n"
          ]
        }
      ]
    },
    {
      "cell_type": "code",
      "source": [
        "l = [10, 20, 30]\n",
        "la = l.append\n",
        "la(40)\n",
        "print(l)"
      ],
      "metadata": {
        "colab": {
          "base_uri": "https://localhost:8080/"
        },
        "id": "UTlfspOk7QNw",
        "outputId": "87899657-b4f9-425c-e3d7-66487095d7c4"
      },
      "execution_count": 7,
      "outputs": [
        {
          "output_type": "stream",
          "name": "stdout",
          "text": [
            "[10, 20, 30, 40]\n"
          ]
        }
      ]
    },
    {
      "cell_type": "code",
      "source": [
        "def add(x, y):\n",
        "    return x + y\n",
        "\n",
        "def sub(x, y):\n",
        "    return x - y\n",
        "\n",
        "funcs = [add, sub]\n",
        "print(funcs[0](2, 3))"
      ],
      "metadata": {
        "colab": {
          "base_uri": "https://localhost:8080/"
        },
        "id": "npvgRh8w8xVB",
        "outputId": "4a6555b2-47d9-4f9b-f31a-d130d55b791c"
      },
      "execution_count": 10,
      "outputs": [
        {
          "output_type": "stream",
          "name": "stdout",
          "text": [
            "5\n"
          ]
        }
      ]
    },
    {
      "cell_type": "code",
      "source": [
        "class Operator:\n",
        "    def add(self, x, y):\n",
        "        return x + y\n",
        "\n",
        "    def sub(self, x, y):\n",
        "        return x - y\n",
        "\n",
        "    def mul(self, x, y):\n",
        "        return x * y\n",
        "\n",
        "    def div(self, x, y):\n",
        "        return x / y\n",
        "\n",
        "    def _and(self, x, y):\n",
        "        return x and y\n",
        "\n",
        "    def _or(self, x, y):\n",
        "        return x or y\n",
        "\n",
        "op = Operator()\n",
        "logical_op = {\n",
        "    'add': op.add,\n",
        "    'sub': op.sub,\n",
        "    'mul': op.mul,\n",
        "    'div': op.div,\n",
        "}\n",
        "arithmetic_op = {\n",
        "    '_and': op._and,\n",
        "    '_or': op._or,\n",
        "}\n",
        "\n",
        "print(logical_op['add'](2, 3))\n",
        "print(op.add(2, 3))\n",
        "\n",
        "for _, f in logical_op.items():\n",
        "    print(f(2, 3))"
      ],
      "metadata": {
        "colab": {
          "base_uri": "https://localhost:8080/"
        },
        "id": "tyokdIzT81Qd",
        "outputId": "46d33a42-2dae-42ae-91f1-f968a658a5f1"
      },
      "execution_count": 14,
      "outputs": [
        {
          "output_type": "stream",
          "name": "stdout",
          "text": [
            "5\n",
            "5\n",
            "5\n",
            "-1\n",
            "6\n",
            "0.6666666666666666\n"
          ]
        }
      ]
    },
    {
      "cell_type": "code",
      "source": [
        "# 함수를 인자로\n",
        "def licat_sound(p):\n",
        "    x = 10\n",
        "    y = 10\n",
        "    z = 10\n",
        "    p('냐옹')\n",
        "\n",
        "licat_sound(print) # licat_sound안에 bulit-in function인 print를 넣음"
      ],
      "metadata": {
        "colab": {
          "base_uri": "https://localhost:8080/"
        },
        "id": "_-HHAauF9hQS",
        "outputId": "df1ca147-56f2-4aa7-afa5-5066a4ea48da"
      },
      "execution_count": 16,
      "outputs": [
        {
          "output_type": "stream",
          "name": "stdout",
          "text": [
            "냐옹\n"
          ]
        }
      ]
    },
    {
      "cell_type": "code",
      "source": [
        "def square(x):\n",
        "    return x ** 2\n",
        "\n",
        "def width_circle(r, s):\n",
        "    return s(r) * 3.14\n",
        "\n",
        "print(width_circle(10, square))"
      ],
      "metadata": {
        "colab": {
          "base_uri": "https://localhost:8080/"
        },
        "id": "2m375XZ-_wTU",
        "outputId": "d07e7ced-56f4-46d7-d369-4158b287b2ae"
      },
      "execution_count": 27,
      "outputs": [
        {
          "output_type": "stream",
          "name": "stdout",
          "text": [
            "314.0\n"
          ]
        }
      ]
    },
    {
      "cell_type": "code",
      "source": [
        "# 함수를 결과로 반환!\n",
        "def create_adder(x):\n",
        "    def adder(y):\n",
        "        return x + y\n",
        "    return adder\n",
        "\n",
        "add_5 = create_adder(5)\n",
        "print(add_5(10))  # 출력: 15"
      ],
      "metadata": {
        "colab": {
          "base_uri": "https://localhost:8080/"
        },
        "id": "fHsFlV2YDdj3",
        "outputId": "1e9557ce-6efc-46df-d0a8-dc587da964bf"
      },
      "execution_count": 28,
      "outputs": [
        {
          "output_type": "stream",
          "name": "stdout",
          "text": [
            "15\n"
          ]
        }
      ]
    },
    {
      "cell_type": "code",
      "source": [
        "def create_exponent(x):\n",
        "    def exponent(y):\n",
        "        return y ** x\n",
        "    return exponent\n",
        "\n",
        "exponent_2 = create_exponent(2) # exponent\n",
        "exponent_3 = create_exponent(3) # exponent\n",
        "print(exponent_2(10)) # 출력: 100\n",
        "# print(exponent(10)) => return y ** 2(이 숫자는 상수취급되어 변경시킬 수 없게 됩니다.)\n",
        "print(exponent_3(10)) # 출력: 1000\n",
        "# print(exponent(10)) => return y ** 3(이 숫자는 상수취급되어 변경시킬 수 없게 됩니다.)"
      ],
      "metadata": {
        "colab": {
          "base_uri": "https://localhost:8080/"
        },
        "id": "FGXm861rDmoV",
        "outputId": "68cb5a8e-d227-4b45-8103-9fd631315d42"
      },
      "execution_count": 31,
      "outputs": [
        {
          "output_type": "stream",
          "name": "stdout",
          "text": [
            "9\n",
            "27\n"
          ]
        }
      ]
    },
    {
      "cell_type": "code",
      "source": [
        "def f():\n",
        "    l = [10, 20, 30]\n",
        "    print(id(l))\n",
        "    return l\n",
        "\n",
        "sample = f()\n",
        "id(sample) # 주소가 같다. 참조가 되어있으면 휘발되지 않는다."
      ],
      "metadata": {
        "colab": {
          "base_uri": "https://localhost:8080/"
        },
        "id": "zXyVnaz3HKeV",
        "outputId": "20783b21-f7b5-4ef6-98da-78b15e859ab5"
      },
      "execution_count": 49,
      "outputs": [
        {
          "output_type": "stream",
          "name": "stdout",
          "text": [
            "136710745927232\n"
          ]
        },
        {
          "output_type": "execute_result",
          "data": {
            "text/plain": [
              "136710745927232"
            ]
          },
          "metadata": {},
          "execution_count": 49
        }
      ]
    },
    {
      "cell_type": "code",
      "source": [
        "import sys\n",
        "\n",
        "def ff():\n",
        "    l = [20, 30, 40]\n",
        "    return l\n",
        "\n",
        "sample_ = ff()\n",
        "sys.getrefcount(sample_) # win, mac, linux 출력 값이 다름\n",
        "# 중요한 포인트는 getrefcount의 작동 원리가 아니라\n",
        "# 함수가 종료되어도 참조하는 변수가 있다면 값이 사라지지 않는다는 것"
      ],
      "metadata": {
        "id": "vcl5yQKwVTzC"
      },
      "execution_count": null,
      "outputs": []
    },
    {
      "cell_type": "code",
      "source": [
        "# 일급 함수 : 함수를 일급객체(값, 주소)로 취급\n",
        "# 고차 함수 : 함수를 아규먼트로 받거나 return 값으로 반환할 수 있는 함수"
      ],
      "metadata": {
        "id": "mdesbOUPKols"
      },
      "execution_count": null,
      "outputs": []
    },
    {
      "cell_type": "markdown",
      "source": [
        "# 클로저"
      ],
      "metadata": {
        "id": "yqkCvsKCLAnL"
      }
    },
    {
      "cell_type": "code",
      "source": [
        "# 클로저 : 휘발되었어야 하는 메모리 영역에 접근하여 함수나 데이터를 활용하는 일"
      ],
      "metadata": {
        "id": "lcFq5BxaLIP_"
      },
      "execution_count": null,
      "outputs": []
    },
    {
      "cell_type": "code",
      "source": [
        "# 클로저가 아닌경우. 고차 함수 이며 일반적인 클로저의 형태는 아님\n",
        "# 보통 클로저는 outer_function에 은닉할 값을 매개변수로 값을 넘겨줌\n",
        "def outer_function():\n",
        "    def inner_function():\n",
        "        return 100+100\n",
        "    return inner_function\n",
        "\n",
        "# 클로저인 경우\n",
        "def outer_function(x):\n",
        "    def inner_function(y):\n",
        "        return x + y\n",
        "    return inner_function\n",
        "\n",
        "inner = outer_function(100)\n",
        "inner(200) # inner 입장에서 100을 변경할 수 있는 방법이 없습니다."
      ],
      "metadata": {
        "id": "cvpcOzQqLB2V"
      },
      "execution_count": null,
      "outputs": []
    },
    {
      "cell_type": "markdown",
      "source": [
        "# 데코레이터"
      ],
      "metadata": {
        "id": "6NGs66hDNjL_"
      }
    },
    {
      "cell_type": "code",
      "source": [
        "# 이런 식으로 사용\n",
        "# login한 사용자만 게시판 읽도록\n",
        "# Django와 같은 프레임워크에서 대부분의 데코레이터는 미리 구현되어 있음\n",
        "\n",
        "def login(arg):\n",
        "    pass\n",
        "\n",
        "@login\n",
        "def 게시판읽기():\n",
        "    pass"
      ],
      "metadata": {
        "id": "EHC5BObhZJb3"
      },
      "execution_count": null,
      "outputs": []
    },
    {
      "cell_type": "code",
      "source": [
        "def simple_decorator(function):\n",
        "    def wrapper():\n",
        "        print(\"Before the function call\")\n",
        "        function()\n",
        "        print(\"After the function call\")\n",
        "    return wrapper\n",
        "\n",
        "@simple_decorator\n",
        "def hello():\n",
        "    print(\"Hello, World!\")\n",
        "\n",
        "hello() # 이렇게만 하면 simple_decorator에 hello를 아규먼트로 넣어주고 실행하겠다.\n",
        "# 데코레이터가 없는 상태에서는 simple_decorator(hello)() 와 같습니다."
      ],
      "metadata": {
        "colab": {
          "base_uri": "https://localhost:8080/"
        },
        "id": "hysD_Hi_NkYz",
        "outputId": "af98b88d-5c2e-4e1d-da35-821faf5439ce"
      },
      "execution_count": 37,
      "outputs": [
        {
          "output_type": "stream",
          "name": "stdout",
          "text": [
            "Before the function call\n",
            "Hello, World!\n",
            "After the function call\n"
          ]
        }
      ]
    },
    {
      "cell_type": "code",
      "source": [
        "def simple_decorator(function):\n",
        "    def wrapper():\n",
        "        print(\"Before the function call\")\n",
        "        function()\n",
        "        print(\"After the function call\")\n",
        "    return wrapper\n",
        "\n",
        "def hello():\n",
        "    print(\"Hello, World!\")\n",
        "\n",
        "simple_decorator(hello)()\n",
        "# simple_decorator(hello) => wrapper\n",
        "# simple_decorator(hello)() => wrapper()"
      ],
      "metadata": {
        "colab": {
          "base_uri": "https://localhost:8080/"
        },
        "id": "vi7HHgPqOY3r",
        "outputId": "429d555a-7dfb-49a7-c9ab-110abe73f51c"
      },
      "execution_count": 44,
      "outputs": [
        {
          "output_type": "stream",
          "name": "stdout",
          "text": [
            "Before the function call\n",
            "Hello, World!\n",
            "After the function call\n"
          ]
        }
      ]
    },
    {
      "cell_type": "code",
      "source": [
        "# step 1\n",
        "def data_Preprocessing(function):\n",
        "    def wrapper():\n",
        "        pass\n",
        "    return wrapper\n",
        "\n",
        "@data_Preprocessing\n",
        "def mean(data):\n",
        "    return sum(data)/len(data)\n",
        "\n",
        "mean([1, 2, '3', 4, '5']) # TypeError 발생"
      ],
      "metadata": {
        "colab": {
          "base_uri": "https://localhost:8080/",
          "height": 216
        },
        "id": "-3TkTsM6Pw7f",
        "outputId": "c744bb03-a8f1-4f32-8a46-cebf786d5d46"
      },
      "execution_count": 45,
      "outputs": [
        {
          "output_type": "error",
          "ename": "TypeError",
          "evalue": "ignored",
          "traceback": [
            "\u001b[0;31m---------------------------------------------------------------------------\u001b[0m",
            "\u001b[0;31mTypeError\u001b[0m                                 Traceback (most recent call last)",
            "\u001b[0;32m<ipython-input-45-b45775b9a43e>\u001b[0m in \u001b[0;36m<cell line: 11>\u001b[0;34m()\u001b[0m\n\u001b[1;32m      9\u001b[0m     \u001b[0;32mreturn\u001b[0m \u001b[0msum\u001b[0m\u001b[0;34m(\u001b[0m\u001b[0mdata\u001b[0m\u001b[0;34m)\u001b[0m\u001b[0;34m/\u001b[0m\u001b[0mlen\u001b[0m\u001b[0;34m(\u001b[0m\u001b[0mdata\u001b[0m\u001b[0;34m)\u001b[0m\u001b[0;34m\u001b[0m\u001b[0;34m\u001b[0m\u001b[0m\n\u001b[1;32m     10\u001b[0m \u001b[0;34m\u001b[0m\u001b[0m\n\u001b[0;32m---> 11\u001b[0;31m \u001b[0mmean\u001b[0m\u001b[0;34m(\u001b[0m\u001b[0;34m[\u001b[0m\u001b[0;36m1\u001b[0m\u001b[0;34m,\u001b[0m \u001b[0;36m2\u001b[0m\u001b[0;34m,\u001b[0m \u001b[0;34m'3'\u001b[0m\u001b[0;34m,\u001b[0m \u001b[0;36m4\u001b[0m\u001b[0;34m,\u001b[0m \u001b[0;34m'5'\u001b[0m\u001b[0;34m]\u001b[0m\u001b[0;34m)\u001b[0m \u001b[0;31m# TypeError 발생\u001b[0m\u001b[0;34m\u001b[0m\u001b[0;34m\u001b[0m\u001b[0m\n\u001b[0m",
            "\u001b[0;31mTypeError\u001b[0m: data_Preprocessing.<locals>.wrapper() takes 0 positional arguments but 1 was given"
          ]
        }
      ]
    },
    {
      "cell_type": "code",
      "source": [
        "# step 2\n",
        "def data_Preprocessing(function):\n",
        "    def wrapper(data):\n",
        "        print(data)\n",
        "    return wrapper\n",
        "\n",
        "@data_Preprocessing\n",
        "def mean(data):\n",
        "    return sum(data)/len(data)\n",
        "\n",
        "mean([1, 2, '3', 4, '5']) # 데이터만 출력하고 함수는 None을 반환"
      ],
      "metadata": {
        "colab": {
          "base_uri": "https://localhost:8080/"
        },
        "id": "_uBPngAvQSVv",
        "outputId": "21cb94cc-ef0d-41a0-ac86-ede666499d8e"
      },
      "execution_count": 47,
      "outputs": [
        {
          "output_type": "stream",
          "name": "stdout",
          "text": [
            "[1, 2, '3', 4, '5']\n"
          ]
        }
      ]
    },
    {
      "cell_type": "code",
      "source": [
        "# step 3\n",
        "def data_Preprocessing(function):\n",
        "    def wrapper(data):\n",
        "        return function(list(map(int, data)))\n",
        "    return wrapper\n",
        "\n",
        "@data_Preprocessing\n",
        "def mean(data):\n",
        "    return sum(data)/len(data)\n",
        "\n",
        "mean([1, 2, '3', 4, '5']) # 출력: 3.0 (정상 작동) # mean을 실행하는게 아님\n",
        "\n",
        "# data_preprocessing(mean) => wrapper\n",
        "# data_preprocessing(mean)([1, 2, '3', 4, '5']) => wrapper([1, 2, '3', 4, '5'])"
      ],
      "metadata": {
        "colab": {
          "base_uri": "https://localhost:8080/"
        },
        "id": "a8ZYbD1PQnRe",
        "outputId": "e85952de-fa7e-4c5a-812d-e10266357cee"
      },
      "execution_count": 48,
      "outputs": [
        {
          "output_type": "execute_result",
          "data": {
            "text/plain": [
              "3.0"
            ]
          },
          "metadata": {},
          "execution_count": 48
        }
      ]
    },
    {
      "cell_type": "code",
      "source": [
        "# step 4\n",
        "def data_Preprocessing(function):\n",
        "    def wrapper(a, b, c):\n",
        "        print(a, b, c)\n",
        "        print(function([a, b, c]))\n",
        "    return wrapper\n",
        "\n",
        "@data_Preprocessing\n",
        "def mean(data):\n",
        "    return sum(data)/len(data)\n",
        "\n",
        "mean(10, 20, 30) # data인자가 하나고, 10, 20, 30인자가 3개인데 오류가 없는 이유: 10, 20, 30이 wrapper에 들어감"
      ],
      "metadata": {
        "colab": {
          "base_uri": "https://localhost:8080/"
        },
        "id": "IDPlpIOLSLY-",
        "outputId": "fd0c1857-9301-463f-eafa-06121e2779c0"
      },
      "execution_count": 50,
      "outputs": [
        {
          "output_type": "stream",
          "name": "stdout",
          "text": [
            "10 20 30\n",
            "20.0\n"
          ]
        }
      ]
    },
    {
      "cell_type": "code",
      "source": [
        "# b() 실행하려면\n",
        "def outer(function):\n",
        "    def wrapper():\n",
        "        function()()\n",
        "        return 'hello'\n",
        "    return wrapper\n",
        "\n",
        "@outer\n",
        "def a():\n",
        "    def b():\n",
        "        print('hello b')\n",
        "    return b\n",
        "\n",
        "print(a())"
      ],
      "metadata": {
        "colab": {
          "base_uri": "https://localhost:8080/"
        },
        "id": "ZWemWIbMYq2S",
        "outputId": "fa9207af-0ed7-44fe-8347-459dbf4f7cce"
      },
      "execution_count": 51,
      "outputs": [
        {
          "output_type": "stream",
          "name": "stdout",
          "text": [
            "hello b\n",
            "hello\n"
          ]
        }
      ]
    },
    {
      "cell_type": "code",
      "source": [
        "# 여기서부터는 실무에서 볼 일이 거의 없음"
      ],
      "metadata": {
        "id": "WZedjWJVZxqm"
      },
      "execution_count": null,
      "outputs": []
    },
    {
      "cell_type": "code",
      "source": [
        "# 중첩 데코레이터\n",
        "def add_exclamation(function):\n",
        "    def wrapper(text):\n",
        "        print(f'add_exclamation 데코레이터 시작')\n",
        "        result = function(text) + \"!\"\n",
        "        print(f'add_exclamation 데코레이터 종료')\n",
        "        return result\n",
        "    return wrapper\n",
        "\n",
        "def add_question_mark(function):\n",
        "    def wrapper(text):\n",
        "        print(f'add_question_mark 데코레이터 시작')\n",
        "        result = function(text) + \"?\"\n",
        "        print(f'add_question_mark 데코레이터 종료')\n",
        "        return result\n",
        "    return wrapper\n",
        "\n",
        "def add_dot(function):\n",
        "    def wrapper(text):\n",
        "        print(f'add_dot 데코레이터 시작')\n",
        "        result = function(text) + \".\"\n",
        "        print(f'add_dot 데코레이터 종료')\n",
        "        return result\n",
        "    return wrapper\n",
        "\n",
        "@add_dot\n",
        "@add_question_mark\n",
        "@add_exclamation\n",
        "def greet(message):\n",
        "    print('함수실행!')\n",
        "    return message\n",
        "\n",
        "result = greet('Hello')\n",
        "print(result)"
      ],
      "metadata": {
        "colab": {
          "base_uri": "https://localhost:8080/"
        },
        "id": "RE8-jb6vZ2Oi",
        "outputId": "aecea1d9-09c8-470f-e34d-36d4391b9cf8"
      },
      "execution_count": 54,
      "outputs": [
        {
          "output_type": "stream",
          "name": "stdout",
          "text": [
            "add_dot 데코레이터 시작\n",
            "add_question_mark 데코레이터 시작\n",
            "add_exclamation 데코레이터 시작\n",
            "함수실행!\n",
            "add_exclamation 데코레이터 종료\n",
            "add_question_mark 데코레이터 종료\n",
            "add_dot 데코레이터 종료\n",
            "Hello!?.\n"
          ]
        }
      ]
    },
    {
      "cell_type": "code",
      "source": [
        "# 정적 데코레이터\n",
        "def add(n): # 데코레이터를 감싸는 하나의 함수를 더 만들어서 아규먼트를 받는 방법\n",
        "    def decorator(function): # 여기서부터의 기능은 같음\n",
        "        def new_function(a, b):\n",
        "            print(f'plus 함수가 {n}만큼 증가시키는 데코레이터가 시작됩니다.')\n",
        "            result = function(a, b)\n",
        "            print(result)\n",
        "            print(f'plus 함수가 {n}만큼 증가시키는 데코레이터가 종료됩니다.')\n",
        "            return result + n\n",
        "        return new_function\n",
        "    return decorator\n",
        "\n",
        "@add(1000)\n",
        "def plus(a, b):\n",
        "    print('plus 함수가 호출되었습니다.')\n",
        "    return a + b\n",
        "\n",
        "result = plus(10, 20)\n",
        "print(f'result : {result}')"
      ],
      "metadata": {
        "colab": {
          "base_uri": "https://localhost:8080/"
        },
        "id": "HHU7ESLcaHZ1",
        "outputId": "f3769876-f3a0-4d06-f554-08598e14b1b9"
      },
      "execution_count": 1,
      "outputs": [
        {
          "output_type": "stream",
          "name": "stdout",
          "text": [
            "plus 함수가 1000만큼 증가시키는 데코레이터가 시작됩니다.\n",
            "plus 함수가 호출되었습니다.\n",
            "30\n",
            "plus 함수가 1000만큼 증가시키는 데코레이터가 종료됩니다.\n",
            "result : 1030\n"
          ]
        }
      ]
    },
    {
      "cell_type": "code",
      "source": [
        "def plus(a, b):\n",
        "    print('plus 함수가 호출되었습니다.')\n",
        "    return a + b\n",
        "\n",
        "def add(n):\n",
        "    def decorator(f):\n",
        "        def wrapper(a, b):\n",
        "            print(f'plus 함수가 {n}만큼 증가시키는 데코레이터가 시작됩니다.')\n",
        "            result = f(a, b)\n",
        "            print(result)\n",
        "            print(f'plus 함수가 {n}만큼 증가시키는 데코레이터가 종료됩니다.')\n",
        "            return result + n\n",
        "        return wrapper\n",
        "    return decorator\n",
        "\n",
        "# d = add(1000)\n",
        "# w = d(plus)\n",
        "# w(10, 20)\n",
        "\n",
        "add(1000)(plus)(10, 20)"
      ],
      "metadata": {
        "id": "VKCRpnl7xLT7"
      },
      "execution_count": null,
      "outputs": []
    },
    {
      "cell_type": "markdown",
      "source": [
        "# 연습문제"
      ],
      "metadata": {
        "id": "iTDfkgESAjR2"
      }
    },
    {
      "cell_type": "code",
      "source": [
        "# 피타고라스 함수 만들기"
      ],
      "metadata": {
        "id": "IGbvsBRvByZs"
      },
      "execution_count": null,
      "outputs": []
    },
    {
      "cell_type": "code",
      "source": [
        "def length(a, b, square, root):\n",
        "    return root(square(a) + square(b))\n",
        "\n",
        "def square(n):\n",
        "    return n ** 2\n",
        "\n",
        "def root(n):\n",
        "    return n ** 0.5\n",
        "\n",
        "print(length(3, 4, square, root))"
      ],
      "metadata": {
        "colab": {
          "base_uri": "https://localhost:8080/"
        },
        "id": "bx7O0zkdAh8m",
        "outputId": "e068d844-bc70-4eb2-8d3b-e59ef05e2d2c"
      },
      "execution_count": 26,
      "outputs": [
        {
          "output_type": "stream",
          "name": "stdout",
          "text": [
            "5.0\n"
          ]
        }
      ]
    },
    {
      "cell_type": "markdown",
      "source": [
        "# lambda"
      ],
      "metadata": {
        "id": "eAwBNRpvdsTA"
      }
    },
    {
      "cell_type": "code",
      "source": [
        "# 재사용 되지 않을 때 사용\n",
        "square = lambda x: x*x\n",
        "print(square(5))\n",
        "\n",
        "print(list(map(lambda x: x**2, [1, 2, 3])))"
      ],
      "metadata": {
        "colab": {
          "base_uri": "https://localhost:8080/"
        },
        "id": "8kktL9J6dt8P",
        "outputId": "44df4707-9dfd-4c0d-b0ca-25d2fb06a401"
      },
      "execution_count": 60,
      "outputs": [
        {
          "output_type": "stream",
          "name": "stdout",
          "text": [
            "25\n",
            "[1, 4, 9]\n"
          ]
        }
      ]
    },
    {
      "cell_type": "code",
      "source": [
        "# 재사용되는 코드 일때는 이렇게\n",
        "def 제곱(x):\n",
        "    return x ** 2\n",
        "\n",
        "print(list(map(제곱, [1, 2, 3])))\n",
        "# 코드 ~~\n",
        "print(list(map(제곱, [1, 2, 3])))"
      ],
      "metadata": {
        "colab": {
          "base_uri": "https://localhost:8080/"
        },
        "id": "KdT55PZ5eHld",
        "outputId": "eee9c6c7-766e-40d8-8c2c-a4890e33e2f9"
      },
      "execution_count": 61,
      "outputs": [
        {
          "output_type": "stream",
          "name": "stdout",
          "text": [
            "[1, 4, 9]\n",
            "[1, 4, 9]\n"
          ]
        }
      ]
    },
    {
      "cell_type": "code",
      "source": [
        "# 이런 형태는 거의 안씀\n",
        "result = lambda x: x**2\n",
        "print(result(3))\n",
        "\n",
        "result = (lambda x: x**2)(3)\n",
        "print(result)"
      ],
      "metadata": {
        "colab": {
          "base_uri": "https://localhost:8080/"
        },
        "id": "yy0dFKCSfJqN",
        "outputId": "002466a4-7ef2-4702-dbad-7b23c0f4a1f5"
      },
      "execution_count": 63,
      "outputs": [
        {
          "output_type": "stream",
          "name": "stdout",
          "text": [
            "9\n",
            "9\n"
          ]
        }
      ]
    },
    {
      "cell_type": "markdown",
      "source": [
        "# args, kwargs"
      ],
      "metadata": {
        "id": "79OVtpzzxxQ4"
      }
    },
    {
      "cell_type": "code",
      "source": [
        "a, b, *c = 10, 20, 30, 40, 50\n",
        "print(a)\n",
        "print(b)\n",
        "print(c)"
      ],
      "metadata": {
        "colab": {
          "base_uri": "https://localhost:8080/"
        },
        "id": "Hy4200X5xztq",
        "outputId": "3c3da9f3-7910-4005-f261-e030dda7ad79"
      },
      "execution_count": 5,
      "outputs": [
        {
          "output_type": "stream",
          "name": "stdout",
          "text": [
            "10\n",
            "20\n",
            "[30, 40, 50]\n"
          ]
        }
      ]
    },
    {
      "cell_type": "code",
      "source": [
        "def print_args(*args):\n",
        "    print(args)\n",
        "    for x in args:\n",
        "        print(x)\n",
        "\n",
        "print_args(100, True, 'Licat', 'Hello', 10)"
      ],
      "metadata": {
        "colab": {
          "base_uri": "https://localhost:8080/"
        },
        "id": "O-gzHnQRyDzZ",
        "outputId": "e81eeb2a-f0f6-42c7-92cb-3c2ead446e38"
      },
      "execution_count": 7,
      "outputs": [
        {
          "output_type": "stream",
          "name": "stdout",
          "text": [
            "(100, True, 'Licat', 'Hello', 10)\n",
            "100\n",
            "True\n",
            "Licat\n",
            "Hello\n",
            "10\n"
          ]
        }
      ]
    },
    {
      "cell_type": "code",
      "source": [
        "# *args뒤에 일반 변수를 선언하지 못함\n",
        "def print_args(a, b, *args, d):\n",
        "    print(args)\n",
        "    for x in args:\n",
        "        print(x)\n",
        "\n",
        "print_args(100, True, 'Licat', 'Hello', 10)"
      ],
      "metadata": {
        "colab": {
          "base_uri": "https://localhost:8080/",
          "height": 216
        },
        "id": "5xLz8t7byOQr",
        "outputId": "ffad5d36-521d-44a1-b4cf-92b9f2dfe7be"
      },
      "execution_count": 10,
      "outputs": [
        {
          "output_type": "error",
          "ename": "TypeError",
          "evalue": "ignored",
          "traceback": [
            "\u001b[0;31m---------------------------------------------------------------------------\u001b[0m",
            "\u001b[0;31mTypeError\u001b[0m                                 Traceback (most recent call last)",
            "\u001b[0;32m<ipython-input-10-7e93d6e71d4b>\u001b[0m in \u001b[0;36m<cell line: 7>\u001b[0;34m()\u001b[0m\n\u001b[1;32m      5\u001b[0m         \u001b[0mprint\u001b[0m\u001b[0;34m(\u001b[0m\u001b[0mx\u001b[0m\u001b[0;34m)\u001b[0m\u001b[0;34m\u001b[0m\u001b[0;34m\u001b[0m\u001b[0m\n\u001b[1;32m      6\u001b[0m \u001b[0;34m\u001b[0m\u001b[0m\n\u001b[0;32m----> 7\u001b[0;31m \u001b[0mprint_args\u001b[0m\u001b[0;34m(\u001b[0m\u001b[0;36m100\u001b[0m\u001b[0;34m,\u001b[0m \u001b[0;32mTrue\u001b[0m\u001b[0;34m,\u001b[0m \u001b[0;34m'Licat'\u001b[0m\u001b[0;34m,\u001b[0m \u001b[0;34m'Hello'\u001b[0m\u001b[0;34m,\u001b[0m \u001b[0;36m10\u001b[0m\u001b[0;34m)\u001b[0m\u001b[0;34m\u001b[0m\u001b[0;34m\u001b[0m\u001b[0m\n\u001b[0m",
            "\u001b[0;31mTypeError\u001b[0m: print_args() missing 1 required keyword-only argument: 'd'"
          ]
        }
      ]
    },
    {
      "cell_type": "code",
      "source": [
        "def print_args(a, b, *args, *c): # *args뒤에 또다른 가변 아규먼트를 넣지 못함\n",
        "    print(args)\n",
        "    for x in args:\n",
        "        print(x)\n",
        "\n",
        "print_args(100, True, 'Licat', 'hello', 10)"
      ],
      "metadata": {
        "colab": {
          "base_uri": "https://localhost:8080/",
          "height": 144
        },
        "id": "IN7a_ab1y4VT",
        "outputId": "047068b2-cb9a-46ea-df4e-ce4c4defb8d9"
      },
      "execution_count": 12,
      "outputs": [
        {
          "output_type": "error",
          "ename": "SyntaxError",
          "evalue": "ignored",
          "traceback": [
            "\u001b[0;36m  File \u001b[0;32m\"<ipython-input-12-ca27700bd8ea>\"\u001b[0;36m, line \u001b[0;32m1\u001b[0m\n\u001b[0;31m    def print_args(a, b, *args, *c): # *args뒤에 또다른 가변 아규먼트를 넣지 못함\u001b[0m\n\u001b[0m                                ^\u001b[0m\n\u001b[0;31mSyntaxError\u001b[0m\u001b[0;31m:\u001b[0m invalid syntax\n"
          ]
        }
      ]
    },
    {
      "cell_type": "code",
      "source": [
        "def print_kwargs(a, **kwargs): # **두개 사용해야 key와 value 둘다 넘김\n",
        "    print(a)\n",
        "    print(kwargs)\n",
        "    for i in kwargs:\n",
        "        print(i)\n",
        "\n",
        "print_kwargs(100, name='Licat', age='10')"
      ],
      "metadata": {
        "colab": {
          "base_uri": "https://localhost:8080/"
        },
        "id": "lJOFCKXny9ky",
        "outputId": "96a447b2-8245-4daa-a182-addedd0965fc"
      },
      "execution_count": 14,
      "outputs": [
        {
          "output_type": "stream",
          "name": "stdout",
          "text": [
            "100\n",
            "{'name': 'Licat', 'age': '10'}\n",
            "name\n",
            "age\n"
          ]
        }
      ]
    },
    {
      "cell_type": "code",
      "source": [
        "def print_kwargs(*args):\n",
        "    print(args)\n",
        "    for i in args:\n",
        "        print(i)\n",
        "\n",
        "value = {'one': 10, 'two': 20}\n",
        "print_kwargs(*value)"
      ],
      "metadata": {
        "colab": {
          "base_uri": "https://localhost:8080/"
        },
        "id": "DAS76Uk8zV4Q",
        "outputId": "aef8d8a7-8f54-4d18-fd0b-48227b9e8cb7"
      },
      "execution_count": 20,
      "outputs": [
        {
          "output_type": "stream",
          "name": "stdout",
          "text": [
            "('one', 'two')\n",
            "one\n",
            "two\n"
          ]
        }
      ]
    },
    {
      "cell_type": "code",
      "source": [
        "def print_kwargs(**kwargs):\n",
        "    print(kwargs)\n",
        "    for i in kwargs:\n",
        "        print(i)\n",
        "\n",
        "value = {'one': 10, 'two': 20}\n",
        "print_kwargs(**value)"
      ],
      "metadata": {
        "colab": {
          "base_uri": "https://localhost:8080/"
        },
        "id": "0k0anX2O0BXp",
        "outputId": "74bddbc2-86c6-4469-8094-cfc6f181ad0b"
      },
      "execution_count": 26,
      "outputs": [
        {
          "output_type": "stream",
          "name": "stdout",
          "text": [
            "{'one': 10, 'two': 20}\n",
            "one\n",
            "two\n"
          ]
        }
      ]
    },
    {
      "cell_type": "code",
      "source": [
        "# 강제 키워드 인자\n",
        "def func(a, b, *, c, d):\n",
        "    print(a, b, c, d)\n",
        "\n",
        "# func(1, 2, c = 3, d = 4)  # 올바른 예시\n",
        "# func(1, 2, 3, d = 4)  # 잘못된 예시\n",
        "# func(1, 2, 3, 4)    # 잘못된 예시"
      ],
      "metadata": {
        "id": "ELADSIhK2UpH"
      },
      "execution_count": 27,
      "outputs": []
    },
    {
      "cell_type": "code",
      "source": [
        "def func(a, b, c):\n",
        "    print(a, b, c)\n",
        "\n",
        "args = (1, 2, 3)\n",
        "func(*args)\n",
        "print(args, *args)\n",
        "\n",
        "kwargs = {'a': 1, 'b': 2, 'c': 3}\n",
        "func(**kwargs)"
      ],
      "metadata": {
        "colab": {
          "base_uri": "https://localhost:8080/"
        },
        "id": "G2G1vYRV2akG",
        "outputId": "b2d244a1-5194-4375-d3e2-e1e1a9dd70f7"
      },
      "execution_count": 31,
      "outputs": [
        {
          "output_type": "stream",
          "name": "stdout",
          "text": [
            "1 2 3\n",
            "(1, 2, 3) 1 2 3\n",
            "1 2 3\n"
          ]
        }
      ]
    },
    {
      "cell_type": "code",
      "source": [
        "kwargs = {'a': 1, 'b': 2, 'c': 3}\n",
        "print(kwargs, *kwargs)\n",
        "# print(kwargs, **kwargs) # 왜 에스터리스크가 2개일 때 error가 날까?\n",
        "# print(kwargs, a=1, b=2, c=3) # 이 코드가 위의 코드와 같음"
      ],
      "metadata": {
        "colab": {
          "base_uri": "https://localhost:8080/"
        },
        "id": "FOTiu6uE3JD3",
        "outputId": "4b033891-71a4-4bd7-d770-9c6e0369c273"
      },
      "execution_count": 33,
      "outputs": [
        {
          "output_type": "stream",
          "name": "stdout",
          "text": [
            "{'a': 1, 'b': 2, 'c': 3} a b c\n"
          ]
        }
      ]
    },
    {
      "cell_type": "code",
      "source": [
        "def func(d=100, c=200, b=300, a=400):\n",
        "    print(d, c, b, a)\n",
        "\n",
        "kwargs = {'a':1, 'b':2, 'c':3}\n",
        "func(**kwargs)\n",
        "# func(d = 100, c = 3, b = 2, a = 1) 랑 같음\n",
        "# {'a':1, 'b':2, 'c':3} => **kwargs => a=1, b=2, c=3"
      ],
      "metadata": {
        "colab": {
          "base_uri": "https://localhost:8080/"
        },
        "id": "a_1-n6d_3vsx",
        "outputId": "66b388cb-0cff-42e2-f0fb-d0080a7f16c3"
      },
      "execution_count": 35,
      "outputs": [
        {
          "output_type": "stream",
          "name": "stdout",
          "text": [
            "100 3 2 1\n"
          ]
        }
      ]
    },
    {
      "cell_type": "code",
      "source": [
        "# a=1, b=2, c=3 => **kwargs => {'a':1, 'b':2, 'c':3}\n",
        "def func(a=100, **kwargs):\n",
        "    print(a, kwargs)\n",
        "\n",
        "func(1000, i=1, j=2, k=3)"
      ],
      "metadata": {
        "colab": {
          "base_uri": "https://localhost:8080/"
        },
        "id": "ihTiXmoj4Lh6",
        "outputId": "f03843c9-0ec1-49d5-e29e-c63c48c18940"
      },
      "execution_count": 37,
      "outputs": [
        {
          "output_type": "stream",
          "name": "stdout",
          "text": [
            "1000 {'i': 1, 'j': 2, 'k': 3}\n"
          ]
        }
      ]
    },
    {
      "cell_type": "code",
      "source": [
        "def func(*args):\n",
        "    print(args)\n",
        "\n",
        "func(10, 20, 30)\n",
        "# 10, 20, 30 => *args => (10, 20, 30)"
      ],
      "metadata": {
        "colab": {
          "base_uri": "https://localhost:8080/"
        },
        "id": "RDFt7AUi45M9",
        "outputId": "f34a5a6f-af1d-41fb-de0f-e08e757068c5"
      },
      "execution_count": 39,
      "outputs": [
        {
          "output_type": "stream",
          "name": "stdout",
          "text": [
            "(10, 20, 30)\n"
          ]
        }
      ]
    },
    {
      "cell_type": "code",
      "source": [
        "def func(a, b, c):\n",
        "    print(a, b, c)\n",
        "\n",
        "args = (10, 20, 30)\n",
        "func(*args)\n",
        "\n",
        "# (10, 20, 30) => *args => 10, 20, 30"
      ],
      "metadata": {
        "colab": {
          "base_uri": "https://localhost:8080/"
        },
        "id": "-Ncjsyey5JMh",
        "outputId": "55c3388a-b470-4f04-d15e-4016929b73a6"
      },
      "execution_count": 41,
      "outputs": [
        {
          "output_type": "stream",
          "name": "stdout",
          "text": [
            "10 20 30\n"
          ]
        }
      ]
    },
    {
      "cell_type": "code",
      "source": [
        "a, b, c = range(3)\n",
        "print(a)"
      ],
      "metadata": {
        "colab": {
          "base_uri": "https://localhost:8080/"
        },
        "id": "tboSUpyE5Wts",
        "outputId": "e9239fd9-1751-4fed-8ed9-f895a683e85b"
      },
      "execution_count": 43,
      "outputs": [
        {
          "output_type": "stream",
          "name": "stdout",
          "text": [
            "0\n"
          ]
        }
      ]
    },
    {
      "cell_type": "code",
      "source": [
        "a, b, c = range(10, 31, 10) # 언팩킹이 된다는 얘기는 순회를 돌았다는 얘기.\n",
        "print(b)"
      ],
      "metadata": {
        "colab": {
          "base_uri": "https://localhost:8080/"
        },
        "id": "JSMmEbhw5vyb",
        "outputId": "f2ebc0ab-587a-4c3b-873c-ccc962dd1d72"
      },
      "execution_count": 44,
      "outputs": [
        {
          "output_type": "stream",
          "name": "stdout",
          "text": [
            "20\n"
          ]
        }
      ]
    },
    {
      "cell_type": "markdown",
      "source": [
        "# 이터레이터"
      ],
      "metadata": {
        "id": "mXmiE07I6Qkj"
      }
    },
    {
      "cell_type": "code",
      "source": [
        "class MyIterator:\n",
        "    def __init__(self, stop):\n",
        "        self.current_value = 0  # 현재 값\n",
        "        self.stop = stop  # 순회를 멈출 값\n",
        "\n",
        "    def __iter__(self):\n",
        "        return self\n",
        "\n",
        "    def __next__(self):\n",
        "        if self.current_value >= self.stop:\n",
        "            raise StopIteration\n",
        "        result = self.current_value\n",
        "        self.current_value += 1\n",
        "        return result\n",
        "\n",
        "my_iterator = MyIterator(5)\n",
        "\n",
        "for i in my_iterator:\n",
        "    print(i)\n",
        "\n",
        "'''\n",
        "for을 만나면 __iter__가 실행이 되고, 반복이 시작되면 __next__를 호출함\n",
        "'''"
      ],
      "metadata": {
        "colab": {
          "base_uri": "https://localhost:8080/",
          "height": 125
        },
        "id": "uhCcjrqG6THj",
        "outputId": "874c20ed-8e9c-408e-8793-f3ab34d9a3b2"
      },
      "execution_count": 45,
      "outputs": [
        {
          "output_type": "stream",
          "name": "stdout",
          "text": [
            "0\n",
            "1\n",
            "2\n",
            "3\n",
            "4\n"
          ]
        },
        {
          "output_type": "execute_result",
          "data": {
            "text/plain": [
              "'\\nfor을 만나면 __iter__가 실행이 되고, 반복이 시작되면 __next__를 호출함\\n'"
            ],
            "application/vnd.google.colaboratory.intrinsic+json": {
              "type": "string"
            }
          },
          "metadata": {},
          "execution_count": 45
        }
      ]
    },
    {
      "cell_type": "code",
      "source": [
        "class MyIterator:\n",
        "    def __init__(self, stop):\n",
        "        self.current_value = 0  # 현재 값\n",
        "        self.stop = stop  # 순회를 멈출 값\n",
        "\n",
        "    def __iter__(self):\n",
        "        return self\n",
        "\n",
        "    def __next__(self):\n",
        "        if self.current_value >= self.stop:\n",
        "            raise StopIteration\n",
        "        result = self.current_value\n",
        "        self.current_value += 1\n",
        "        return result\n",
        "\n",
        "my_iterator = MyIterator(5)\n",
        "\n",
        "i = iter(my_iterator) # 여기서부터\n",
        "print(next(i))\n",
        "print(next(i))\n",
        "print(next(i))\n",
        "print(next(i))\n",
        "print(next(i))\n",
        "print(next(i)) # error # 여기까지가 for 작동 원리"
      ],
      "metadata": {
        "colab": {
          "base_uri": "https://localhost:8080/",
          "height": 431
        },
        "id": "DFXyPmSC-8_j",
        "outputId": "194c9ab0-b685-44ee-9d45-b203570f418f"
      },
      "execution_count": 47,
      "outputs": [
        {
          "output_type": "stream",
          "name": "stdout",
          "text": [
            "0\n",
            "1\n",
            "2\n",
            "3\n",
            "4\n"
          ]
        },
        {
          "output_type": "error",
          "ename": "StopIteration",
          "evalue": "ignored",
          "traceback": [
            "\u001b[0;31m---------------------------------------------------------------------------\u001b[0m",
            "\u001b[0;31mStopIteration\u001b[0m                             Traceback (most recent call last)",
            "\u001b[0;32m<ipython-input-47-d4fc7aa2ff35>\u001b[0m in \u001b[0;36m<cell line: 24>\u001b[0;34m()\u001b[0m\n\u001b[1;32m     22\u001b[0m \u001b[0mprint\u001b[0m\u001b[0;34m(\u001b[0m\u001b[0mnext\u001b[0m\u001b[0;34m(\u001b[0m\u001b[0mi\u001b[0m\u001b[0;34m)\u001b[0m\u001b[0;34m)\u001b[0m\u001b[0;34m\u001b[0m\u001b[0;34m\u001b[0m\u001b[0m\n\u001b[1;32m     23\u001b[0m \u001b[0mprint\u001b[0m\u001b[0;34m(\u001b[0m\u001b[0mnext\u001b[0m\u001b[0;34m(\u001b[0m\u001b[0mi\u001b[0m\u001b[0;34m)\u001b[0m\u001b[0;34m)\u001b[0m\u001b[0;34m\u001b[0m\u001b[0;34m\u001b[0m\u001b[0m\n\u001b[0;32m---> 24\u001b[0;31m \u001b[0mprint\u001b[0m\u001b[0;34m(\u001b[0m\u001b[0mnext\u001b[0m\u001b[0;34m(\u001b[0m\u001b[0mi\u001b[0m\u001b[0;34m)\u001b[0m\u001b[0;34m)\u001b[0m\u001b[0;34m\u001b[0m\u001b[0;34m\u001b[0m\u001b[0m\n\u001b[0m",
            "\u001b[0;32m<ipython-input-47-d4fc7aa2ff35>\u001b[0m in \u001b[0;36m__next__\u001b[0;34m(self)\u001b[0m\n\u001b[1;32m      9\u001b[0m     \u001b[0;32mdef\u001b[0m \u001b[0m__next__\u001b[0m\u001b[0;34m(\u001b[0m\u001b[0mself\u001b[0m\u001b[0;34m)\u001b[0m\u001b[0;34m:\u001b[0m\u001b[0;34m\u001b[0m\u001b[0;34m\u001b[0m\u001b[0m\n\u001b[1;32m     10\u001b[0m         \u001b[0;32mif\u001b[0m \u001b[0mself\u001b[0m\u001b[0;34m.\u001b[0m\u001b[0mcurrent_value\u001b[0m \u001b[0;34m>=\u001b[0m \u001b[0mself\u001b[0m\u001b[0;34m.\u001b[0m\u001b[0mstop\u001b[0m\u001b[0;34m:\u001b[0m\u001b[0;34m\u001b[0m\u001b[0;34m\u001b[0m\u001b[0m\n\u001b[0;32m---> 11\u001b[0;31m             \u001b[0;32mraise\u001b[0m \u001b[0mStopIteration\u001b[0m\u001b[0;34m\u001b[0m\u001b[0;34m\u001b[0m\u001b[0m\n\u001b[0m\u001b[1;32m     12\u001b[0m         \u001b[0mresult\u001b[0m \u001b[0;34m=\u001b[0m \u001b[0mself\u001b[0m\u001b[0;34m.\u001b[0m\u001b[0mcurrent_value\u001b[0m\u001b[0;34m\u001b[0m\u001b[0;34m\u001b[0m\u001b[0m\n\u001b[1;32m     13\u001b[0m         \u001b[0mself\u001b[0m\u001b[0;34m.\u001b[0m\u001b[0mcurrent_value\u001b[0m \u001b[0;34m+=\u001b[0m \u001b[0;36m1\u001b[0m\u001b[0;34m\u001b[0m\u001b[0;34m\u001b[0m\u001b[0m\n",
            "\u001b[0;31mStopIteration\u001b[0m: "
          ]
        }
      ]
    },
    {
      "cell_type": "markdown",
      "source": [
        "# 제너레이터"
      ],
      "metadata": {
        "id": "09MiULg4BGLY"
      }
    },
    {
      "cell_type": "code",
      "source": [
        "# 이터레이터를 생성. yield 키워드로 만듦"
      ],
      "metadata": {
        "id": "Bbbs29IdBYhm"
      },
      "execution_count": 48,
      "outputs": []
    },
    {
      "cell_type": "code",
      "source": [
        "def my_generator(data):\n",
        "    for i in data:\n",
        "        yield i * 10\n",
        "\n",
        "for i in my_generator([1, 2, 3]):\n",
        "    print(i)"
      ],
      "metadata": {
        "colab": {
          "base_uri": "https://localhost:8080/"
        },
        "id": "S2ws_ufZB-1C",
        "outputId": "f116b3ce-59e1-402c-881c-17084c40a461"
      },
      "execution_count": 50,
      "outputs": [
        {
          "output_type": "stream",
          "name": "stdout",
          "text": [
            "10\n",
            "20\n",
            "30\n"
          ]
        }
      ]
    },
    {
      "cell_type": "code",
      "source": [
        "def my_generator():\n",
        "    x = 10\n",
        "    yield x\n",
        "    x = 20\n",
        "    yield x\n",
        "    x = 30\n",
        "    yield x\n",
        "\n",
        "for i in my_generator():\n",
        "    print(i)"
      ],
      "metadata": {
        "colab": {
          "base_uri": "https://localhost:8080/"
        },
        "id": "Ci1Syh6nC_HO",
        "outputId": "89a265c0-6d20-48b8-809c-b5c48d7c66f8"
      },
      "execution_count": 52,
      "outputs": [
        {
          "output_type": "stream",
          "name": "stdout",
          "text": [
            "10\n",
            "20\n",
            "30\n"
          ]
        }
      ]
    },
    {
      "cell_type": "code",
      "source": [
        "# 이럴때 많이 사용\n",
        "def my_generator():\n",
        "    l = ['짝', '홀']\n",
        "    t = False\n",
        "    while True:\n",
        "        if t == False:\n",
        "            yield l[0]\n",
        "            t = True\n",
        "        else:\n",
        "            yield l[1]\n",
        "            t = False\n",
        "\n",
        "list(zip([0, 1, 2, 3, 4, 5, 6], my_generator()))"
      ],
      "metadata": {
        "colab": {
          "base_uri": "https://localhost:8080/"
        },
        "id": "NaRi11FGDYC0",
        "outputId": "36f151a5-bf7b-4e89-e7f7-f4f75dad2259"
      },
      "execution_count": 53,
      "outputs": [
        {
          "output_type": "execute_result",
          "data": {
            "text/plain": [
              "[(0, '짝'), (1, '홀'), (2, '짝'), (3, '홀'), (4, '짝'), (5, '홀'), (6, '짝')]"
            ]
          },
          "metadata": {},
          "execution_count": 53
        }
      ]
    },
    {
      "cell_type": "code",
      "source": [
        "def my_generator():\n",
        "    l = ['짝', '홀']\n",
        "    while True:\n",
        "        yield l[t := False]\n",
        "        yield l[t := True]\n",
        "\n",
        "list(zip([0, 1, 2, 3, 4, 5, 6], my_generator()))"
      ],
      "metadata": {
        "colab": {
          "base_uri": "https://localhost:8080/"
        },
        "id": "1T5xwLZtEeW_",
        "outputId": "7c12fbd8-eb1c-4f3b-eb6f-426bb342d50c"
      },
      "execution_count": 54,
      "outputs": [
        {
          "output_type": "execute_result",
          "data": {
            "text/plain": [
              "[(0, '짝'), (1, '홀'), (2, '짝'), (3, '홀'), (4, '짝'), (5, '홀'), (6, '짝')]"
            ]
          },
          "metadata": {},
          "execution_count": 54
        }
      ]
    },
    {
      "cell_type": "code",
      "source": [
        "def my_generator():\n",
        "    count = 1\n",
        "    while True:\n",
        "        yield count\n",
        "        count += 1\n",
        "\n",
        "list(zip(['a', 'b', 'c'], my_generator()))"
      ],
      "metadata": {
        "colab": {
          "base_uri": "https://localhost:8080/"
        },
        "id": "gcCmr3KlEkq1",
        "outputId": "2344878e-b559-4eb3-bf34-0fcade051654"
      },
      "execution_count": 58,
      "outputs": [
        {
          "output_type": "execute_result",
          "data": {
            "text/plain": [
              "[('a', 1), ('b', 2), ('c', 3)]"
            ]
          },
          "metadata": {},
          "execution_count": 58
        }
      ]
    },
    {
      "cell_type": "code",
      "source": [
        "def my_generator():\n",
        "    count = 0\n",
        "    while True:\n",
        "        yield count\n",
        "        count += 2\n",
        "list(zip([1, 2, 3, 4, 5, 6, 7, 8, 9], 'hello world', my_generator())) # 마치 enumerate처럼"
      ],
      "metadata": {
        "colab": {
          "base_uri": "https://localhost:8080/"
        },
        "id": "zyxEhiPRFRZD",
        "outputId": "37dacfa9-3289-4f3c-9014-bc38f8199c40"
      },
      "execution_count": 60,
      "outputs": [
        {
          "output_type": "execute_result",
          "data": {
            "text/plain": [
              "[(1, 'h', 0),\n",
              " (2, 'e', 2),\n",
              " (3, 'l', 4),\n",
              " (4, 'l', 6),\n",
              " (5, 'o', 8),\n",
              " (6, ' ', 10),\n",
              " (7, 'w', 12),\n",
              " (8, 'o', 14),\n",
              " (9, 'r', 16)]"
            ]
          },
          "metadata": {},
          "execution_count": 60
        }
      ]
    },
    {
      "cell_type": "code",
      "source": [
        "# 제너레이터 컴프리헨션\n",
        "gen = (i for i in range(2, 11, 2))\n",
        "print(type(gen))\n",
        "for i in gen:\n",
        "    print(i)"
      ],
      "metadata": {
        "colab": {
          "base_uri": "https://localhost:8080/"
        },
        "id": "yxyPEmYSGWAu",
        "outputId": "99a968fb-ba04-4b3b-eb66-6b44b2b53303"
      },
      "execution_count": 61,
      "outputs": [
        {
          "output_type": "stream",
          "name": "stdout",
          "text": [
            "<class 'generator'>\n",
            "2\n",
            "4\n",
            "6\n",
            "8\n",
            "10\n"
          ]
        }
      ]
    },
    {
      "cell_type": "markdown",
      "source": [
        "# 연습문제"
      ],
      "metadata": {
        "id": "PJpYvmfBHmBL"
      }
    },
    {
      "cell_type": "code",
      "source": [
        "# 회전초밥집에 들어갔습니다. 초밥은 아래와 같은 양식으로 나옵니다.\n",
        "[['광어초밥', 1000], ['연어초밥', 2000], ['계란초밥', 3000]]\n",
        "# 각 초밥은 몇 개 나올지 알 수 없습니다.\n",
        "# 각 초밥은 1000원씩 비싸집니다.\n",
        "# 초밥에 '어'가 나오는 초밥만 먹습니다.\n",
        "# 내가 먹은 초밥의 비용을 계산하는 코드를 작성해 주세요.\n",
        "\n",
        "def sushi_gen(data):\n",
        "    for sushi in data:\n",
        "        if '어' in sushi[0]:\n",
        "            yield sushi[1]\n",
        "\n",
        "def solution(data):\n",
        "    price = 0\n",
        "    for sushi_price in sushi_gen(data):\n",
        "        price += sushi_price\n",
        "    return price\n",
        "\n",
        "data = [['광어초밥', 1000], ['연어초밥', 2000], ['계란초밥', 3000], ['문어초밥', 4000], ['장어초밥', 5000]]\n",
        "\n",
        "print(f'내가 먹은 초밥의 총 비용은 {solution(data)}원 입니다')"
      ],
      "metadata": {
        "colab": {
          "base_uri": "https://localhost:8080/"
        },
        "id": "AOrahrctHnR4",
        "outputId": "46a14bb7-3585-4316-ef97-1d22545e12f5"
      },
      "execution_count": 77,
      "outputs": [
        {
          "output_type": "stream",
          "name": "stdout",
          "text": [
            "내가 먹은 초밥의 총 비용은 12000원 입니다\n"
          ]
        }
      ]
    },
    {
      "cell_type": "code",
      "source": [
        "def gen(data):\n",
        "    for name, price in data:\n",
        "        if '어' in name:\n",
        "            yield price\n",
        "\n",
        "def solution(data):\n",
        "    return sum(gen(data))\n",
        "\n",
        "data = [['광어초밥', 1000], ['연어초밥', 2000], ['계란초밥', 3000], ['문어초밥', 4000], ['장어초밥', 5000]]\n",
        "solution(data)"
      ],
      "metadata": {
        "colab": {
          "base_uri": "https://localhost:8080/"
        },
        "id": "RcnKFDe-Mtbu",
        "outputId": "3b439b19-8adb-44a6-d839-e66a7b94b08c"
      },
      "execution_count": 81,
      "outputs": [
        {
          "output_type": "execute_result",
          "data": {
            "text/plain": [
              "12000"
            ]
          },
          "metadata": {},
          "execution_count": 81
        }
      ]
    },
    {
      "cell_type": "code",
      "source": [
        "# 문제1\n",
        "# 다음과 같이 동작하는 제너레이터 함수 fibonacci(n)를 완성하세요.\n",
        "# 주어진 숫자 n까지의 피보나치 수열을 반환합니다.\n",
        "# 인터넷에서 피보나치 순열 Python 코드를 검색해보셔도 좋습니다.\n",
        "\n",
        "def fib(n):\n",
        "    pre = 0\n",
        "    now = 1\n",
        "    while now <= n:\n",
        "        yield now\n",
        "        temp = pre + now\n",
        "        pre = now\n",
        "        now = temp\n",
        "\n",
        "for i in fib(5):\n",
        "    print(i)"
      ],
      "metadata": {
        "colab": {
          "base_uri": "https://localhost:8080/"
        },
        "id": "u87y65rIec8R",
        "outputId": "0ea5d8b2-1b9f-4160-fa25-32d918f81c6a"
      },
      "execution_count": 1,
      "outputs": [
        {
          "output_type": "stream",
          "name": "stdout",
          "text": [
            "1\n",
            "1\n",
            "2\n",
            "3\n",
            "5\n"
          ]
        }
      ]
    },
    {
      "cell_type": "code",
      "source": [
        "# 문제2\n",
        "# 주어진 함수의 실행 시간을 측정하여 출력하는 데코레이터 time_it를 작성하세요.\n",
        "# (힌트: time 모듈의 time() 함수를 사용하세요.)\n",
        "from time import time, sleep\n",
        "\n",
        "def time_it(func):\n",
        "    def wrapper(n):\n",
        "        print(\"함수 시간 측정 시작\")\n",
        "        start = time()\n",
        "        func(n)\n",
        "        end = time()\n",
        "        print(f\"함수 소요 시간은 {end-start}초 입니다.\")\n",
        "    return wrapper\n",
        "\n",
        "@time_it\n",
        "def deco_fib(n):\n",
        "    for i in fib(n):\n",
        "        print(i)\n",
        "\n",
        "deco_fib(5)"
      ],
      "metadata": {
        "colab": {
          "base_uri": "https://localhost:8080/"
        },
        "id": "zUD7VIXrglbT",
        "outputId": "0d073a2e-bf20-41c0-890f-896637f878fb"
      },
      "execution_count": 3,
      "outputs": [
        {
          "output_type": "stream",
          "name": "stdout",
          "text": [
            "함수 시간 측정 시작\n",
            "1\n",
            "1\n",
            "2\n",
            "3\n",
            "5\n",
            "함수 소요 시간은 0.0019068717956542969초 입니다.\n"
          ]
        }
      ]
    },
    {
      "cell_type": "code",
      "source": [
        "# 문제1\n",
        "# 다음과 같이 동작하는 제너레이터 함수 fibonacci(n)를 완성하세요.\n",
        "# 주어진 숫자 n까지의 피보나치 수열을 반환합니다.\n",
        "\n",
        "def fib(n):\n",
        "    pre = 1\n",
        "    next = 1\n",
        "    count = 0\n",
        "    while True:\n",
        "        temp = pre + next\n",
        "        yield pre\n",
        "        pre, next = next, temp\n",
        "        count += 1\n",
        "        if count == n:\n",
        "            break\n",
        "\n",
        "for i in fib(5):\n",
        "    print(i)\n",
        "\n",
        "'''\n",
        "출력\n",
        "1\n",
        "1\n",
        "2\n",
        "3\n",
        "5\n",
        "'''\n",
        "\n",
        "# 문제2\n",
        "# 주어진 함수의 실행 시간을 측정하여 출력하는 데코레이터 time_it를 작성하세요.\n",
        "# (힌트: time 모듈의 time() 함수를 사용하세요.)\n",
        "\n",
        "import time\n",
        "\n",
        "def time_it(func):\n",
        "    def wrapper():\n",
        "        start_time = time.time()\n",
        "        func()\n",
        "        end_time = time.time()\n",
        "        print(f\"{end_time - start_time:.4f}s\")\n",
        "    return wrapper\n",
        "\n",
        "@time_it\n",
        "def main():\n",
        "    def fib(n):\n",
        "        pre = 1\n",
        "        next = 1\n",
        "        count = 0\n",
        "        while True:\n",
        "            temp = pre + next\n",
        "            yield pre\n",
        "            pre, next = next, temp\n",
        "            count += 1\n",
        "            if count == n:\n",
        "                break\n",
        "\n",
        "    for i in fib(20):\n",
        "        print(i)\n",
        "\n",
        "main()"
      ],
      "metadata": {
        "id": "_KqFRTiR03sH"
      },
      "execution_count": null,
      "outputs": []
    },
    {
      "cell_type": "code",
      "source": [
        "# nonlocal\n",
        "x = 100\n",
        "def outer():\n",
        "    x = 1\n",
        "    def inner():\n",
        "        nonlocal x\n",
        "        x += 1\n",
        "        print(x) # 출력 2\n",
        "    inner()\n",
        "    print(x) # 출력 2\n",
        "\n",
        "outer()\n",
        "print(x) # 출력 100"
      ],
      "metadata": {
        "colab": {
          "base_uri": "https://localhost:8080/"
        },
        "id": "ePHLlGn2PhKO",
        "outputId": "d3e4d6f8-f5e2-466a-aa91-77c47745bb3d"
      },
      "execution_count": 83,
      "outputs": [
        {
          "output_type": "stream",
          "name": "stdout",
          "text": [
            "2\n",
            "2\n",
            "100\n"
          ]
        }
      ]
    },
    {
      "cell_type": "code",
      "source": [
        "# global\n",
        "x = 100\n",
        "def outer():\n",
        "    x = 1\n",
        "    def inner():\n",
        "        global x\n",
        "        x += 1\n",
        "        print(x) # 출력 101\n",
        "    inner()\n",
        "    print(x) # 출력 1\n",
        "\n",
        "outer()\n",
        "print(x) # 출력 101"
      ],
      "metadata": {
        "colab": {
          "base_uri": "https://localhost:8080/"
        },
        "id": "LG8-YpRuSgpV",
        "outputId": "7aa4afd5-be1a-488c-e18c-08dd70b25bbd"
      },
      "execution_count": 85,
      "outputs": [
        {
          "output_type": "stream",
          "name": "stdout",
          "text": [
            "101\n",
            "1\n",
            "101\n"
          ]
        }
      ]
    },
    {
      "cell_type": "markdown",
      "source": [
        "# zip이 사라지는 이유"
      ],
      "metadata": {
        "id": "bvHOY3hXTTBB"
      }
    },
    {
      "cell_type": "code",
      "source": [
        "a = [1, 2, 3]\n",
        "b = ['a', 'b', 'c']\n",
        "\n",
        "z = zip(a, b)\n",
        "print(list(z)) # [(1, 'a'), (2, 'b'), (3, 'c')]\n",
        "\n",
        "# zip 객체는 한 번 사용되었으므로 빈 리스트가 반환됩니다.\n",
        "print(list(z)) # []"
      ],
      "metadata": {
        "colab": {
          "base_uri": "https://localhost:8080/"
        },
        "id": "ydIPFBveSmCl",
        "outputId": "c2a90c41-3eb1-477a-d704-5b46c0166e3c"
      },
      "execution_count": 87,
      "outputs": [
        {
          "output_type": "stream",
          "name": "stdout",
          "text": [
            "[(1, 'a'), (2, 'b'), (3, 'c')]\n",
            "[]\n"
          ]
        }
      ]
    },
    {
      "cell_type": "code",
      "source": [
        "# iter에서 왜 초기화 해주지 않았을까\n",
        "x = [1, 2, 3]\n",
        "y = sorted(x)\n",
        "\n",
        "for i in y:\n",
        "    print(i)\n",
        "\n",
        "for i in y:\n",
        "    print(i)\n",
        "\n",
        "y # 심지어 리스트로 나옴. zip, map 이랑 다름"
      ],
      "metadata": {
        "colab": {
          "base_uri": "https://localhost:8080/"
        },
        "id": "FbG4cImLTybq",
        "outputId": "7556177f-d123-49ed-b44f-a13c179e1098"
      },
      "execution_count": 89,
      "outputs": [
        {
          "output_type": "stream",
          "name": "stdout",
          "text": [
            "1\n",
            "2\n",
            "3\n",
            "1\n",
            "2\n",
            "3\n"
          ]
        },
        {
          "output_type": "execute_result",
          "data": {
            "text/plain": [
              "[1, 2, 3]"
            ]
          },
          "metadata": {},
          "execution_count": 89
        }
      ]
    },
    {
      "cell_type": "code",
      "source": [
        "x = [1, 2, 3]\n",
        "y = reversed(x)\n",
        "\n",
        "for i in y:\n",
        "    print(i)\n",
        "\n",
        "for i in y:\n",
        "    print(i)\n",
        "\n",
        "y # sorted와 다르게 reversed는 한 번만 실행이 되고, 값도 리스트로 나오지도 않음."
      ],
      "metadata": {
        "colab": {
          "base_uri": "https://localhost:8080/"
        },
        "id": "rdqpwr8sUFDG",
        "outputId": "7ff4c9da-0bd4-4dc4-b26f-ecfedeb56506"
      },
      "execution_count": 92,
      "outputs": [
        {
          "output_type": "stream",
          "name": "stdout",
          "text": [
            "3\n",
            "2\n",
            "1\n"
          ]
        },
        {
          "output_type": "execute_result",
          "data": {
            "text/plain": [
              "<list_reverseiterator at 0x7e7d97f1cf70>"
            ]
          },
          "metadata": {},
          "execution_count": 92
        }
      ]
    },
    {
      "cell_type": "code",
      "source": [
        "# sorted(range(20000)) # 메모리 부하가 큰 작업"
      ],
      "metadata": {
        "id": "_XSGiMLhUWvO"
      },
      "execution_count": null,
      "outputs": []
    }
  ]
}