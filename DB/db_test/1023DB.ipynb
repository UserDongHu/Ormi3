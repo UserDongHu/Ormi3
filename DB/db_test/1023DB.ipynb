{
  "nbformat": 4,
  "nbformat_minor": 0,
  "metadata": {
    "colab": {
      "provenance": []
    },
    "kernelspec": {
      "name": "python3",
      "display_name": "Python 3"
    },
    "language_info": {
      "name": "python"
    }
  },
  "cells": [
    {
      "cell_type": "code",
      "execution_count": 2,
      "metadata": {
        "id": "xPpjbjyPAy6X"
      },
      "outputs": [],
      "source": [
        "# 실습1\n",
        "import sqlite3\n",
        "\n",
        "conn = sqlite3.connect('ex1.db')\n",
        "c = conn.cursor()\n",
        "\n",
        "c.execute('''\n",
        "CREATE TABLE books (id integer, title text, price integer)\n",
        "''')\n",
        "\n",
        "c.execute('''\n",
        "INSERT INTO books VALUES (1, 'python가이드', 5000)\n",
        "''')\n",
        "c.execute('''\n",
        "INSERT INTO books VALUES (2, 'js가이드', 5000)\n",
        "''')\n",
        "\n",
        "conn.commit()\n",
        "conn.close()"
      ]
    },
    {
      "cell_type": "code",
      "source": [
        "conn = sqlite3.connect('ex1.db')\n",
        "c = conn.cursor()\n",
        "\n",
        "# 데이터 조회\n",
        "for row in c.execute('SELECT * FROM books ORDER BY id'):\n",
        "    print(row)\n",
        "\n",
        "# 연결 종료\n",
        "conn.close()"
      ],
      "metadata": {
        "colab": {
          "base_uri": "https://localhost:8080/"
        },
        "id": "rbwCWx2AA0pX",
        "outputId": "935538e1-d38e-48d1-de42-c3ba0857064c"
      },
      "execution_count": 4,
      "outputs": [
        {
          "output_type": "stream",
          "name": "stdout",
          "text": [
            "(1, 'python가이드', 5000)\n",
            "(2, 'js가이드', 5000)\n"
          ]
        }
      ]
    },
    {
      "cell_type": "code",
      "source": [
        "# 실습2\n",
        "import sqlite3\n",
        "\n",
        "conn = sqlite3.connect('ex2.db')\n",
        "c = conn.cursor()\n",
        "\n",
        "c.execute('''\n",
        "    CREATE TABLE books (id integer, title text, price integer)\n",
        "''')\n",
        "for i in range(10):\n",
        "    c.execute(f\"INSERT INTO books VALUES ({i}, 'python 가이드', 5000)\")\n",
        "\n",
        "conn.commit()\n",
        "conn.close()"
      ],
      "metadata": {
        "id": "fX5hlfdJCMEo"
      },
      "execution_count": 5,
      "outputs": []
    },
    {
      "cell_type": "code",
      "source": [
        "conn = sqlite3.connect('ex2.db')\n",
        "c = conn.cursor()\n",
        "\n",
        "# 데이터 조회\n",
        "for row in c.execute('SELECT * FROM books ORDER BY id'):\n",
        "    print(row)\n",
        "\n",
        "# 연결 종료\n",
        "conn.close()"
      ],
      "metadata": {
        "colab": {
          "base_uri": "https://localhost:8080/"
        },
        "id": "iughth7qDMdf",
        "outputId": "3777eea5-ec39-4e9f-c25f-a031220f6dff"
      },
      "execution_count": 7,
      "outputs": [
        {
          "output_type": "stream",
          "name": "stdout",
          "text": [
            "(0, 'python 가이드', 5000)\n",
            "(1, 'python 가이드', 5000)\n",
            "(2, 'python 가이드', 5000)\n",
            "(3, 'python 가이드', 5000)\n",
            "(4, 'python 가이드', 5000)\n",
            "(5, 'python 가이드', 5000)\n",
            "(6, 'python 가이드', 5000)\n",
            "(7, 'python 가이드', 5000)\n",
            "(8, 'python 가이드', 5000)\n",
            "(9, 'python 가이드', 5000)\n"
          ]
        }
      ]
    },
    {
      "cell_type": "code",
      "source": [
        "# 실습 3\n",
        "import sqlite3\n",
        "\n",
        "data = {\n",
        "    'id': [1, 2, 3],\n",
        "    'title': ['1', '2', '3'],\n",
        "    'content': ['11', '22', '33', '44', '55']\n",
        "}\n",
        "\n",
        "# 데이터베이스에 연결\n",
        "conn = sqlite3.connect('ex3.db')\n",
        "\n",
        "# 커서 생성\n",
        "cursor = conn.cursor()\n",
        "\n",
        "# post 테이블 생성\n",
        "cursor.execute('CREATE TABLE post (id INTEGER, title TEXT, content TEXT)')\n",
        "\n",
        "# 데이터 삽입\n",
        "for i in range(len(data['id'])):\n",
        "    cursor.execute('INSERT INTO post VALUES (?, ?, ?)', (data['id'][i], data['title'][i], data['content'][i]))\n",
        "\n",
        "# 커밋(변경 사항 저장)\n",
        "conn.commit()\n",
        "\n",
        "# 연결 닫기\n",
        "conn.close()"
      ],
      "metadata": {
        "id": "By5KCaZODWFY"
      },
      "execution_count": 8,
      "outputs": []
    },
    {
      "cell_type": "code",
      "source": [
        "conn = sqlite3.connect('ex3.db')\n",
        "c = conn.cursor()\n",
        "\n",
        "# 데이터 조회\n",
        "for row in c.execute('SELECT * FROM post'):\n",
        "    print(row)\n",
        "\n",
        "# 연결 종료\n",
        "conn.close()"
      ],
      "metadata": {
        "colab": {
          "base_uri": "https://localhost:8080/"
        },
        "id": "JZbhoJwpDrtM",
        "outputId": "182165be-cd46-4392-f201-131b2af3eed1"
      },
      "execution_count": 9,
      "outputs": [
        {
          "output_type": "stream",
          "name": "stdout",
          "text": [
            "(1, '1', '11')\n",
            "(2, '2', '22')\n",
            "(3, '3', '33')\n"
          ]
        }
      ]
    },
    {
      "cell_type": "code",
      "source": [
        "# 여기까지 되었다면\n",
        "# 데이터(크롤링 데이터, JSON 데이터, CSV 데이터)를 가지고\n",
        "# 1. 직접 쿼리를 사용해서 Django DB에 넣는 것이 가능합니다!\n",
        "# 2. db load를 사용해서 Django DB에 넣는 것이 가능합니다!\n",
        "# 3. ORM을 사용해서 넣는 것도 가능합니다!"
      ],
      "metadata": {
        "id": "pCxK0XiuDtv_"
      },
      "execution_count": 10,
      "outputs": []
    },
    {
      "cell_type": "code",
      "source": [
        "conn = sqlite3.connect('db.sqlite3')\n",
        "c = conn.cursor()\n",
        "\n",
        "for row in c.execute('SELECT * FROM blog_movie'):\n",
        "    print(row)\n",
        "\n",
        "conn.close()"
      ],
      "metadata": {
        "id": "___FBC2DD6fk"
      },
      "execution_count": 11,
      "outputs": []
    },
    {
      "cell_type": "code",
      "source": [
        "conn = sqlite3.connect('db.sqlite3')\n",
        "c = conn.cursor()\n",
        "\n",
        "for row in c.execute('SELECT * FROM blog_post'):\n",
        "    print(row)\n",
        "\n",
        "conn.close()"
      ],
      "metadata": {
        "colab": {
          "base_uri": "https://localhost:8080/"
        },
        "id": "K57YDXTAJrmo",
        "outputId": "36f7ffb8-ac27-498e-9b12-22f61daacbbe"
      },
      "execution_count": 12,
      "outputs": [
        {
          "output_type": "stream",
          "name": "stdout",
          "text": [
            "(1, '1', '11', '', '', '2023-10-23 04:14:53.618809', '2023-10-23')\n",
            "(2, '2', '22', 'blog/images/2023/10/23/sample.jpg', 'blog/files/2023/10/23/sample.mp4', '2023-10-23 04:15:12.338170', '2023-10-23')\n",
            "(3, '3', '33', 'blog/images/2023/10/23/sample_bMsNNSy.jpg', 'blog/files/2023/10/23/sample_K3XNIQq.mp4', '2023-10-23 04:15:23.196644', '2023-10-23')\n",
            "(4, 'hello world 6', '44', '', '', '2023-10-22 05:27:42.857132', '2023-10-22')\n",
            "(5, '5', '55', '', '', '2023-10-22 05:27:42.857132', '2023-10-22')\n"
          ]
        }
      ]
    },
    {
      "cell_type": "code",
      "source": [
        "import requests\n",
        "from bs4 import BeautifulSoup\n",
        "\n",
        "url = 'https://paullab.co.kr/bookservice/'\n",
        "response = requests.get(url)\n",
        "response.encoding = 'utf-8'\n",
        "html = response.text\n",
        "\n",
        "soup = BeautifulSoup(html, 'html.parser')\n",
        "data = []\n",
        "\n",
        "book_list = soup.select('.book_name')        # lecture 클래스 탐색\n",
        "for lecture in book_list:\n",
        "    data.append([lecture.text, 10])\n",
        "\n",
        "data"
      ],
      "metadata": {
        "colab": {
          "base_uri": "https://localhost:8080/"
        },
        "id": "5DOveZUHJven",
        "outputId": "b7ff4c65-542f-4bd1-bac1-daea83b42607"
      },
      "execution_count": 13,
      "outputs": [
        {
          "output_type": "execute_result",
          "data": {
            "text/plain": [
              "[['메모혁신 Notion(노션) 활용 가이드', 10],\n",
              " ['이력서 작성 가이드', 10],\n",
              " ['제주코딩베이스캠프 Code Festival: Python 100제 1부', 10],\n",
              " ['튜토리얼로 배우는 HTML&CSS', 10],\n",
              " ['코딩도장 튜토리얼로 배우는 Python 1편 object', 10],\n",
              " ['코딩도장 튜토리얼로 배우는 python 2편 제어문', 10],\n",
              " ['코딩도장 튜토리얼로 배우는 Python 문제풀이', 10],\n",
              " ['타노스의 건틀릿 알고리즘 With Python', 10],\n",
              " ['xlsxwriter 튜토리얼로 배우는 Python 엑셀 프로그래밍', 10],\n",
              " ['러플 튜토리얼로 배우는 Python', 10],\n",
              " ['인공지능을 활용한 업무자동화 With Google Developers Group JEJU', 10]]"
            ]
          },
          "metadata": {},
          "execution_count": 13
        }
      ]
    },
    {
      "cell_type": "code",
      "source": [],
      "metadata": {
        "id": "fQR9NbLYLmLD"
      },
      "execution_count": null,
      "outputs": []
    }
  ]
}